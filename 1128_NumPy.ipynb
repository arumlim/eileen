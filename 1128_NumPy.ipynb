{
  "nbformat": 4,
  "nbformat_minor": 0,
  "metadata": {
    "kernelspec": {
      "display_name": "Python 3 (ipykernel)",
      "language": "python",
      "name": "python3"
    },
    "language_info": {
      "codemirror_mode": {
        "name": "ipython",
        "version": 3
      },
      "file_extension": ".py",
      "mimetype": "text/x-python",
      "name": "python",
      "nbconvert_exporter": "python",
      "pygments_lexer": "ipython3",
      "version": "3.9.6"
    },
    "colab": {
      "name": "1128 NumPy.ipynb",
      "provenance": [],
      "collapsed_sections": [],
      "include_colab_link": true
    }
  },
  "cells": [
    {
      "cell_type": "markdown",
      "metadata": {
        "id": "view-in-github",
        "colab_type": "text"
      },
      "source": [
        "<a href=\"https://colab.research.google.com/github/arumlim/eileen/blob/master/1128_NumPy.ipynb\" target=\"_parent\"><img src=\"https://colab.research.google.com/assets/colab-badge.svg\" alt=\"Open In Colab\"/></a>"
      ]
    },
    {
      "cell_type": "code",
      "metadata": {
        "id": "f-eTzBoO1PGM"
      },
      "source": [
        "import numpy as np"
      ],
      "execution_count": 7,
      "outputs": []
    },
    {
      "cell_type": "markdown",
      "metadata": {
        "id": "B4LAC_Y-6SaG"
      },
      "source": [
        "### array 생성하기"
      ]
    },
    {
      "cell_type": "code",
      "metadata": {
        "id": "kKOv-B-W1PGQ",
        "colab": {
          "base_uri": "https://localhost:8080/"
        },
        "outputId": "4d60d983-a169-4647-9d47-bc059729dbd1"
      },
      "source": [
        "# 1차원\n",
        "array_1D = np.array([1,2,3])\n",
        "print(array_1D)"
      ],
      "execution_count": null,
      "outputs": [
        {
          "output_type": "stream",
          "name": "stdout",
          "text": [
            "[1 2 3]\n"
          ]
        }
      ]
    },
    {
      "cell_type": "code",
      "metadata": {
        "id": "XMmsR20p1PGS",
        "outputId": "12698c04-de62-4913-a831-f45b071b2771"
      },
      "source": [
        "# 2차원 array\n",
        "array_2D = np.array([[1,2,3],\n",
        "               [4,5,6]])\n",
        "print(array_2D)"
      ],
      "execution_count": null,
      "outputs": [
        {
          "name": "stdout",
          "output_type": "stream",
          "text": [
            "[[1 2 3]\n",
            " [4 5 6]]\n"
          ]
        }
      ]
    },
    {
      "cell_type": "code",
      "metadata": {
        "id": "T0OwRmTZCbd0",
        "colab": {
          "base_uri": "https://localhost:8080/"
        },
        "outputId": "0afa2bdd-2018-4d4d-a838-d06f96a21d60"
      },
      "source": [
        "array_2D = np.array([[6,1,2],\n",
        "                    [3,6,9],\n",
        "                    [4,7,8]])\n",
        "print(array_2D)"
      ],
      "execution_count": null,
      "outputs": [
        {
          "output_type": "stream",
          "name": "stdout",
          "text": [
            "[[6 1 2]\n",
            " [3 6 9]\n",
            " [4 7 8]]\n"
          ]
        }
      ]
    },
    {
      "cell_type": "code",
      "metadata": {
        "id": "cbt_dmPi1PGT",
        "outputId": "2994c063-fe18-4470-9ce2-7b390cec1c2d"
      },
      "source": [
        "# 3차원 array\n",
        "array_3D = np.array([[[1,2,3],\n",
        "                [4,5,6]],\n",
        "               [[1,2,3],\n",
        "                [4,5,6]]])\n",
        "print(array_3D)"
      ],
      "execution_count": null,
      "outputs": [
        {
          "name": "stdout",
          "output_type": "stream",
          "text": [
            "[[[1 2 3]\n",
            "  [4 5 6]]\n",
            "\n",
            " [[1 2 3]\n",
            "  [4 5 6]]]\n"
          ]
        }
      ]
    },
    {
      "cell_type": "markdown",
      "metadata": {
        "id": "Pgi-zuIY6VWz"
      },
      "source": [
        "### array 기초 통계량 활용하기"
      ]
    },
    {
      "cell_type": "code",
      "metadata": {
        "id": "6EUCZFPh1PGT",
        "outputId": "22df4fe6-a63c-40fc-ecb7-9c93013b94d8"
      },
      "source": [
        "array_2D"
      ],
      "execution_count": null,
      "outputs": [
        {
          "data": {
            "text/plain": [
              "array([[1, 2, 3],\n",
              "       [4, 5, 6]])"
            ]
          },
          "execution_count": 9,
          "metadata": {},
          "output_type": "execute_result"
        }
      ]
    },
    {
      "cell_type": "code",
      "metadata": {
        "id": "Wqd-evoq1PGU",
        "colab": {
          "base_uri": "https://localhost:8080/"
        },
        "outputId": "455ad695-f746-40df-aaa7-8a562319d3f6"
      },
      "source": [
        "array_2D.max()"
      ],
      "execution_count": null,
      "outputs": [
        {
          "output_type": "execute_result",
          "data": {
            "text/plain": [
              "9"
            ]
          },
          "metadata": {},
          "execution_count": 13
        }
      ]
    },
    {
      "cell_type": "code",
      "metadata": {
        "id": "t1jHrNg81PGU",
        "colab": {
          "base_uri": "https://localhost:8080/"
        },
        "outputId": "cc139a76-dd8b-4c7f-9614-c2469ac5a470"
      },
      "source": [
        "array_2D.mean()"
      ],
      "execution_count": null,
      "outputs": [
        {
          "output_type": "execute_result",
          "data": {
            "text/plain": [
              "5.111111111111111"
            ]
          },
          "metadata": {},
          "execution_count": 14
        }
      ]
    },
    {
      "cell_type": "code",
      "metadata": {
        "id": "rPgWNEB-1PGV",
        "colab": {
          "base_uri": "https://localhost:8080/"
        },
        "outputId": "4eba02d4-d81d-47bc-ee60-21a18cfca8f1"
      },
      "source": [
        "array_2D.min()"
      ],
      "execution_count": null,
      "outputs": [
        {
          "output_type": "execute_result",
          "data": {
            "text/plain": [
              "1"
            ]
          },
          "metadata": {},
          "execution_count": 15
        }
      ]
    },
    {
      "cell_type": "code",
      "metadata": {
        "id": "iKisPb8o1PGW",
        "colab": {
          "base_uri": "https://localhost:8080/"
        },
        "outputId": "5d35c363-b43a-4cc7-b741-f1207b3cb3e0"
      },
      "source": [
        "array_2D.sum()"
      ],
      "execution_count": null,
      "outputs": [
        {
          "output_type": "execute_result",
          "data": {
            "text/plain": [
              "46"
            ]
          },
          "metadata": {},
          "execution_count": 16
        }
      ]
    },
    {
      "cell_type": "markdown",
      "metadata": {
        "id": "KS9NGV-q6YiM"
      },
      "source": [
        "### array 모양 변경하기 "
      ]
    },
    {
      "cell_type": "code",
      "metadata": {
        "id": "9JemlvDU1PGY",
        "colab": {
          "base_uri": "https://localhost:8080/"
        },
        "outputId": "e84e9744-610b-4dfa-83fc-e76d6b4774c8"
      },
      "source": [
        "reshape_array = np.arange(100)\n",
        "print(reshape_array)"
      ],
      "execution_count": 8,
      "outputs": [
        {
          "output_type": "stream",
          "name": "stdout",
          "text": [
            "[ 0  1  2  3  4  5  6  7  8  9 10 11 12 13 14 15 16 17 18 19 20 21 22 23\n",
            " 24 25 26 27 28 29 30 31 32 33 34 35 36 37 38 39 40 41 42 43 44 45 46 47\n",
            " 48 49 50 51 52 53 54 55 56 57 58 59 60 61 62 63 64 65 66 67 68 69 70 71\n",
            " 72 73 74 75 76 77 78 79 80 81 82 83 84 85 86 87 88 89 90 91 92 93 94 95\n",
            " 96 97 98 99]\n"
          ]
        }
      ]
    },
    {
      "cell_type": "markdown",
      "metadata": {
        "id": "ivHJe5SeHfmS"
      },
      "source": [
        "데이터 리쉐입이 중요한이유. 인공지능 데이터의 리쉐입이 중요. 여러데이터가 들어왔을때 데이터의 형태가 맞아줘야함."
      ]
    },
    {
      "cell_type": "code",
      "metadata": {
        "id": "2Mkaa8qU1PGY",
        "colab": {
          "base_uri": "https://localhost:8080/"
        },
        "outputId": "fde67f32-7546-4009-f3b3-bb3f1f2550a7"
      },
      "source": [
        "reshape_array = reshape_array.reshape(20, -1)  # -1 : 알아서 맞추라는 명령어\n",
        "\n",
        "print(reshape_array)"
      ],
      "execution_count": 9,
      "outputs": [
        {
          "output_type": "stream",
          "name": "stdout",
          "text": [
            "[[ 0  1  2  3  4]\n",
            " [ 5  6  7  8  9]\n",
            " [10 11 12 13 14]\n",
            " [15 16 17 18 19]\n",
            " [20 21 22 23 24]\n",
            " [25 26 27 28 29]\n",
            " [30 31 32 33 34]\n",
            " [35 36 37 38 39]\n",
            " [40 41 42 43 44]\n",
            " [45 46 47 48 49]\n",
            " [50 51 52 53 54]\n",
            " [55 56 57 58 59]\n",
            " [60 61 62 63 64]\n",
            " [65 66 67 68 69]\n",
            " [70 71 72 73 74]\n",
            " [75 76 77 78 79]\n",
            " [80 81 82 83 84]\n",
            " [85 86 87 88 89]\n",
            " [90 91 92 93 94]\n",
            " [95 96 97 98 99]]\n"
          ]
        }
      ]
    },
    {
      "cell_type": "code",
      "metadata": {
        "id": "sECjTDV21PGZ",
        "colab": {
          "base_uri": "https://localhost:8080/"
        },
        "outputId": "c7bee0e6-f35c-4b3a-94a4-8e841321df2a"
      },
      "source": [
        "reshape_array.shape"
      ],
      "execution_count": 10,
      "outputs": [
        {
          "output_type": "execute_result",
          "data": {
            "text/plain": [
              "(20, 5)"
            ]
          },
          "metadata": {},
          "execution_count": 10
        }
      ]
    },
    {
      "cell_type": "code",
      "metadata": {
        "id": "QP8kJa0G1PGZ",
        "colab": {
          "base_uri": "https://localhost:8080/"
        },
        "outputId": "64e0ed39-09b9-4010-e436-15debd3cb18f"
      },
      "source": [
        "reshape_array.ndim #몇 차원이니?"
      ],
      "execution_count": 11,
      "outputs": [
        {
          "output_type": "execute_result",
          "data": {
            "text/plain": [
              "2"
            ]
          },
          "metadata": {},
          "execution_count": 11
        }
      ]
    },
    {
      "cell_type": "code",
      "metadata": {
        "id": "oisNLsUt1PGa",
        "colab": {
          "base_uri": "https://localhost:8080/"
        },
        "outputId": "4348c6dd-6823-4522-a74f-da984f48ef62"
      },
      "source": [
        "reshape_array.size"
      ],
      "execution_count": 12,
      "outputs": [
        {
          "output_type": "execute_result",
          "data": {
            "text/plain": [
              "100"
            ]
          },
          "metadata": {},
          "execution_count": 12
        }
      ]
    },
    {
      "cell_type": "code",
      "metadata": {
        "id": "nDh6fS-S1PGa",
        "colab": {
          "base_uri": "https://localhost:8080/"
        },
        "outputId": "9188d157-2050-4427-c668-7938878c5e3a"
      },
      "source": [
        "array_1D = np.arange(0, 100, 5)\n",
        "print(array_1D)"
      ],
      "execution_count": 13,
      "outputs": [
        {
          "output_type": "stream",
          "name": "stdout",
          "text": [
            "[ 0  5 10 15 20 25 30 35 40 45 50 55 60 65 70 75 80 85 90 95]\n"
          ]
        }
      ]
    },
    {
      "cell_type": "code",
      "metadata": {
        "id": "LR76qLeO1PGa",
        "colab": {
          "base_uri": "https://localhost:8080/"
        },
        "outputId": "f83dbd17-ccaa-4ae8-a3c9-262401fc7b3d"
      },
      "source": [
        "reshape_array_3D = array_1D.reshape(2, 2, 5)\n",
        "reshape_array_3D"
      ],
      "execution_count": 14,
      "outputs": [
        {
          "output_type": "execute_result",
          "data": {
            "text/plain": [
              "array([[[ 0,  5, 10, 15, 20],\n",
              "        [25, 30, 35, 40, 45]],\n",
              "\n",
              "       [[50, 55, 60, 65, 70],\n",
              "        [75, 80, 85, 90, 95]]])"
            ]
          },
          "metadata": {},
          "execution_count": 14
        }
      ]
    },
    {
      "cell_type": "markdown",
      "metadata": {
        "id": "cadBdDun6hd3"
      },
      "source": [
        "### numpy array operation"
      ]
    },
    {
      "cell_type": "code",
      "metadata": {
        "id": "iwFz3_Wf1PGb"
      },
      "source": [
        "array1 = np.array([[1, 0],\n",
        "                [0, 1]])\n",
        "array2 = np.array([[1, 2],\n",
        "                [3, 4]])"
      ],
      "execution_count": 18,
      "outputs": []
    },
    {
      "cell_type": "code",
      "metadata": {
        "id": "Uc8nW1Gw1PGb",
        "colab": {
          "base_uri": "https://localhost:8080/"
        },
        "outputId": "4f3ad522-23fe-455c-9b13-83ef0f462d50"
      },
      "source": [
        "array1 + array2"
      ],
      "execution_count": 19,
      "outputs": [
        {
          "output_type": "execute_result",
          "data": {
            "text/plain": [
              "array([[2, 2],\n",
              "       [3, 5]])"
            ]
          },
          "metadata": {},
          "execution_count": 19
        }
      ]
    },
    {
      "cell_type": "code",
      "metadata": {
        "id": "HNkJFX8I1PGb",
        "colab": {
          "base_uri": "https://localhost:8080/"
        },
        "outputId": "879728e3-deea-4b10-9535-e70e4a3e7b58"
      },
      "source": [
        "array1 - array2"
      ],
      "execution_count": 20,
      "outputs": [
        {
          "output_type": "execute_result",
          "data": {
            "text/plain": [
              "array([[ 0, -2],\n",
              "       [-3, -3]])"
            ]
          },
          "metadata": {},
          "execution_count": 20
        }
      ]
    },
    {
      "cell_type": "code",
      "metadata": {
        "id": "LCdwJ-f01PGc",
        "colab": {
          "base_uri": "https://localhost:8080/"
        },
        "outputId": "2a6b174c-4bce-4024-a5cf-f95cbe358761"
      },
      "source": [
        "array1 * array2"
      ],
      "execution_count": 21,
      "outputs": [
        {
          "output_type": "execute_result",
          "data": {
            "text/plain": [
              "array([[1, 0],\n",
              "       [0, 4]])"
            ]
          },
          "metadata": {},
          "execution_count": 21
        }
      ]
    },
    {
      "cell_type": "code",
      "metadata": {
        "id": "XUVEN_xA1PGc",
        "colab": {
          "base_uri": "https://localhost:8080/"
        },
        "outputId": "c10d4b5d-9f6e-4c44-be10-b388ca028051"
      },
      "source": [
        "array1 / array2"
      ],
      "execution_count": 22,
      "outputs": [
        {
          "output_type": "execute_result",
          "data": {
            "text/plain": [
              "array([[1.  , 0.  ],\n",
              "       [0.  , 0.25]])"
            ]
          },
          "metadata": {},
          "execution_count": 22
        }
      ]
    },
    {
      "cell_type": "code",
      "metadata": {
        "id": "a3t1IsvO1PGc",
        "colab": {
          "base_uri": "https://localhost:8080/"
        },
        "outputId": "6065f0b2-796e-4acb-cda2-c20cf30915ad"
      },
      "source": [
        "array1 + 1"
      ],
      "execution_count": 23,
      "outputs": [
        {
          "output_type": "execute_result",
          "data": {
            "text/plain": [
              "array([[2, 1],\n",
              "       [1, 2]])"
            ]
          },
          "metadata": {},
          "execution_count": 23
        }
      ]
    },
    {
      "cell_type": "code",
      "metadata": {
        "id": "_saKCcI81PGc",
        "outputId": "49afdad4-cc95-4ac8-d7bf-247b9c5108a8"
      },
      "source": [
        "array1 - 1"
      ],
      "execution_count": null,
      "outputs": [
        {
          "data": {
            "text/plain": [
              "array([[ 0, -1],\n",
              "       [-1,  0]])"
            ]
          },
          "execution_count": 34,
          "metadata": {},
          "output_type": "execute_result"
        }
      ]
    },
    {
      "cell_type": "code",
      "metadata": {
        "id": "4_1_zWB61PGc",
        "outputId": "06fad9d1-c6e8-4d67-bcfb-7ad4f7ef2a93"
      },
      "source": [
        "array1 * 2"
      ],
      "execution_count": null,
      "outputs": [
        {
          "data": {
            "text/plain": [
              "array([[2, 0],\n",
              "       [0, 2]])"
            ]
          },
          "execution_count": 35,
          "metadata": {},
          "output_type": "execute_result"
        }
      ]
    },
    {
      "cell_type": "code",
      "metadata": {
        "id": "cBj9bfZ01PGd",
        "outputId": "20f059d4-6516-4256-8334-08582668ce88"
      },
      "source": [
        "array1 / 2"
      ],
      "execution_count": null,
      "outputs": [
        {
          "data": {
            "text/plain": [
              "array([[0.5, 0. ],\n",
              "       [0. , 0.5]])"
            ]
          },
          "execution_count": 36,
          "metadata": {},
          "output_type": "execute_result"
        }
      ]
    },
    {
      "cell_type": "code",
      "metadata": {
        "id": "DiNzRkFa1PGd",
        "colab": {
          "base_uri": "https://localhost:8080/"
        },
        "outputId": "fbc7e280-6a60-4caf-9bcc-25430cdb5acd"
      },
      "source": [
        "np.dot(array1, array2) #행렬곱"
      ],
      "execution_count": 25,
      "outputs": [
        {
          "output_type": "execute_result",
          "data": {
            "text/plain": [
              "array([[1, 2],\n",
              "       [3, 4]])"
            ]
          },
          "metadata": {},
          "execution_count": 25
        }
      ]
    },
    {
      "cell_type": "code",
      "metadata": {
        "id": "-8ovCWga1PGd",
        "colab": {
          "base_uri": "https://localhost:8080/"
        },
        "outputId": "6556e3f5-02cc-46a6-9912-ab381595006a"
      },
      "source": [
        "n3 = np.arange(12).reshape(3,4)\n",
        "print(n3)"
      ],
      "execution_count": 27,
      "outputs": [
        {
          "output_type": "stream",
          "name": "stdout",
          "text": [
            "[[ 0  1  2  3]\n",
            " [ 4  5  6  7]\n",
            " [ 8  9 10 11]]\n"
          ]
        }
      ]
    },
    {
      "cell_type": "code",
      "metadata": {
        "id": "oxDr4iD01PGd",
        "colab": {
          "base_uri": "https://localhost:8080/"
        },
        "outputId": "79dbb7c1-e11d-4316-8648-529eea208e8e"
      },
      "source": [
        "print(n3.max())     # 최대값\n",
        "print(n3.min())     # 최소값\n",
        "print(n3.sum())     # 전체 합\n",
        "print(n3.mean())     # 평균값\n",
        "print(n3.std())     # 표준편차\n",
        "print(n3.var())     # 분산\n",
        "print(n3.cumsum())     # 각 원소의 누적 합\n",
        "print(n3.cumprod())     # 각 원소의 누적 곱"
      ],
      "execution_count": 26,
      "outputs": [
        {
          "output_type": "stream",
          "name": "stdout",
          "text": [
            "11\n",
            "0\n",
            "66\n",
            "5.5\n",
            "3.452052529534663\n",
            "11.916666666666666\n",
            "[ 0  1  3  6 10 15 21 28 36 45 55 66]\n",
            "[0 0 0 0 0 0 0 0 0 0 0 0]\n"
          ]
        }
      ]
    },
    {
      "cell_type": "code",
      "metadata": {
        "colab": {
          "base_uri": "https://localhost:8080/"
        },
        "id": "2E_IN0dyJSSg",
        "outputId": "32d2e14b-2c7b-4098-d669-0e6550d7081b"
      },
      "source": [
        "n3"
      ],
      "execution_count": 28,
      "outputs": [
        {
          "output_type": "execute_result",
          "data": {
            "text/plain": [
              "array([[ 0,  1,  2,  3],\n",
              "       [ 4,  5,  6,  7],\n",
              "       [ 8,  9, 10, 11]])"
            ]
          },
          "metadata": {},
          "execution_count": 28
        }
      ]
    },
    {
      "cell_type": "code",
      "metadata": {
        "id": "7LZx836P1PGd",
        "colab": {
          "base_uri": "https://localhost:8080/"
        },
        "outputId": "aac406c5-b1bb-49fa-e68e-7c3764c9c1d9"
      },
      "source": [
        "n3.sum(axis=0)     # 열 합계 colum 가로줄/ axis=0"
      ],
      "execution_count": 29,
      "outputs": [
        {
          "output_type": "execute_result",
          "data": {
            "text/plain": [
              "array([12, 15, 18, 21])"
            ]
          },
          "metadata": {},
          "execution_count": 29
        }
      ]
    },
    {
      "cell_type": "code",
      "metadata": {
        "id": "F35mUW711PGd",
        "outputId": "5e168d9b-5c93-4f9a-e4d9-35880d3e0c2a"
      },
      "source": [
        "n3.sum(axis=1)     # 행 합계  row 세로줄/ axis=1"
      ],
      "execution_count": null,
      "outputs": [
        {
          "data": {
            "text/plain": [
              "array([ 6, 22, 38])"
            ]
          },
          "execution_count": 28,
          "metadata": {},
          "output_type": "execute_result"
        }
      ]
    },
    {
      "cell_type": "code",
      "metadata": {
        "id": "mskkt-2m1PGd",
        "outputId": "31c1ebf5-9d48-4cd7-d016-f281761ed715"
      },
      "source": [
        "n3.max(axis=1)     # 각 행에서 최대값"
      ],
      "execution_count": null,
      "outputs": [
        {
          "data": {
            "text/plain": [
              "array([ 3,  7, 11])"
            ]
          },
          "execution_count": 29,
          "metadata": {},
          "output_type": "execute_result"
        }
      ]
    },
    {
      "cell_type": "code",
      "metadata": {
        "id": "WlcQF6W11PGd",
        "outputId": "1ae23984-a71a-4da5-aee2-3503d07c2449"
      },
      "source": [
        "n3.mean(axis=0)     # 각 열의 평균값"
      ],
      "execution_count": null,
      "outputs": [
        {
          "data": {
            "text/plain": [
              "array([4., 5., 6., 7.])"
            ]
          },
          "execution_count": 30,
          "metadata": {},
          "output_type": "execute_result"
        }
      ]
    },
    {
      "cell_type": "code",
      "metadata": {
        "colab": {
          "base_uri": "https://localhost:8080/"
        },
        "id": "j1-QdRWtJ0ZM",
        "outputId": "d9142e0b-44ab-46c3-cbb0-56c398f00c62"
      },
      "source": [
        "n3.cumsum(axis=0)  "
      ],
      "execution_count": 31,
      "outputs": [
        {
          "output_type": "execute_result",
          "data": {
            "text/plain": [
              "array([[ 0,  1,  2,  3],\n",
              "       [ 4,  6,  8, 10],\n",
              "       [12, 15, 18, 21]])"
            ]
          },
          "metadata": {},
          "execution_count": 31
        }
      ]
    },
    {
      "cell_type": "code",
      "metadata": {
        "colab": {
          "base_uri": "https://localhost:8080/"
        },
        "id": "q4BBz0NBJ_ip",
        "outputId": "3a9b0c2b-9af5-446d-ba6c-eee7846beb39"
      },
      "source": [
        "n3.cumsum(axis=1)  "
      ],
      "execution_count": 32,
      "outputs": [
        {
          "output_type": "execute_result",
          "data": {
            "text/plain": [
              "array([[ 0,  1,  3,  6],\n",
              "       [ 4,  9, 15, 22],\n",
              "       [ 8, 17, 27, 38]])"
            ]
          },
          "metadata": {},
          "execution_count": 32
        }
      ]
    },
    {
      "cell_type": "markdown",
      "metadata": {
        "id": "GUtF0n426mlg"
      },
      "source": [
        "### array stack"
      ]
    },
    {
      "cell_type": "code",
      "metadata": {
        "id": "IzqYcH_c1PGe",
        "colab": {
          "base_uri": "https://localhost:8080/"
        },
        "outputId": "0fdf402d-50a0-4e46-9b97-80ec268dbd78"
      },
      "source": [
        "v1 = np.arange(11, 16)\n",
        "print(v1)\n",
        "v2 = v1 + 10\n",
        "print(v2)\n",
        "v3 = v2 + 10\n",
        "print(v3)"
      ],
      "execution_count": 33,
      "outputs": [
        {
          "output_type": "stream",
          "name": "stdout",
          "text": [
            "[11 12 13 14 15]\n",
            "[21 22 23 24 25]\n",
            "[31 32 33 34 35]\n"
          ]
        }
      ]
    },
    {
      "cell_type": "code",
      "metadata": {
        "id": "JVQe4cXP1PGe",
        "colab": {
          "base_uri": "https://localhost:8080/"
        },
        "outputId": "7e00c3e9-11d4-427b-f113-490382533ee7"
      },
      "source": [
        "v = np.vstack((v1, v2))\n",
        "v = np.vstack((v, v3))\n",
        "print(v)"
      ],
      "execution_count": 34,
      "outputs": [
        {
          "output_type": "stream",
          "name": "stdout",
          "text": [
            "[[11 12 13 14 15]\n",
            " [21 22 23 24 25]\n",
            " [31 32 33 34 35]]\n"
          ]
        }
      ]
    },
    {
      "cell_type": "code",
      "metadata": {
        "id": "uPjvdSGe1PGe"
      },
      "source": [
        "v = np.array([[11, 12, 13, 14, 15],\n",
        "              [21, 22, 23, 24, 25],\n",
        "              [31, 32, 33, 34, 35],\n",
        "              [41, 42, 43, 44, 45]])"
      ],
      "execution_count": 46,
      "outputs": []
    },
    {
      "cell_type": "code",
      "metadata": {
        "id": "dF9Y4h471PGe",
        "outputId": "a911aae3-6db6-41d9-f5bd-a094186121ac"
      },
      "source": [
        "v[1, 2]"
      ],
      "execution_count": null,
      "outputs": [
        {
          "data": {
            "text/plain": [
              "23"
            ]
          },
          "execution_count": 35,
          "metadata": {},
          "output_type": "execute_result"
        }
      ]
    },
    {
      "cell_type": "code",
      "metadata": {
        "id": "Htj-umzO1PGe",
        "outputId": "9084a705-facf-4ac3-deb9-7a2824b2980b"
      },
      "source": [
        "v[1][2]"
      ],
      "execution_count": null,
      "outputs": [
        {
          "data": {
            "text/plain": [
              "23"
            ]
          },
          "execution_count": 36,
          "metadata": {},
          "output_type": "execute_result"
        }
      ]
    },
    {
      "cell_type": "code",
      "metadata": {
        "id": "4qPrHXY51PGf",
        "outputId": "f8b645d8-36d5-40ee-9ca5-c073c5a32497"
      },
      "source": [
        "v[1:3, 1]"
      ],
      "execution_count": null,
      "outputs": [
        {
          "data": {
            "text/plain": [
              "array([22, 32])"
            ]
          },
          "execution_count": 38,
          "metadata": {},
          "output_type": "execute_result"
        }
      ]
    },
    {
      "cell_type": "code",
      "metadata": {
        "id": "0O0OwJUL1PGf",
        "outputId": "494cdaaa-f1e1-4f65-f966-577219225d5f"
      },
      "source": [
        "v[1, :]"
      ],
      "execution_count": null,
      "outputs": [
        {
          "data": {
            "text/plain": [
              "array([21, 22, 23, 24, 25])"
            ]
          },
          "execution_count": 39,
          "metadata": {},
          "output_type": "execute_result"
        }
      ]
    },
    {
      "cell_type": "code",
      "metadata": {
        "id": "dtsZMrLS1PGe",
        "outputId": "8b012bec-87f3-443f-bb47-fd864a99f9a8"
      },
      "source": [
        "v[:, 1]"
      ],
      "execution_count": null,
      "outputs": [
        {
          "data": {
            "text/plain": [
              "array([12, 22, 32, 42])"
            ]
          },
          "execution_count": 37,
          "metadata": {},
          "output_type": "execute_result"
        }
      ]
    },
    {
      "cell_type": "code",
      "metadata": {
        "id": "K_uPSLDpMHD4"
      },
      "source": [
        "Q.array([33,44]) 가 나오게 슬라이싱"
      ],
      "execution_count": null,
      "outputs": []
    },
    {
      "cell_type": "code",
      "metadata": {
        "colab": {
          "base_uri": "https://localhost:8080/"
        },
        "id": "Sy9Uv1TQMgo2",
        "outputId": "ee64b8b5-82f9-4f5c-a21e-623c1651ba35"
      },
      "source": [
        "v[2,2:4]"
      ],
      "execution_count": 49,
      "outputs": [
        {
          "output_type": "execute_result",
          "data": {
            "text/plain": [
              "array([33, 34])"
            ]
          },
          "metadata": {},
          "execution_count": 49
        }
      ]
    },
    {
      "cell_type": "code",
      "metadata": {
        "colab": {
          "base_uri": "https://localhost:8080/"
        },
        "id": "rXwNmOhAOYRU",
        "outputId": "06733836-5f6b-4a14-c9d2-ecb9edc4413f"
      },
      "source": [
        "v[0:,3] # v[row,colum]"
      ],
      "execution_count": 54,
      "outputs": [
        {
          "output_type": "execute_result",
          "data": {
            "text/plain": [
              "array([14, 24, 34, 44])"
            ]
          },
          "metadata": {},
          "execution_count": 54
        }
      ]
    },
    {
      "cell_type": "code",
      "metadata": {
        "colab": {
          "base_uri": "https://localhost:8080/"
        },
        "id": "YfsDF7a7PLMm",
        "outputId": "78228ca6-5e51-4f01-a1b1-b9dd02bcfe76"
      },
      "source": [
        "v [1:3,2:4]"
      ],
      "execution_count": 55,
      "outputs": [
        {
          "output_type": "execute_result",
          "data": {
            "text/plain": [
              "array([[23, 24],\n",
              "       [33, 34]])"
            ]
          },
          "metadata": {},
          "execution_count": 55
        }
      ]
    },
    {
      "cell_type": "code",
      "metadata": {
        "id": "xzsgGzdmPcvT"
      },
      "source": [
        ""
      ],
      "execution_count": null,
      "outputs": []
    }
  ]
}