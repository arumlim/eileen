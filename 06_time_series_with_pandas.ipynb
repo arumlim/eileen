{
  "nbformat": 4,
  "nbformat_minor": 0,
  "metadata": {
    "kernelspec": {
      "display_name": "Python 3 (ipykernel)",
      "language": "python",
      "name": "python3"
    },
    "language_info": {
      "codemirror_mode": {
        "name": "ipython",
        "version": 3
      },
      "file_extension": ".py",
      "mimetype": "text/x-python",
      "name": "python",
      "nbconvert_exporter": "python",
      "pygments_lexer": "ipython3",
      "version": "3.9.6"
    },
    "colab": {
      "name": "06. time series with pandas.ipynb",
      "provenance": [],
      "collapsed_sections": [],
      "include_colab_link": true
    }
  },
  "cells": [
    {
      "cell_type": "markdown",
      "metadata": {
        "id": "view-in-github",
        "colab_type": "text"
      },
      "source": [
        "<a href=\"https://colab.research.google.com/github/arumlim/eileen/blob/master/06_time_series_with_pandas.ipynb\" target=\"_parent\"><img src=\"https://colab.research.google.com/assets/colab-badge.svg\" alt=\"Open In Colab\"/></a>"
      ]
    },
    {
      "cell_type": "markdown",
      "metadata": {
        "id": "bLsHW3w0GCSF"
      },
      "source": [
        "## 금융 시계열 데이터 분석에 유용한 pandas 함수들"
      ]
    },
    {
      "cell_type": "markdown",
      "metadata": {
        "id": "9MpIj_mUGCSF"
      },
      "source": [
        "#### Shifting and lags\n",
        "우리는 원하는 시간 주기로 간격만큼 index를 shift할 수 있다. <br/>\n",
        "shift 함수는 pandas를 이용할때 다양한 곳에서 유용하게 사용된다. 다른 시간의 시계열 데이터와 비교할 때 유용하다.<br/>\n"
      ]
    },
    {
      "cell_type": "code",
      "metadata": {
        "colab": {
          "base_uri": "https://localhost:8080/"
        },
        "id": "Yb7JmpeTK-X9",
        "outputId": "ec2ab963-6706-4686-90e1-bd00a3c08dc7"
      },
      "source": [
        "!pip install -U finance-datareader"
      ],
      "execution_count": null,
      "outputs": [
        {
          "output_type": "stream",
          "name": "stdout",
          "text": [
            "Collecting finance-datareader\n",
            "  Downloading finance_datareader-0.9.31-py3-none-any.whl (17 kB)\n",
            "Requirement already satisfied: requests>=2.3.0 in /usr/local/lib/python3.7/dist-packages (from finance-datareader) (2.23.0)\n",
            "Requirement already satisfied: pandas>=0.19.2 in /usr/local/lib/python3.7/dist-packages (from finance-datareader) (1.1.5)\n",
            "Requirement already satisfied: tqdm in /usr/local/lib/python3.7/dist-packages (from finance-datareader) (4.62.3)\n",
            "Requirement already satisfied: lxml in /usr/local/lib/python3.7/dist-packages (from finance-datareader) (4.2.6)\n",
            "Collecting requests-file\n",
            "  Downloading requests_file-1.5.1-py2.py3-none-any.whl (3.7 kB)\n",
            "Requirement already satisfied: python-dateutil>=2.7.3 in /usr/local/lib/python3.7/dist-packages (from pandas>=0.19.2->finance-datareader) (2.8.2)\n",
            "Requirement already satisfied: pytz>=2017.2 in /usr/local/lib/python3.7/dist-packages (from pandas>=0.19.2->finance-datareader) (2018.9)\n",
            "Requirement already satisfied: numpy>=1.15.4 in /usr/local/lib/python3.7/dist-packages (from pandas>=0.19.2->finance-datareader) (1.19.5)\n",
            "Requirement already satisfied: six>=1.5 in /usr/local/lib/python3.7/dist-packages (from python-dateutil>=2.7.3->pandas>=0.19.2->finance-datareader) (1.15.0)\n",
            "Requirement already satisfied: urllib3!=1.25.0,!=1.25.1,<1.26,>=1.21.1 in /usr/local/lib/python3.7/dist-packages (from requests>=2.3.0->finance-datareader) (1.24.3)\n",
            "Requirement already satisfied: idna<3,>=2.5 in /usr/local/lib/python3.7/dist-packages (from requests>=2.3.0->finance-datareader) (2.10)\n",
            "Requirement already satisfied: chardet<4,>=3.0.2 in /usr/local/lib/python3.7/dist-packages (from requests>=2.3.0->finance-datareader) (3.0.4)\n",
            "Requirement already satisfied: certifi>=2017.4.17 in /usr/local/lib/python3.7/dist-packages (from requests>=2.3.0->finance-datareader) (2021.10.8)\n",
            "Installing collected packages: requests-file, finance-datareader\n",
            "Successfully installed finance-datareader-0.9.31 requests-file-1.5.1\n"
          ]
        }
      ]
    },
    {
      "cell_type": "code",
      "metadata": {
        "colab": {
          "base_uri": "https://localhost:8080/",
          "height": 394
        },
        "id": "i7Y0pHdiLPuA",
        "outputId": "7ac26319-187b-4bf7-8183-92c0c5e8e588"
      },
      "source": [
        "import FinanceDataReader as fdr\n",
        "aapl_df = fdr.DataReader('AAPL', '2018')\n",
        "aapl_df.head(10)"
      ],
      "execution_count": null,
      "outputs": [
        {
          "output_type": "execute_result",
          "data": {
            "text/html": [
              "<div>\n",
              "<style scoped>\n",
              "    .dataframe tbody tr th:only-of-type {\n",
              "        vertical-align: middle;\n",
              "    }\n",
              "\n",
              "    .dataframe tbody tr th {\n",
              "        vertical-align: top;\n",
              "    }\n",
              "\n",
              "    .dataframe thead th {\n",
              "        text-align: right;\n",
              "    }\n",
              "</style>\n",
              "<table border=\"1\" class=\"dataframe\">\n",
              "  <thead>\n",
              "    <tr style=\"text-align: right;\">\n",
              "      <th></th>\n",
              "      <th>Close</th>\n",
              "      <th>Open</th>\n",
              "      <th>High</th>\n",
              "      <th>Low</th>\n",
              "      <th>Volume</th>\n",
              "      <th>Change</th>\n",
              "    </tr>\n",
              "    <tr>\n",
              "      <th>Date</th>\n",
              "      <th></th>\n",
              "      <th></th>\n",
              "      <th></th>\n",
              "      <th></th>\n",
              "      <th></th>\n",
              "      <th></th>\n",
              "    </tr>\n",
              "  </thead>\n",
              "  <tbody>\n",
              "    <tr>\n",
              "      <th>2018-01-02</th>\n",
              "      <td>43.06</td>\n",
              "      <td>42.54</td>\n",
              "      <td>43.08</td>\n",
              "      <td>42.31</td>\n",
              "      <td>102220000.0</td>\n",
              "      <td>0.0177</td>\n",
              "    </tr>\n",
              "    <tr>\n",
              "      <th>2018-01-03</th>\n",
              "      <td>43.06</td>\n",
              "      <td>43.13</td>\n",
              "      <td>43.64</td>\n",
              "      <td>42.99</td>\n",
              "      <td>118070000.0</td>\n",
              "      <td>0.0000</td>\n",
              "    </tr>\n",
              "    <tr>\n",
              "      <th>2018-01-04</th>\n",
              "      <td>43.26</td>\n",
              "      <td>43.13</td>\n",
              "      <td>43.37</td>\n",
              "      <td>43.02</td>\n",
              "      <td>89740000.0</td>\n",
              "      <td>0.0046</td>\n",
              "    </tr>\n",
              "    <tr>\n",
              "      <th>2018-01-05</th>\n",
              "      <td>43.75</td>\n",
              "      <td>43.36</td>\n",
              "      <td>43.84</td>\n",
              "      <td>43.26</td>\n",
              "      <td>94640000.0</td>\n",
              "      <td>0.0113</td>\n",
              "    </tr>\n",
              "    <tr>\n",
              "      <th>2018-01-08</th>\n",
              "      <td>43.59</td>\n",
              "      <td>43.59</td>\n",
              "      <td>43.90</td>\n",
              "      <td>43.48</td>\n",
              "      <td>82270000.0</td>\n",
              "      <td>-0.0037</td>\n",
              "    </tr>\n",
              "    <tr>\n",
              "      <th>2018-01-09</th>\n",
              "      <td>43.58</td>\n",
              "      <td>43.64</td>\n",
              "      <td>43.77</td>\n",
              "      <td>43.35</td>\n",
              "      <td>86340000.0</td>\n",
              "      <td>-0.0002</td>\n",
              "    </tr>\n",
              "    <tr>\n",
              "      <th>2018-01-10</th>\n",
              "      <td>43.57</td>\n",
              "      <td>43.29</td>\n",
              "      <td>43.58</td>\n",
              "      <td>43.25</td>\n",
              "      <td>95840000.0</td>\n",
              "      <td>-0.0002</td>\n",
              "    </tr>\n",
              "    <tr>\n",
              "      <th>2018-01-11</th>\n",
              "      <td>43.82</td>\n",
              "      <td>43.65</td>\n",
              "      <td>43.87</td>\n",
              "      <td>43.62</td>\n",
              "      <td>74670000.0</td>\n",
              "      <td>0.0057</td>\n",
              "    </tr>\n",
              "    <tr>\n",
              "      <th>2018-01-12</th>\n",
              "      <td>44.27</td>\n",
              "      <td>44.05</td>\n",
              "      <td>44.34</td>\n",
              "      <td>43.91</td>\n",
              "      <td>101670000.0</td>\n",
              "      <td>0.0103</td>\n",
              "    </tr>\n",
              "    <tr>\n",
              "      <th>2018-01-16</th>\n",
              "      <td>44.05</td>\n",
              "      <td>44.48</td>\n",
              "      <td>44.85</td>\n",
              "      <td>44.03</td>\n",
              "      <td>118260000.0</td>\n",
              "      <td>-0.0050</td>\n",
              "    </tr>\n",
              "  </tbody>\n",
              "</table>\n",
              "</div>"
            ],
            "text/plain": [
              "            Close   Open   High    Low       Volume  Change\n",
              "Date                                                       \n",
              "2018-01-02  43.06  42.54  43.08  42.31  102220000.0  0.0177\n",
              "2018-01-03  43.06  43.13  43.64  42.99  118070000.0  0.0000\n",
              "2018-01-04  43.26  43.13  43.37  43.02   89740000.0  0.0046\n",
              "2018-01-05  43.75  43.36  43.84  43.26   94640000.0  0.0113\n",
              "2018-01-08  43.59  43.59  43.90  43.48   82270000.0 -0.0037\n",
              "2018-01-09  43.58  43.64  43.77  43.35   86340000.0 -0.0002\n",
              "2018-01-10  43.57  43.29  43.58  43.25   95840000.0 -0.0002\n",
              "2018-01-11  43.82  43.65  43.87  43.62   74670000.0  0.0057\n",
              "2018-01-12  44.27  44.05  44.34  43.91  101670000.0  0.0103\n",
              "2018-01-16  44.05  44.48  44.85  44.03  118260000.0 -0.0050"
            ]
          },
          "metadata": {},
          "execution_count": 2
        }
      ]
    },
    {
      "cell_type": "code",
      "metadata": {
        "id": "q7eFOt2nGCSF"
      },
      "source": [
        "aapl_df['Close_lag1'] = aapl_df['Close'].shift(1) "
      ],
      "execution_count": null,
      "outputs": []
    },
    {
      "cell_type": "code",
      "metadata": {
        "colab": {
          "base_uri": "https://localhost:8080/",
          "height": 238
        },
        "id": "Pqqw6CtuGCSF",
        "outputId": "6f70cb98-5309-4028-ce55-480c202fffef"
      },
      "source": [
        "aapl_df.head()"
      ],
      "execution_count": null,
      "outputs": [
        {
          "output_type": "execute_result",
          "data": {
            "text/html": [
              "<div>\n",
              "<style scoped>\n",
              "    .dataframe tbody tr th:only-of-type {\n",
              "        vertical-align: middle;\n",
              "    }\n",
              "\n",
              "    .dataframe tbody tr th {\n",
              "        vertical-align: top;\n",
              "    }\n",
              "\n",
              "    .dataframe thead th {\n",
              "        text-align: right;\n",
              "    }\n",
              "</style>\n",
              "<table border=\"1\" class=\"dataframe\">\n",
              "  <thead>\n",
              "    <tr style=\"text-align: right;\">\n",
              "      <th></th>\n",
              "      <th>Close</th>\n",
              "      <th>Open</th>\n",
              "      <th>High</th>\n",
              "      <th>Low</th>\n",
              "      <th>Volume</th>\n",
              "      <th>Change</th>\n",
              "      <th>Close_lag1</th>\n",
              "    </tr>\n",
              "    <tr>\n",
              "      <th>Date</th>\n",
              "      <th></th>\n",
              "      <th></th>\n",
              "      <th></th>\n",
              "      <th></th>\n",
              "      <th></th>\n",
              "      <th></th>\n",
              "      <th></th>\n",
              "    </tr>\n",
              "  </thead>\n",
              "  <tbody>\n",
              "    <tr>\n",
              "      <th>2018-01-02</th>\n",
              "      <td>43.06</td>\n",
              "      <td>42.54</td>\n",
              "      <td>43.08</td>\n",
              "      <td>42.31</td>\n",
              "      <td>102220000.0</td>\n",
              "      <td>0.0177</td>\n",
              "      <td>NaN</td>\n",
              "    </tr>\n",
              "    <tr>\n",
              "      <th>2018-01-03</th>\n",
              "      <td>43.06</td>\n",
              "      <td>43.13</td>\n",
              "      <td>43.64</td>\n",
              "      <td>42.99</td>\n",
              "      <td>118070000.0</td>\n",
              "      <td>0.0000</td>\n",
              "      <td>43.06</td>\n",
              "    </tr>\n",
              "    <tr>\n",
              "      <th>2018-01-04</th>\n",
              "      <td>43.26</td>\n",
              "      <td>43.13</td>\n",
              "      <td>43.37</td>\n",
              "      <td>43.02</td>\n",
              "      <td>89740000.0</td>\n",
              "      <td>0.0046</td>\n",
              "      <td>43.06</td>\n",
              "    </tr>\n",
              "    <tr>\n",
              "      <th>2018-01-05</th>\n",
              "      <td>43.75</td>\n",
              "      <td>43.36</td>\n",
              "      <td>43.84</td>\n",
              "      <td>43.26</td>\n",
              "      <td>94640000.0</td>\n",
              "      <td>0.0113</td>\n",
              "      <td>43.26</td>\n",
              "    </tr>\n",
              "    <tr>\n",
              "      <th>2018-01-08</th>\n",
              "      <td>43.59</td>\n",
              "      <td>43.59</td>\n",
              "      <td>43.90</td>\n",
              "      <td>43.48</td>\n",
              "      <td>82270000.0</td>\n",
              "      <td>-0.0037</td>\n",
              "      <td>43.75</td>\n",
              "    </tr>\n",
              "  </tbody>\n",
              "</table>\n",
              "</div>"
            ],
            "text/plain": [
              "            Close   Open   High    Low       Volume  Change  Close_lag1\n",
              "Date                                                                   \n",
              "2018-01-02  43.06  42.54  43.08  42.31  102220000.0  0.0177         NaN\n",
              "2018-01-03  43.06  43.13  43.64  42.99  118070000.0  0.0000       43.06\n",
              "2018-01-04  43.26  43.13  43.37  43.02   89740000.0  0.0046       43.06\n",
              "2018-01-05  43.75  43.36  43.84  43.26   94640000.0  0.0113       43.26\n",
              "2018-01-08  43.59  43.59  43.90  43.48   82270000.0 -0.0037       43.75"
            ]
          },
          "metadata": {},
          "execution_count": 4
        }
      ]
    },
    {
      "cell_type": "code",
      "metadata": {
        "colab": {
          "base_uri": "https://localhost:8080/",
          "height": 308
        },
        "id": "gXX_liPRGCSF",
        "outputId": "bf9c41f8-79bd-4c24-e0b4-32890465eb15"
      },
      "source": [
        "aapl_df['Close'].asfreq('M',method='ffill').plot(legend=True) # 한달 씩 샘플링하고 데이터가 없는경우 이전데이터로 채운다.\n",
        "shifted = aapl_df['Close'].asfreq('M',method='ffill').shift(10).plot(legend = True) # shift 10개월\n",
        "shifted.legend(['Close','Close_lagged'])"
      ],
      "execution_count": null,
      "outputs": [
        {
          "output_type": "execute_result",
          "data": {
            "text/plain": [
              "<matplotlib.legend.Legend at 0x7ff6b495b150>"
            ]
          },
          "metadata": {},
          "execution_count": 7
        },
        {
          "output_type": "display_data",
          "data": {
            "image/png": "[encoded data removed]",
            "text/plain": [
              "<Figure size 432x288 with 1 Axes>"
            ]
          },
          "metadata": {
            "needs_background": "light"
          }
        }
      ]
    },
    {
      "cell_type": "markdown",
      "metadata": {
        "id": "4UR4OP-0GCSF"
      },
      "source": [
        "#### Percent change\n",
        "\n",
        "우리는 금융시계열을 다루니 하루하루 주가가 어느정도 변동하는지 간단하게 살펴보자."
      ]
    },
    {
      "cell_type": "code",
      "metadata": {
        "id": "NFyEx_u-GCSF"
      },
      "source": [
        "aapl_df['pct_change'] = aapl_df['Close'].pct_change()"
      ],
      "execution_count": null,
      "outputs": []
    },
    {
      "cell_type": "code",
      "metadata": {
        "colab": {
          "base_uri": "https://localhost:8080/",
          "height": 394
        },
        "id": "kLcMW-AbGCSF",
        "outputId": "497c125a-b16a-41b1-fd2f-9ace3e585737"
      },
      "source": [
        "aapl_df.head(10)"
      ],
      "execution_count": null,
      "outputs": [
        {
          "output_type": "execute_result",
          "data": {
            "text/html": [
              "<div>\n",
              "<style scoped>\n",
              "    .dataframe tbody tr th:only-of-type {\n",
              "        vertical-align: middle;\n",
              "    }\n",
              "\n",
              "    .dataframe tbody tr th {\n",
              "        vertical-align: top;\n",
              "    }\n",
              "\n",
              "    .dataframe thead th {\n",
              "        text-align: right;\n",
              "    }\n",
              "</style>\n",
              "<table border=\"1\" class=\"dataframe\">\n",
              "  <thead>\n",
              "    <tr style=\"text-align: right;\">\n",
              "      <th></th>\n",
              "      <th>Close</th>\n",
              "      <th>Open</th>\n",
              "      <th>High</th>\n",
              "      <th>Low</th>\n",
              "      <th>Volume</th>\n",
              "      <th>Change</th>\n",
              "      <th>Close_lag1</th>\n",
              "      <th>pct_change</th>\n",
              "    </tr>\n",
              "    <tr>\n",
              "      <th>Date</th>\n",
              "      <th></th>\n",
              "      <th></th>\n",
              "      <th></th>\n",
              "      <th></th>\n",
              "      <th></th>\n",
              "      <th></th>\n",
              "      <th></th>\n",
              "      <th></th>\n",
              "    </tr>\n",
              "  </thead>\n",
              "  <tbody>\n",
              "    <tr>\n",
              "      <th>2018-01-02</th>\n",
              "      <td>43.06</td>\n",
              "      <td>42.54</td>\n",
              "      <td>43.08</td>\n",
              "      <td>42.31</td>\n",
              "      <td>102220000.0</td>\n",
              "      <td>0.0177</td>\n",
              "      <td>NaN</td>\n",
              "      <td>NaN</td>\n",
              "    </tr>\n",
              "    <tr>\n",
              "      <th>2018-01-03</th>\n",
              "      <td>43.06</td>\n",
              "      <td>43.13</td>\n",
              "      <td>43.64</td>\n",
              "      <td>42.99</td>\n",
              "      <td>118070000.0</td>\n",
              "      <td>0.0000</td>\n",
              "      <td>43.06</td>\n",
              "      <td>0.000000</td>\n",
              "    </tr>\n",
              "    <tr>\n",
              "      <th>2018-01-04</th>\n",
              "      <td>43.26</td>\n",
              "      <td>43.13</td>\n",
              "      <td>43.37</td>\n",
              "      <td>43.02</td>\n",
              "      <td>89740000.0</td>\n",
              "      <td>0.0046</td>\n",
              "      <td>43.06</td>\n",
              "      <td>0.004645</td>\n",
              "    </tr>\n",
              "    <tr>\n",
              "      <th>2018-01-05</th>\n",
              "      <td>43.75</td>\n",
              "      <td>43.36</td>\n",
              "      <td>43.84</td>\n",
              "      <td>43.26</td>\n",
              "      <td>94640000.0</td>\n",
              "      <td>0.0113</td>\n",
              "      <td>43.26</td>\n",
              "      <td>0.011327</td>\n",
              "    </tr>\n",
              "    <tr>\n",
              "      <th>2018-01-08</th>\n",
              "      <td>43.59</td>\n",
              "      <td>43.59</td>\n",
              "      <td>43.90</td>\n",
              "      <td>43.48</td>\n",
              "      <td>82270000.0</td>\n",
              "      <td>-0.0037</td>\n",
              "      <td>43.75</td>\n",
              "      <td>-0.003657</td>\n",
              "    </tr>\n",
              "    <tr>\n",
              "      <th>2018-01-09</th>\n",
              "      <td>43.58</td>\n",
              "      <td>43.64</td>\n",
              "      <td>43.77</td>\n",
              "      <td>43.35</td>\n",
              "      <td>86340000.0</td>\n",
              "      <td>-0.0002</td>\n",
              "      <td>43.59</td>\n",
              "      <td>-0.000229</td>\n",
              "    </tr>\n",
              "    <tr>\n",
              "      <th>2018-01-10</th>\n",
              "      <td>43.57</td>\n",
              "      <td>43.29</td>\n",
              "      <td>43.58</td>\n",
              "      <td>43.25</td>\n",
              "      <td>95840000.0</td>\n",
              "      <td>-0.0002</td>\n",
              "      <td>43.58</td>\n",
              "      <td>-0.000229</td>\n",
              "    </tr>\n",
              "    <tr>\n",
              "      <th>2018-01-11</th>\n",
              "      <td>43.82</td>\n",
              "      <td>43.65</td>\n",
              "      <td>43.87</td>\n",
              "      <td>43.62</td>\n",
              "      <td>74670000.0</td>\n",
              "      <td>0.0057</td>\n",
              "      <td>43.57</td>\n",
              "      <td>0.005738</td>\n",
              "    </tr>\n",
              "    <tr>\n",
              "      <th>2018-01-12</th>\n",
              "      <td>44.27</td>\n",
              "      <td>44.05</td>\n",
              "      <td>44.34</td>\n",
              "      <td>43.91</td>\n",
              "      <td>101670000.0</td>\n",
              "      <td>0.0103</td>\n",
              "      <td>43.82</td>\n",
              "      <td>0.010269</td>\n",
              "    </tr>\n",
              "    <tr>\n",
              "      <th>2018-01-16</th>\n",
              "      <td>44.05</td>\n",
              "      <td>44.48</td>\n",
              "      <td>44.85</td>\n",
              "      <td>44.03</td>\n",
              "      <td>118260000.0</td>\n",
              "      <td>-0.0050</td>\n",
              "      <td>44.27</td>\n",
              "      <td>-0.004970</td>\n",
              "    </tr>\n",
              "  </tbody>\n",
              "</table>\n",
              "</div>"
            ],
            "text/plain": [
              "            Close   Open   High  ...  Change  Close_lag1  pct_change\n",
              "Date                             ...                                \n",
              "2018-01-02  43.06  42.54  43.08  ...  0.0177         NaN         NaN\n",
              "2018-01-03  43.06  43.13  43.64  ...  0.0000       43.06    0.000000\n",
              "2018-01-04  43.26  43.13  43.37  ...  0.0046       43.06    0.004645\n",
              "2018-01-05  43.75  43.36  43.84  ...  0.0113       43.26    0.011327\n",
              "2018-01-08  43.59  43.59  43.90  ... -0.0037       43.75   -0.003657\n",
              "2018-01-09  43.58  43.64  43.77  ... -0.0002       43.59   -0.000229\n",
              "2018-01-10  43.57  43.29  43.58  ... -0.0002       43.58   -0.000229\n",
              "2018-01-11  43.82  43.65  43.87  ...  0.0057       43.57    0.005738\n",
              "2018-01-12  44.27  44.05  44.34  ...  0.0103       43.82    0.010269\n",
              "2018-01-16  44.05  44.48  44.85  ... -0.0050       44.27   -0.004970\n",
              "\n",
              "[10 rows x 8 columns]"
            ]
          },
          "metadata": {},
          "execution_count": 10
        }
      ]
    },
    {
      "cell_type": "code",
      "metadata": {
        "colab": {
          "base_uri": "https://localhost:8080/",
          "height": 294
        },
        "id": "P_kp0FIjGCSG",
        "outputId": "c32a396c-8258-4c28-f771-502f042db7a3"
      },
      "source": [
        "aapl_df['Close'].pct_change().plot()"
      ],
      "execution_count": null,
      "outputs": [
        {
          "output_type": "execute_result",
          "data": {
            "text/plain": [
              "<matplotlib.axes._subplots.AxesSubplot at 0x7ff6b49c58d0>"
            ]
          },
          "metadata": {},
          "execution_count": 11
        },
        {
          "output_type": "display_data",
          "data": {
            "image/png": "[encoded data removed]",
            "text/plain": [
              "<Figure size 432x288 with 1 Axes>"
            ]
          },
          "metadata": {
            "needs_background": "light"
          }
        }
      ]
    },
    {
      "cell_type": "markdown",
      "metadata": {
        "id": "2P1xnrbhGCSG"
      },
      "source": [
        "#### Diff"
      ]
    },
    {
      "cell_type": "code",
      "metadata": {
        "id": "Dtj1gXfuGCSG"
      },
      "source": [
        "aapl_df['Close_diff'] = aapl_df['Close'].diff()"
      ],
      "execution_count": null,
      "outputs": []
    },
    {
      "cell_type": "code",
      "metadata": {
        "colab": {
          "base_uri": "https://localhost:8080/",
          "height": 415
        },
        "id": "xygPxIpZGCSG",
        "outputId": "2d002c09-aa49-4477-f91c-14848e482eb4"
      },
      "source": [
        "print(aapl_df['Close'].diff().head())\n",
        "aapl_df['Close'].diff().plot()"
      ],
      "execution_count": null,
      "outputs": [
        {
          "output_type": "stream",
          "name": "stdout",
          "text": [
            "Date\n",
            "2018-01-02     NaN\n",
            "2018-01-03    0.00\n",
            "2018-01-04    0.20\n",
            "2018-01-05    0.49\n",
            "2018-01-08   -0.16\n",
            "Name: Close, dtype: float64\n"
          ]
        },
        {
          "output_type": "execute_result",
          "data": {
            "text/plain": [
              "<matplotlib.axes._subplots.AxesSubplot at 0x7ff6b4307910>"
            ]
          },
          "metadata": {},
          "execution_count": 14
        },
        {
          "output_type": "display_data",
          "data": {
            "image/png": "[encoded data removed]",
            "text/plain": [
              "<Figure size 432x288 with 1 Axes>"
            ]
          },
          "metadata": {
            "needs_background": "light"
          }
        }
      ]
    },
    {
      "cell_type": "code",
      "metadata": {
        "colab": {
          "base_uri": "https://localhost:8080/",
          "height": 415
        },
        "id": "FxfQiCrGGCSG",
        "outputId": "d60f56a8-db93-4c27-ed8d-d4cd6233eb91"
      },
      "source": [
        "print((aapl_df['Close'] /aapl_df['Close'].shift(1) -1).head()) # pct_change\n",
        "(aapl_df['Close'] /aapl_df['Close'].shift(1) -1).plot()"
      ],
      "execution_count": null,
      "outputs": [
        {
          "output_type": "stream",
          "name": "stdout",
          "text": [
            "Date\n",
            "2018-01-02         NaN\n",
            "2018-01-03    0.000000\n",
            "2018-01-04    0.004645\n",
            "2018-01-05    0.011327\n",
            "2018-01-08   -0.003657\n",
            "Name: Close, dtype: float64\n"
          ]
        },
        {
          "output_type": "execute_result",
          "data": {
            "text/plain": [
              "<matplotlib.axes._subplots.AxesSubplot at 0x7ff6b4277190>"
            ]
          },
          "metadata": {},
          "execution_count": 15
        },
        {
          "output_type": "display_data",
          "data": {
            "image/png": "[encoded data removed]",
            "text/plain": [
              "<Figure size 432x288 with 1 Axes>"
            ]
          },
          "metadata": {
            "needs_background": "light"
          }
        }
      ]
    },
    {
      "cell_type": "markdown",
      "metadata": {
        "id": "Yc4nDZ4gGCSG"
      },
      "source": [
        "#### 이동평균"
      ]
    },
    {
      "cell_type": "code",
      "metadata": {
        "id": "csxM34VtGCSG"
      },
      "source": [
        "aapl_df['MA'] = aapl_df['Close'].rolling(window = 5).mean()"
      ],
      "execution_count": null,
      "outputs": []
    },
    {
      "cell_type": "code",
      "metadata": {
        "colab": {
          "base_uri": "https://localhost:8080/",
          "height": 394
        },
        "id": "-MRTEevXGCSG",
        "outputId": "116c1f2d-e966-4993-a55f-56626c89d699"
      },
      "source": [
        "aapl_df.head(10)"
      ],
      "execution_count": null,
      "outputs": [
        {
          "output_type": "execute_result",
          "data": {
            "text/html": [
              "<div>\n",
              "<style scoped>\n",
              "    .dataframe tbody tr th:only-of-type {\n",
              "        vertical-align: middle;\n",
              "    }\n",
              "\n",
              "    .dataframe tbody tr th {\n",
              "        vertical-align: top;\n",
              "    }\n",
              "\n",
              "    .dataframe thead th {\n",
              "        text-align: right;\n",
              "    }\n",
              "</style>\n",
              "<table border=\"1\" class=\"dataframe\">\n",
              "  <thead>\n",
              "    <tr style=\"text-align: right;\">\n",
              "      <th></th>\n",
              "      <th>Close</th>\n",
              "      <th>Open</th>\n",
              "      <th>High</th>\n",
              "      <th>Low</th>\n",
              "      <th>Volume</th>\n",
              "      <th>Change</th>\n",
              "      <th>Close_lag1</th>\n",
              "      <th>pct_change</th>\n",
              "      <th>Close_diff</th>\n",
              "      <th>MA</th>\n",
              "    </tr>\n",
              "    <tr>\n",
              "      <th>Date</th>\n",
              "      <th></th>\n",
              "      <th></th>\n",
              "      <th></th>\n",
              "      <th></th>\n",
              "      <th></th>\n",
              "      <th></th>\n",
              "      <th></th>\n",
              "      <th></th>\n",
              "      <th></th>\n",
              "      <th></th>\n",
              "    </tr>\n",
              "  </thead>\n",
              "  <tbody>\n",
              "    <tr>\n",
              "      <th>2018-01-02</th>\n",
              "      <td>43.06</td>\n",
              "      <td>42.54</td>\n",
              "      <td>43.08</td>\n",
              "      <td>42.31</td>\n",
              "      <td>102220000.0</td>\n",
              "      <td>0.0177</td>\n",
              "      <td>NaN</td>\n",
              "      <td>NaN</td>\n",
              "      <td>NaN</td>\n",
              "      <td>NaN</td>\n",
              "    </tr>\n",
              "    <tr>\n",
              "      <th>2018-01-03</th>\n",
              "      <td>43.06</td>\n",
              "      <td>43.13</td>\n",
              "      <td>43.64</td>\n",
              "      <td>42.99</td>\n",
              "      <td>118070000.0</td>\n",
              "      <td>0.0000</td>\n",
              "      <td>43.06</td>\n",
              "      <td>0.000000</td>\n",
              "      <td>0.00</td>\n",
              "      <td>NaN</td>\n",
              "    </tr>\n",
              "    <tr>\n",
              "      <th>2018-01-04</th>\n",
              "      <td>43.26</td>\n",
              "      <td>43.13</td>\n",
              "      <td>43.37</td>\n",
              "      <td>43.02</td>\n",
              "      <td>89740000.0</td>\n",
              "      <td>0.0046</td>\n",
              "      <td>43.06</td>\n",
              "      <td>0.004645</td>\n",
              "      <td>0.20</td>\n",
              "      <td>NaN</td>\n",
              "    </tr>\n",
              "    <tr>\n",
              "      <th>2018-01-05</th>\n",
              "      <td>43.75</td>\n",
              "      <td>43.36</td>\n",
              "      <td>43.84</td>\n",
              "      <td>43.26</td>\n",
              "      <td>94640000.0</td>\n",
              "      <td>0.0113</td>\n",
              "      <td>43.26</td>\n",
              "      <td>0.011327</td>\n",
              "      <td>0.49</td>\n",
              "      <td>NaN</td>\n",
              "    </tr>\n",
              "    <tr>\n",
              "      <th>2018-01-08</th>\n",
              "      <td>43.59</td>\n",
              "      <td>43.59</td>\n",
              "      <td>43.90</td>\n",
              "      <td>43.48</td>\n",
              "      <td>82270000.0</td>\n",
              "      <td>-0.0037</td>\n",
              "      <td>43.75</td>\n",
              "      <td>-0.003657</td>\n",
              "      <td>-0.16</td>\n",
              "      <td>43.344</td>\n",
              "    </tr>\n",
              "    <tr>\n",
              "      <th>2018-01-09</th>\n",
              "      <td>43.58</td>\n",
              "      <td>43.64</td>\n",
              "      <td>43.77</td>\n",
              "      <td>43.35</td>\n",
              "      <td>86340000.0</td>\n",
              "      <td>-0.0002</td>\n",
              "      <td>43.59</td>\n",
              "      <td>-0.000229</td>\n",
              "      <td>-0.01</td>\n",
              "      <td>43.448</td>\n",
              "    </tr>\n",
              "    <tr>\n",
              "      <th>2018-01-10</th>\n",
              "      <td>43.57</td>\n",
              "      <td>43.29</td>\n",
              "      <td>43.58</td>\n",
              "      <td>43.25</td>\n",
              "      <td>95840000.0</td>\n",
              "      <td>-0.0002</td>\n",
              "      <td>43.58</td>\n",
              "      <td>-0.000229</td>\n",
              "      <td>-0.01</td>\n",
              "      <td>43.550</td>\n",
              "    </tr>\n",
              "    <tr>\n",
              "      <th>2018-01-11</th>\n",
              "      <td>43.82</td>\n",
              "      <td>43.65</td>\n",
              "      <td>43.87</td>\n",
              "      <td>43.62</td>\n",
              "      <td>74670000.0</td>\n",
              "      <td>0.0057</td>\n",
              "      <td>43.57</td>\n",
              "      <td>0.005738</td>\n",
              "      <td>0.25</td>\n",
              "      <td>43.662</td>\n",
              "    </tr>\n",
              "    <tr>\n",
              "      <th>2018-01-12</th>\n",
              "      <td>44.27</td>\n",
              "      <td>44.05</td>\n",
              "      <td>44.34</td>\n",
              "      <td>43.91</td>\n",
              "      <td>101670000.0</td>\n",
              "      <td>0.0103</td>\n",
              "      <td>43.82</td>\n",
              "      <td>0.010269</td>\n",
              "      <td>0.45</td>\n",
              "      <td>43.766</td>\n",
              "    </tr>\n",
              "    <tr>\n",
              "      <th>2018-01-16</th>\n",
              "      <td>44.05</td>\n",
              "      <td>44.48</td>\n",
              "      <td>44.85</td>\n",
              "      <td>44.03</td>\n",
              "      <td>118260000.0</td>\n",
              "      <td>-0.0050</td>\n",
              "      <td>44.27</td>\n",
              "      <td>-0.004970</td>\n",
              "      <td>-0.22</td>\n",
              "      <td>43.858</td>\n",
              "    </tr>\n",
              "  </tbody>\n",
              "</table>\n",
              "</div>"
            ],
            "text/plain": [
              "            Close   Open   High  ...  pct_change  Close_diff      MA\n",
              "Date                             ...                                \n",
              "2018-01-02  43.06  42.54  43.08  ...         NaN         NaN     NaN\n",
              "2018-01-03  43.06  43.13  43.64  ...    0.000000        0.00     NaN\n",
              "2018-01-04  43.26  43.13  43.37  ...    0.004645        0.20     NaN\n",
              "2018-01-05  43.75  43.36  43.84  ...    0.011327        0.49     NaN\n",
              "2018-01-08  43.59  43.59  43.90  ...   -0.003657       -0.16  43.344\n",
              "2018-01-09  43.58  43.64  43.77  ...   -0.000229       -0.01  43.448\n",
              "2018-01-10  43.57  43.29  43.58  ...   -0.000229       -0.01  43.550\n",
              "2018-01-11  43.82  43.65  43.87  ...    0.005738        0.25  43.662\n",
              "2018-01-12  44.27  44.05  44.34  ...    0.010269        0.45  43.766\n",
              "2018-01-16  44.05  44.48  44.85  ...   -0.004970       -0.22  43.858\n",
              "\n",
              "[10 rows x 10 columns]"
            ]
          },
          "metadata": {},
          "execution_count": 17
        }
      ]
    },
    {
      "cell_type": "code",
      "metadata": {
        "colab": {
          "base_uri": "https://localhost:8080/"
        },
        "id": "L9dFjRILGCSG",
        "outputId": "3bd1c786-050b-460e-98a1-33c422b04db2"
      },
      "source": [
        "type(aapl_df['Close'].rolling(window = 5))"
      ],
      "execution_count": null,
      "outputs": [
        {
          "output_type": "execute_result",
          "data": {
            "text/plain": [
              "pandas.core.window.rolling.Rolling"
            ]
          },
          "metadata": {},
          "execution_count": 18
        }
      ]
    },
    {
      "cell_type": "markdown",
      "metadata": {
        "id": "45_97RDQGCSG"
      },
      "source": [
        "#### Resampling\n",
        "\n",
        "* Upsampling : 시계열을 Low frequency에서 high frequency로 변환한다. 누란된 데이터를 채우거나 보간하는 방법을 포함한다. (월간 -> 일)\n",
        "\n",
        "* Downsampling : 시계열을 high frequency에서 low frequency로 변환한다. 기존 데이터를 집계하는 것을 포함.(주간 -> 월 ) or (일간 -> 주간)\n",
        "\n",
        "=> 하지만 금융시계열 같은 경우는 각 시간 데이터가 중요하기에 Downsampling을 살펴보겠다"
      ]
    },
    {
      "cell_type": "markdown",
      "metadata": {
        "id": "QmMW2at3Aw6G"
      },
      "source": [
        "date_range : https://pandas.pydata.org/docs/reference/api/pandas.date_range.html"
      ]
    },
    {
      "cell_type": "code",
      "metadata": {
        "id": "1U8b-tO_GCSG"
      },
      "source": [
        "import pandas as pd\n",
        "index = pd.date_range(start = '2019-01-01',end= '2019-10-01',freq='B')\n",
        "series = pd.Series(range(len(index)), index=index)\n"
      ],
      "execution_count": null,
      "outputs": []
    },
    {
      "cell_type": "code",
      "metadata": {
        "colab": {
          "base_uri": "https://localhost:8080/"
        },
        "id": "lYP6_ciFBVb1",
        "outputId": "cc7ba8b3-07b6-46b4-ac34-22e27304f431"
      },
      "source": [
        "index"
      ],
      "execution_count": null,
      "outputs": [
        {
          "output_type": "execute_result",
          "data": {
            "text/plain": [
              "DatetimeIndex(['2019-01-01', '2019-01-02', '2019-01-03', '2019-01-04',\n",
              "               '2019-01-07', '2019-01-08', '2019-01-09', '2019-01-10',\n",
              "               '2019-01-11', '2019-01-14',\n",
              "               ...\n",
              "               '2019-09-18', '2019-09-19', '2019-09-20', '2019-09-23',\n",
              "               '2019-09-24', '2019-09-25', '2019-09-26', '2019-09-27',\n",
              "               '2019-09-30', '2019-10-01'],\n",
              "              dtype='datetime64[ns]', length=196, freq='B')"
            ]
          },
          "metadata": {},
          "execution_count": 20
        }
      ]
    },
    {
      "cell_type": "code",
      "metadata": {
        "colab": {
          "base_uri": "https://localhost:8080/"
        },
        "id": "M_t2EmGIBUDS",
        "outputId": "330e2459-f373-4623-c65d-cfc9dd0853bd"
      },
      "source": [
        "series"
      ],
      "execution_count": null,
      "outputs": [
        {
          "output_type": "execute_result",
          "data": {
            "text/plain": [
              "2019-01-01      0\n",
              "2019-01-02      1\n",
              "2019-01-03      2\n",
              "2019-01-04      3\n",
              "2019-01-07      4\n",
              "             ... \n",
              "2019-09-25    191\n",
              "2019-09-26    192\n",
              "2019-09-27    193\n",
              "2019-09-30    194\n",
              "2019-10-01    195\n",
              "Freq: B, Length: 196, dtype: int64"
            ]
          },
          "metadata": {},
          "execution_count": 19
        }
      ]
    },
    {
      "cell_type": "code",
      "metadata": {
        "colab": {
          "base_uri": "https://localhost:8080/"
        },
        "id": "ofJrvtAAGCSG",
        "outputId": "55e4d06d-01bd-4b71-ba61-cf7cbd01984c"
      },
      "source": [
        "series.resample(rule='M').sum()"
      ],
      "execution_count": null,
      "outputs": [
        {
          "output_type": "execute_result",
          "data": {
            "text/plain": [
              "2019-01-31     253\n",
              "2019-02-28     650\n",
              "2019-03-31    1113\n",
              "2019-04-30    1639\n",
              "2019-05-31    2231\n",
              "2019-06-30    2370\n",
              "2019-07-31    3220\n",
              "2019-08-31    3575\n",
              "2019-09-30    3864\n",
              "2019-10-31     195\n",
              "Freq: M, dtype: int64"
            ]
          },
          "metadata": {},
          "execution_count": 18
        }
      ]
    },
    {
      "cell_type": "code",
      "metadata": {
        "colab": {
          "base_uri": "https://localhost:8080/"
        },
        "id": "4RHg4P0kGCSH",
        "outputId": "6817ad92-c4c0-493c-9c48-20ee4d053863"
      },
      "source": [
        "series.resample(rule='M').last()"
      ],
      "execution_count": null,
      "outputs": [
        {
          "output_type": "execute_result",
          "data": {
            "text/plain": [
              "2019-01-31     22\n",
              "2019-02-28     42\n",
              "2019-03-31     63\n",
              "2019-04-30     85\n",
              "2019-05-31    108\n",
              "2019-06-30    128\n",
              "2019-07-31    151\n",
              "2019-08-31    173\n",
              "2019-09-30    194\n",
              "2019-10-31    195\n",
              "Freq: M, dtype: int64"
            ]
          },
          "metadata": {},
          "execution_count": 21
        }
      ]
    },
    {
      "cell_type": "code",
      "metadata": {
        "colab": {
          "base_uri": "https://localhost:8080/"
        },
        "id": "EcJ8csh6GCSH",
        "outputId": "fa4deb2b-4840-4527-82c7-5803c9710969"
      },
      "source": [
        "series.resample(rule='MS').first()"
      ],
      "execution_count": null,
      "outputs": [
        {
          "output_type": "execute_result",
          "data": {
            "text/plain": [
              "2019-01-01      0\n",
              "2019-02-01     23\n",
              "2019-03-01     43\n",
              "2019-04-01     64\n",
              "2019-05-01     86\n",
              "2019-06-01    109\n",
              "2019-07-01    129\n",
              "2019-08-01    152\n",
              "2019-09-01    174\n",
              "2019-10-01    195\n",
              "Freq: MS, dtype: int64"
            ]
          },
          "metadata": {},
          "execution_count": 22
        }
      ]
    }
  ]
}