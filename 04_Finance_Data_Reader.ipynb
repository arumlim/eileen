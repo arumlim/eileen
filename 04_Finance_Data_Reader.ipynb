{
  "nbformat": 4,
  "nbformat_minor": 0,
  "metadata": {
    "kernelspec": {
      "display_name": "Python 3.8.12 64-bit ('base': conda)",
      "name": "python3812jvsc74a57bd0737adab86a857289fc3bb162d0b4f640b26cc80f7c2ae1cce2eb6b9aa0f64168"
    },
    "language_info": {
      "codemirror_mode": {
        "name": "ipython",
        "version": 3
      },
      "file_extension": ".py",
      "mimetype": "text/x-python",
      "name": "python",
      "nbconvert_exporter": "python",
      "pygments_lexer": "ipython3",
      "version": "3.8.12"
    },
    "metadata": {
      "interpreter": {
        "hash": "737adab86a857289fc3bb162d0b4f640b26cc80f7c2ae1cce2eb6b9aa0f64168"
      }
    },
    "colab": {
      "name": "04. Finance Data Reader.ipynb",
      "provenance": [],
      "collapsed_sections": [],
      "include_colab_link": true
    }
  },
  "cells": [
    {
      "cell_type": "markdown",
      "metadata": {
        "id": "view-in-github",
        "colab_type": "text"
      },
      "source": [
        "<a href=\"https://colab.research.google.com/github/arumlim/eileen/blob/master/04_Finance_Data_Reader.ipynb\" target=\"_parent\"><img src=\"https://colab.research.google.com/assets/colab-badge.svg\" alt=\"Open In Colab\"/></a>"
      ]
    },
    {
      "cell_type": "code",
      "metadata": {
        "colab": {
          "base_uri": "https://localhost:8080/"
        },
        "id": "fI0vxMte5jGH",
        "outputId": "5c3f83fa-f36e-4c1f-f13c-c35f72d6812f"
      },
      "source": [
        "!pip install -U finance-datareader"
      ],
      "execution_count": null,
      "outputs": [
        {
          "output_type": "stream",
          "name": "stdout",
          "text": [
            "Collecting finance-datareader\n",
            "  Downloading finance_datareader-0.9.31-py3-none-any.whl (17 kB)\n",
            "Requirement already satisfied: lxml in /usr/local/lib/python3.7/dist-packages (from finance-datareader) (4.2.6)\n",
            "Requirement already satisfied: tqdm in /usr/local/lib/python3.7/dist-packages (from finance-datareader) (4.62.3)\n",
            "Collecting requests-file\n",
            "  Downloading requests_file-1.5.1-py2.py3-none-any.whl (3.7 kB)\n",
            "Requirement already satisfied: pandas>=0.19.2 in /usr/local/lib/python3.7/dist-packages (from finance-datareader) (1.1.5)\n",
            "Requirement already satisfied: requests>=2.3.0 in /usr/local/lib/python3.7/dist-packages (from finance-datareader) (2.23.0)\n",
            "Requirement already satisfied: pytz>=2017.2 in /usr/local/lib/python3.7/dist-packages (from pandas>=0.19.2->finance-datareader) (2018.9)\n",
            "Requirement already satisfied: python-dateutil>=2.7.3 in /usr/local/lib/python3.7/dist-packages (from pandas>=0.19.2->finance-datareader) (2.8.2)\n",
            "Requirement already satisfied: numpy>=1.15.4 in /usr/local/lib/python3.7/dist-packages (from pandas>=0.19.2->finance-datareader) (1.19.5)\n",
            "Requirement already satisfied: six>=1.5 in /usr/local/lib/python3.7/dist-packages (from python-dateutil>=2.7.3->pandas>=0.19.2->finance-datareader) (1.15.0)\n",
            "Requirement already satisfied: chardet<4,>=3.0.2 in /usr/local/lib/python3.7/dist-packages (from requests>=2.3.0->finance-datareader) (3.0.4)\n",
            "Requirement already satisfied: urllib3!=1.25.0,!=1.25.1,<1.26,>=1.21.1 in /usr/local/lib/python3.7/dist-packages (from requests>=2.3.0->finance-datareader) (1.24.3)\n",
            "Requirement already satisfied: idna<3,>=2.5 in /usr/local/lib/python3.7/dist-packages (from requests>=2.3.0->finance-datareader) (2.10)\n",
            "Requirement already satisfied: certifi>=2017.4.17 in /usr/local/lib/python3.7/dist-packages (from requests>=2.3.0->finance-datareader) (2021.10.8)\n",
            "Installing collected packages: requests-file, finance-datareader\n",
            "Successfully installed finance-datareader-0.9.31 requests-file-1.5.1\n"
          ]
        }
      ]
    },
    {
      "cell_type": "code",
      "metadata": {
        "id": "dJXhHlRe5ZDc"
      },
      "source": [
        "import FinanceDataReader as fdr"
      ],
      "execution_count": null,
      "outputs": []
    },
    {
      "cell_type": "code",
      "metadata": {
        "colab": {
          "base_uri": "https://localhost:8080/",
          "height": 206
        },
        "id": "-GfmWZUC5ZDg",
        "outputId": "384724bd-68d0-4d2e-c099-97654ab665ff"
      },
      "source": [
        "# 한국거래소 상장종목 전체\n",
        "df_krx = fdr.StockListing('KRX')\n",
        "df_krx.head()"
      ],
      "execution_count": null,
      "outputs": [
        {
          "output_type": "execute_result",
          "data": {
            "text/html": [
              "<div>\n",
              "<style scoped>\n",
              "    .dataframe tbody tr th:only-of-type {\n",
              "        vertical-align: middle;\n",
              "    }\n",
              "\n",
              "    .dataframe tbody tr th {\n",
              "        vertical-align: top;\n",
              "    }\n",
              "\n",
              "    .dataframe thead th {\n",
              "        text-align: right;\n",
              "    }\n",
              "</style>\n",
              "<table border=\"1\" class=\"dataframe\">\n",
              "  <thead>\n",
              "    <tr style=\"text-align: right;\">\n",
              "      <th></th>\n",
              "      <th>Symbol</th>\n",
              "      <th>Market</th>\n",
              "      <th>Name</th>\n",
              "      <th>Sector</th>\n",
              "      <th>Industry</th>\n",
              "      <th>ListingDate</th>\n",
              "      <th>SettleMonth</th>\n",
              "      <th>Representative</th>\n",
              "      <th>HomePage</th>\n",
              "      <th>Region</th>\n",
              "    </tr>\n",
              "  </thead>\n",
              "  <tbody>\n",
              "    <tr>\n",
              "      <th>0</th>\n",
              "      <td>060310</td>\n",
              "      <td>KOSDAQ</td>\n",
              "      <td>3S</td>\n",
              "      <td>전자부품 제조업</td>\n",
              "      <td>반도체 웨이퍼 캐리어</td>\n",
              "      <td>2002-04-23</td>\n",
              "      <td>03월</td>\n",
              "      <td>박종익, 김세완 (각자 대표이사)</td>\n",
              "      <td>http://www.3sref.com</td>\n",
              "      <td>서울특별시</td>\n",
              "    </tr>\n",
              "    <tr>\n",
              "      <th>1</th>\n",
              "      <td>095570</td>\n",
              "      <td>KOSPI</td>\n",
              "      <td>AJ네트웍스</td>\n",
              "      <td>산업용 기계 및 장비 임대업</td>\n",
              "      <td>렌탈(파렛트, OA장비, 건설장비)</td>\n",
              "      <td>2015-08-21</td>\n",
              "      <td>12월</td>\n",
              "      <td>박대현</td>\n",
              "      <td>http://www.ajnet.co.kr</td>\n",
              "      <td>서울특별시</td>\n",
              "    </tr>\n",
              "    <tr>\n",
              "      <th>2</th>\n",
              "      <td>006840</td>\n",
              "      <td>KOSPI</td>\n",
              "      <td>AK홀딩스</td>\n",
              "      <td>기타 금융업</td>\n",
              "      <td>지주사업</td>\n",
              "      <td>1999-08-11</td>\n",
              "      <td>12월</td>\n",
              "      <td>채형석, 이석주(각자 대표이사)</td>\n",
              "      <td>http://www.aekyunggroup.co.kr</td>\n",
              "      <td>서울특별시</td>\n",
              "    </tr>\n",
              "    <tr>\n",
              "      <th>3</th>\n",
              "      <td>054620</td>\n",
              "      <td>KOSDAQ</td>\n",
              "      <td>APS홀딩스</td>\n",
              "      <td>기타 금융업</td>\n",
              "      <td>인터넷 트래픽 솔루션</td>\n",
              "      <td>2001-12-04</td>\n",
              "      <td>12월</td>\n",
              "      <td>정기로</td>\n",
              "      <td>http://www.apsholdings.co.kr</td>\n",
              "      <td>경기도</td>\n",
              "    </tr>\n",
              "    <tr>\n",
              "      <th>4</th>\n",
              "      <td>265520</td>\n",
              "      <td>KOSDAQ</td>\n",
              "      <td>AP시스템</td>\n",
              "      <td>특수 목적용 기계 제조업</td>\n",
              "      <td>디스플레이 제조 장비</td>\n",
              "      <td>2017-04-07</td>\n",
              "      <td>12월</td>\n",
              "      <td>김영주</td>\n",
              "      <td>http://www.apsystems.co.kr</td>\n",
              "      <td>경기도</td>\n",
              "    </tr>\n",
              "  </tbody>\n",
              "</table>\n",
              "</div>"
            ],
            "text/plain": [
              "   Symbol  Market  ...                       HomePage Region\n",
              "0  060310  KOSDAQ  ...           http://www.3sref.com  서울특별시\n",
              "1  095570   KOSPI  ...         http://www.ajnet.co.kr  서울특별시\n",
              "2  006840   KOSPI  ...  http://www.aekyunggroup.co.kr  서울특별시\n",
              "3  054620  KOSDAQ  ...   http://www.apsholdings.co.kr    경기도\n",
              "4  265520  KOSDAQ  ...     http://www.apsystems.co.kr    경기도\n",
              "\n",
              "[5 rows x 10 columns]"
            ]
          },
          "metadata": {},
          "execution_count": 3
        }
      ]
    },
    {
      "cell_type": "code",
      "metadata": {
        "colab": {
          "base_uri": "https://localhost:8080/"
        },
        "id": "e3cfI8CE5ZDh",
        "outputId": "c8d51859-6aa9-4868-f3ce-25ed2046a679"
      },
      "source": [
        "len(df_krx)"
      ],
      "execution_count": null,
      "outputs": [
        {
          "output_type": "execute_result",
          "data": {
            "text/plain": [
              "7159"
            ]
          },
          "metadata": {},
          "execution_count": 4
        }
      ]
    },
    {
      "cell_type": "code",
      "metadata": {
        "colab": {
          "base_uri": "https://localhost:8080/",
          "height": 206
        },
        "id": "e9l4LCeV5ZDi",
        "outputId": "110a05ea-648d-4931-a63a-902bed224b9f"
      },
      "source": [
        "import FinanceDataReader as fdr\n",
        "# S&P 500 종목 전체\n",
        "df_spx = fdr.StockListing('S&P500')\n",
        "df_spx.head()"
      ],
      "execution_count": null,
      "outputs": [
        {
          "output_type": "execute_result",
          "data": {
            "text/html": [
              "<div>\n",
              "<style scoped>\n",
              "    .dataframe tbody tr th:only-of-type {\n",
              "        vertical-align: middle;\n",
              "    }\n",
              "\n",
              "    .dataframe tbody tr th {\n",
              "        vertical-align: top;\n",
              "    }\n",
              "\n",
              "    .dataframe thead th {\n",
              "        text-align: right;\n",
              "    }\n",
              "</style>\n",
              "<table border=\"1\" class=\"dataframe\">\n",
              "  <thead>\n",
              "    <tr style=\"text-align: right;\">\n",
              "      <th></th>\n",
              "      <th>Symbol</th>\n",
              "      <th>Name</th>\n",
              "      <th>Sector</th>\n",
              "      <th>Industry</th>\n",
              "    </tr>\n",
              "  </thead>\n",
              "  <tbody>\n",
              "    <tr>\n",
              "      <th>0</th>\n",
              "      <td>MMM</td>\n",
              "      <td>3M</td>\n",
              "      <td>Industrials</td>\n",
              "      <td>Industrial Conglomerates</td>\n",
              "    </tr>\n",
              "    <tr>\n",
              "      <th>1</th>\n",
              "      <td>ABT</td>\n",
              "      <td>Abbott Laboratories</td>\n",
              "      <td>Health Care</td>\n",
              "      <td>Health Care Equipment</td>\n",
              "    </tr>\n",
              "    <tr>\n",
              "      <th>2</th>\n",
              "      <td>ABBV</td>\n",
              "      <td>AbbVie</td>\n",
              "      <td>Health Care</td>\n",
              "      <td>Pharmaceuticals</td>\n",
              "    </tr>\n",
              "    <tr>\n",
              "      <th>3</th>\n",
              "      <td>ABMD</td>\n",
              "      <td>Abiomed</td>\n",
              "      <td>Health Care</td>\n",
              "      <td>Health Care Equipment</td>\n",
              "    </tr>\n",
              "    <tr>\n",
              "      <th>4</th>\n",
              "      <td>ACN</td>\n",
              "      <td>Accenture</td>\n",
              "      <td>Information Technology</td>\n",
              "      <td>IT Consulting &amp; Other Services</td>\n",
              "    </tr>\n",
              "  </tbody>\n",
              "</table>\n",
              "</div>"
            ],
            "text/plain": [
              "  Symbol  ...                        Industry\n",
              "0    MMM  ...        Industrial Conglomerates\n",
              "1    ABT  ...           Health Care Equipment\n",
              "2   ABBV  ...                 Pharmaceuticals\n",
              "3   ABMD  ...           Health Care Equipment\n",
              "4    ACN  ...  IT Consulting & Other Services\n",
              "\n",
              "[5 rows x 4 columns]"
            ]
          },
          "metadata": {},
          "execution_count": 5
        }
      ]
    },
    {
      "cell_type": "code",
      "metadata": {
        "colab": {
          "base_uri": "https://localhost:8080/",
          "height": 394
        },
        "id": "0KkQd2hF5ZDi",
        "outputId": "16245a8d-679b-4999-8d8a-c85f28d472b0"
      },
      "source": [
        "# GS글로벌, 2018년\n",
        "df = fdr.DataReader('001250', '2018')\n",
        "df.head(10)"
      ],
      "execution_count": null,
      "outputs": [
        {
          "output_type": "execute_result",
          "data": {
            "text/html": [
              "<div>\n",
              "<style scoped>\n",
              "    .dataframe tbody tr th:only-of-type {\n",
              "        vertical-align: middle;\n",
              "    }\n",
              "\n",
              "    .dataframe tbody tr th {\n",
              "        vertical-align: top;\n",
              "    }\n",
              "\n",
              "    .dataframe thead th {\n",
              "        text-align: right;\n",
              "    }\n",
              "</style>\n",
              "<table border=\"1\" class=\"dataframe\">\n",
              "  <thead>\n",
              "    <tr style=\"text-align: right;\">\n",
              "      <th></th>\n",
              "      <th>Open</th>\n",
              "      <th>High</th>\n",
              "      <th>Low</th>\n",
              "      <th>Close</th>\n",
              "      <th>Volume</th>\n",
              "      <th>Change</th>\n",
              "    </tr>\n",
              "    <tr>\n",
              "      <th>Date</th>\n",
              "      <th></th>\n",
              "      <th></th>\n",
              "      <th></th>\n",
              "      <th></th>\n",
              "      <th></th>\n",
              "      <th></th>\n",
              "    </tr>\n",
              "  </thead>\n",
              "  <tbody>\n",
              "    <tr>\n",
              "      <th>2018-01-02</th>\n",
              "      <td>2795</td>\n",
              "      <td>2860</td>\n",
              "      <td>2795</td>\n",
              "      <td>2850</td>\n",
              "      <td>118224</td>\n",
              "      <td>0.019678</td>\n",
              "    </tr>\n",
              "    <tr>\n",
              "      <th>2018-01-03</th>\n",
              "      <td>2850</td>\n",
              "      <td>2860</td>\n",
              "      <td>2820</td>\n",
              "      <td>2845</td>\n",
              "      <td>152892</td>\n",
              "      <td>-0.001754</td>\n",
              "    </tr>\n",
              "    <tr>\n",
              "      <th>2018-01-04</th>\n",
              "      <td>2845</td>\n",
              "      <td>2860</td>\n",
              "      <td>2815</td>\n",
              "      <td>2820</td>\n",
              "      <td>195786</td>\n",
              "      <td>-0.008787</td>\n",
              "    </tr>\n",
              "    <tr>\n",
              "      <th>2018-01-05</th>\n",
              "      <td>2820</td>\n",
              "      <td>2920</td>\n",
              "      <td>2820</td>\n",
              "      <td>2900</td>\n",
              "      <td>283369</td>\n",
              "      <td>0.028369</td>\n",
              "    </tr>\n",
              "    <tr>\n",
              "      <th>2018-01-08</th>\n",
              "      <td>2900</td>\n",
              "      <td>2940</td>\n",
              "      <td>2870</td>\n",
              "      <td>2900</td>\n",
              "      <td>179173</td>\n",
              "      <td>0.000000</td>\n",
              "    </tr>\n",
              "    <tr>\n",
              "      <th>2018-01-09</th>\n",
              "      <td>2920</td>\n",
              "      <td>2945</td>\n",
              "      <td>2860</td>\n",
              "      <td>2875</td>\n",
              "      <td>209231</td>\n",
              "      <td>-0.008621</td>\n",
              "    </tr>\n",
              "    <tr>\n",
              "      <th>2018-01-10</th>\n",
              "      <td>2850</td>\n",
              "      <td>2970</td>\n",
              "      <td>2850</td>\n",
              "      <td>2955</td>\n",
              "      <td>440681</td>\n",
              "      <td>0.027826</td>\n",
              "    </tr>\n",
              "    <tr>\n",
              "      <th>2018-01-11</th>\n",
              "      <td>2975</td>\n",
              "      <td>2975</td>\n",
              "      <td>2930</td>\n",
              "      <td>2940</td>\n",
              "      <td>200819</td>\n",
              "      <td>-0.005076</td>\n",
              "    </tr>\n",
              "    <tr>\n",
              "      <th>2018-01-12</th>\n",
              "      <td>2930</td>\n",
              "      <td>2955</td>\n",
              "      <td>2890</td>\n",
              "      <td>2910</td>\n",
              "      <td>156725</td>\n",
              "      <td>-0.010204</td>\n",
              "    </tr>\n",
              "    <tr>\n",
              "      <th>2018-01-15</th>\n",
              "      <td>2910</td>\n",
              "      <td>2915</td>\n",
              "      <td>2870</td>\n",
              "      <td>2895</td>\n",
              "      <td>245777</td>\n",
              "      <td>-0.005155</td>\n",
              "    </tr>\n",
              "  </tbody>\n",
              "</table>\n",
              "</div>"
            ],
            "text/plain": [
              "            Open  High   Low  Close  Volume    Change\n",
              "Date                                                 \n",
              "2018-01-02  2795  2860  2795   2850  118224  0.019678\n",
              "2018-01-03  2850  2860  2820   2845  152892 -0.001754\n",
              "2018-01-04  2845  2860  2815   2820  195786 -0.008787\n",
              "2018-01-05  2820  2920  2820   2900  283369  0.028369\n",
              "2018-01-08  2900  2940  2870   2900  179173  0.000000\n",
              "2018-01-09  2920  2945  2860   2875  209231 -0.008621\n",
              "2018-01-10  2850  2970  2850   2955  440681  0.027826\n",
              "2018-01-11  2975  2975  2930   2940  200819 -0.005076\n",
              "2018-01-12  2930  2955  2890   2910  156725 -0.010204\n",
              "2018-01-15  2910  2915  2870   2895  245777 -0.005155"
            ]
          },
          "metadata": {},
          "execution_count": 6
        }
      ]
    },
    {
      "cell_type": "code",
      "metadata": {
        "colab": {
          "base_uri": "https://localhost:8080/",
          "height": 294
        },
        "id": "h48uUq4i5ZDj",
        "outputId": "ecb608e0-97f4-43af-e934-c5884bbe168b"
      },
      "source": [
        "df['Close'].plot()"
      ],
      "execution_count": null,
      "outputs": [
        {
          "output_type": "execute_result",
          "data": {
            "text/plain": [
              "<matplotlib.axes._subplots.AxesSubplot at 0x7ff047ef2ed0>"
            ]
          },
          "metadata": {},
          "execution_count": 7
        },
        {
          "output_type": "display_data",
          "data": {
            "image/png": "[encoded data removed]",
            "text/plain": [
              "<Figure size 432x288 with 1 Axes>"
            ]
          },
          "metadata": {
            "needs_background": "light"
          }
        }
      ]
    },
    {
      "cell_type": "code",
      "metadata": {
        "colab": {
          "base_uri": "https://localhost:8080/",
          "height": 394
        },
        "id": "LzrKHQ6z5ZDj",
        "outputId": "3a08942f-0595-4404-beb5-a4bd34a125f9"
      },
      "source": [
        "df = fdr.DataReader('AAPL', '2017') # 애플(AAPL), 2017년\n",
        "df.head(10)"
      ],
      "execution_count": null,
      "outputs": [
        {
          "output_type": "execute_result",
          "data": {
            "text/html": [
              "<div>\n",
              "<style scoped>\n",
              "    .dataframe tbody tr th:only-of-type {\n",
              "        vertical-align: middle;\n",
              "    }\n",
              "\n",
              "    .dataframe tbody tr th {\n",
              "        vertical-align: top;\n",
              "    }\n",
              "\n",
              "    .dataframe thead th {\n",
              "        text-align: right;\n",
              "    }\n",
              "</style>\n",
              "<table border=\"1\" class=\"dataframe\">\n",
              "  <thead>\n",
              "    <tr style=\"text-align: right;\">\n",
              "      <th></th>\n",
              "      <th>Close</th>\n",
              "      <th>Open</th>\n",
              "      <th>High</th>\n",
              "      <th>Low</th>\n",
              "      <th>Volume</th>\n",
              "      <th>Change</th>\n",
              "    </tr>\n",
              "    <tr>\n",
              "      <th>Date</th>\n",
              "      <th></th>\n",
              "      <th></th>\n",
              "      <th></th>\n",
              "      <th></th>\n",
              "      <th></th>\n",
              "      <th></th>\n",
              "    </tr>\n",
              "  </thead>\n",
              "  <tbody>\n",
              "    <tr>\n",
              "      <th>2017-01-03</th>\n",
              "      <td>29.04</td>\n",
              "      <td>28.95</td>\n",
              "      <td>29.08</td>\n",
              "      <td>28.69</td>\n",
              "      <td>115130000.0</td>\n",
              "      <td>0.0031</td>\n",
              "    </tr>\n",
              "    <tr>\n",
              "      <th>2017-01-04</th>\n",
              "      <td>29.00</td>\n",
              "      <td>28.96</td>\n",
              "      <td>29.13</td>\n",
              "      <td>28.94</td>\n",
              "      <td>84470000.0</td>\n",
              "      <td>-0.0014</td>\n",
              "    </tr>\n",
              "    <tr>\n",
              "      <th>2017-01-05</th>\n",
              "      <td>29.15</td>\n",
              "      <td>28.98</td>\n",
              "      <td>29.22</td>\n",
              "      <td>28.95</td>\n",
              "      <td>88770000.0</td>\n",
              "      <td>0.0052</td>\n",
              "    </tr>\n",
              "    <tr>\n",
              "      <th>2017-01-06</th>\n",
              "      <td>29.48</td>\n",
              "      <td>29.20</td>\n",
              "      <td>29.54</td>\n",
              "      <td>29.12</td>\n",
              "      <td>127010000.0</td>\n",
              "      <td>0.0113</td>\n",
              "    </tr>\n",
              "    <tr>\n",
              "      <th>2017-01-09</th>\n",
              "      <td>29.75</td>\n",
              "      <td>29.49</td>\n",
              "      <td>29.86</td>\n",
              "      <td>29.48</td>\n",
              "      <td>134250000.0</td>\n",
              "      <td>0.0092</td>\n",
              "    </tr>\n",
              "    <tr>\n",
              "      <th>2017-01-10</th>\n",
              "      <td>29.78</td>\n",
              "      <td>29.69</td>\n",
              "      <td>29.84</td>\n",
              "      <td>29.57</td>\n",
              "      <td>97850000.0</td>\n",
              "      <td>0.0010</td>\n",
              "    </tr>\n",
              "    <tr>\n",
              "      <th>2017-01-11</th>\n",
              "      <td>29.94</td>\n",
              "      <td>29.68</td>\n",
              "      <td>29.98</td>\n",
              "      <td>29.65</td>\n",
              "      <td>110350000.0</td>\n",
              "      <td>0.0054</td>\n",
              "    </tr>\n",
              "    <tr>\n",
              "      <th>2017-01-12</th>\n",
              "      <td>29.81</td>\n",
              "      <td>29.72</td>\n",
              "      <td>29.82</td>\n",
              "      <td>29.55</td>\n",
              "      <td>108340000.0</td>\n",
              "      <td>-0.0043</td>\n",
              "    </tr>\n",
              "    <tr>\n",
              "      <th>2017-01-13</th>\n",
              "      <td>29.76</td>\n",
              "      <td>29.78</td>\n",
              "      <td>29.91</td>\n",
              "      <td>29.70</td>\n",
              "      <td>104450000.0</td>\n",
              "      <td>-0.0017</td>\n",
              "    </tr>\n",
              "    <tr>\n",
              "      <th>2017-01-17</th>\n",
              "      <td>30.00</td>\n",
              "      <td>29.59</td>\n",
              "      <td>30.06</td>\n",
              "      <td>29.55</td>\n",
              "      <td>137760000.0</td>\n",
              "      <td>0.0081</td>\n",
              "    </tr>\n",
              "  </tbody>\n",
              "</table>\n",
              "</div>"
            ],
            "text/plain": [
              "            Close   Open   High    Low       Volume  Change\n",
              "Date                                                       \n",
              "2017-01-03  29.04  28.95  29.08  28.69  115130000.0  0.0031\n",
              "2017-01-04  29.00  28.96  29.13  28.94   84470000.0 -0.0014\n",
              "2017-01-05  29.15  28.98  29.22  28.95   88770000.0  0.0052\n",
              "2017-01-06  29.48  29.20  29.54  29.12  127010000.0  0.0113\n",
              "2017-01-09  29.75  29.49  29.86  29.48  134250000.0  0.0092\n",
              "2017-01-10  29.78  29.69  29.84  29.57   97850000.0  0.0010\n",
              "2017-01-11  29.94  29.68  29.98  29.65  110350000.0  0.0054\n",
              "2017-01-12  29.81  29.72  29.82  29.55  108340000.0 -0.0043\n",
              "2017-01-13  29.76  29.78  29.91  29.70  104450000.0 -0.0017\n",
              "2017-01-17  30.00  29.59  30.06  29.55  137760000.0  0.0081"
            ]
          },
          "metadata": {},
          "execution_count": 8
        }
      ]
    },
    {
      "cell_type": "code",
      "metadata": {
        "colab": {
          "base_uri": "https://localhost:8080/",
          "height": 286
        },
        "id": "2vWFwoF45ZDl",
        "outputId": "90995f07-0cb4-4fe1-ddaa-26bda2107916"
      },
      "source": [
        "df['Close'].plot()"
      ],
      "execution_count": null,
      "outputs": [
        {
          "output_type": "execute_result",
          "data": {
            "text/plain": [
              "<matplotlib.axes._subplots.AxesSubplot at 0x7ff046ef5890>"
            ]
          },
          "metadata": {},
          "execution_count": 9
        },
        {
          "output_type": "display_data",
          "data": {
            "image/png": "[encoded data removed]",
            "text/plain": [
              "<Figure size 432x288 with 1 Axes>"
            ]
          },
          "metadata": {
            "needs_background": "light"
          }
        }
      ]
    },
    {
      "cell_type": "code",
      "metadata": {
        "id": "o1t1X6RD5ZDl"
      },
      "source": [
        "# 애플(AAPL), 2018-01-01 ~ 2018-03-30\n",
        "df = fdr.DataReader('AAPL', '2018-01-01', '2018-03-30')\n",
        "\n",
        "# KS11 (KOSPI 지수), 2015년~현재\n",
        "df = fdr.DataReader('KS11', '2015')\n",
        "\n",
        "# 원달러 환율, 1995년~현재\n",
        "df = fdr.DataReader('USD/KRW', '1995')\n",
        "\n",
        "# 비트코인 원화 가격 (빗썸), 2016년~현재\n",
        "df = fdr.DataReader('BTC/KRW', '2016')"
      ],
      "execution_count": null,
      "outputs": []
    },
    {
      "cell_type": "code",
      "metadata": {
        "id": "yd5bl_ou5ZDm"
      },
      "source": [
        "import FinanceDataReader as fdr"
      ],
      "execution_count": null,
      "outputs": []
    },
    {
      "cell_type": "code",
      "metadata": {
        "id": "XL_6duNM5ZDn"
      },
      "source": [
        "# Exchage alias\n",
        "exchange_map = {\n",
        "    'KRX':'Seoul', '한국거래소':'Seoul',\n",
        "    'NASDAQ':'NASDAQ', '나스닥':'NASDAQ',\n",
        "    'NYSE':'NYSE', '뉴욕증권거래소':'NYSE', \n",
        "    'AMEX':'AMEX', '미국증권거래소':'AMEX', \n",
        "    'SSE':'Shanghai', '상해':'Shanghai', '상하이':'Shanghai',\n",
        "    'SZSE':'Shenzhen', '심천':'Shenzhen',\n",
        "    'HKEX':'Hong Kong', '홍콩':'Hong Kong',\n",
        "    'TSE':'Tokyo', '도쿄':'Tokyo',\n",
        "}"
      ],
      "execution_count": null,
      "outputs": []
    },
    {
      "cell_type": "code",
      "metadata": {
        "id": "YmLyHIYY5ZDn"
      },
      "source": [
        "jp_df1 = fdr.DataReader(symbol='7751',start='2019-01-01',exchange='TSE') # Canon Inc (7751)\n",
        "jp_df2 = fdr.DataReader(symbol='7751',start='2019-01-01',exchange='도쿄') # Canon Inc (7751)"
      ],
      "execution_count": null,
      "outputs": []
    },
    {
      "cell_type": "code",
      "metadata": {
        "colab": {
          "base_uri": "https://localhost:8080/",
          "height": 238
        },
        "id": "fGcApLEC5ZDo",
        "outputId": "904c918b-8bf1-4e68-93fd-237a51ca6d14"
      },
      "source": [
        "jp_df2.head()"
      ],
      "execution_count": null,
      "outputs": [
        {
          "output_type": "execute_result",
          "data": {
            "text/html": [
              "<div>\n",
              "<style scoped>\n",
              "    .dataframe tbody tr th:only-of-type {\n",
              "        vertical-align: middle;\n",
              "    }\n",
              "\n",
              "    .dataframe tbody tr th {\n",
              "        vertical-align: top;\n",
              "    }\n",
              "\n",
              "    .dataframe thead th {\n",
              "        text-align: right;\n",
              "    }\n",
              "</style>\n",
              "<table border=\"1\" class=\"dataframe\">\n",
              "  <thead>\n",
              "    <tr style=\"text-align: right;\">\n",
              "      <th></th>\n",
              "      <th>Close</th>\n",
              "      <th>Open</th>\n",
              "      <th>High</th>\n",
              "      <th>Low</th>\n",
              "      <th>Volume</th>\n",
              "      <th>Change</th>\n",
              "    </tr>\n",
              "    <tr>\n",
              "      <th>Date</th>\n",
              "      <th></th>\n",
              "      <th></th>\n",
              "      <th></th>\n",
              "      <th></th>\n",
              "      <th></th>\n",
              "      <th></th>\n",
              "    </tr>\n",
              "  </thead>\n",
              "  <tbody>\n",
              "    <tr>\n",
              "      <th>2019-01-04</th>\n",
              "      <td>2918.5</td>\n",
              "      <td>2900.0</td>\n",
              "      <td>2945.5</td>\n",
              "      <td>2876.5</td>\n",
              "      <td>7420000.0</td>\n",
              "      <td>-0.0275</td>\n",
              "    </tr>\n",
              "    <tr>\n",
              "      <th>2019-01-07</th>\n",
              "      <td>3020.0</td>\n",
              "      <td>2980.0</td>\n",
              "      <td>3028.0</td>\n",
              "      <td>2972.0</td>\n",
              "      <td>4560000.0</td>\n",
              "      <td>0.0348</td>\n",
              "    </tr>\n",
              "    <tr>\n",
              "      <th>2019-01-08</th>\n",
              "      <td>3021.0</td>\n",
              "      <td>3003.0</td>\n",
              "      <td>3042.0</td>\n",
              "      <td>2996.5</td>\n",
              "      <td>4390000.0</td>\n",
              "      <td>0.0003</td>\n",
              "    </tr>\n",
              "    <tr>\n",
              "      <th>2019-01-09</th>\n",
              "      <td>3038.0</td>\n",
              "      <td>3050.0</td>\n",
              "      <td>3054.0</td>\n",
              "      <td>3027.0</td>\n",
              "      <td>3810000.0</td>\n",
              "      <td>0.0056</td>\n",
              "    </tr>\n",
              "    <tr>\n",
              "      <th>2019-01-10</th>\n",
              "      <td>3026.0</td>\n",
              "      <td>3029.0</td>\n",
              "      <td>3037.0</td>\n",
              "      <td>3006.0</td>\n",
              "      <td>3230000.0</td>\n",
              "      <td>-0.0039</td>\n",
              "    </tr>\n",
              "  </tbody>\n",
              "</table>\n",
              "</div>"
            ],
            "text/plain": [
              "             Close    Open    High     Low     Volume  Change\n",
              "Date                                                         \n",
              "2019-01-04  2918.5  2900.0  2945.5  2876.5  7420000.0 -0.0275\n",
              "2019-01-07  3020.0  2980.0  3028.0  2972.0  4560000.0  0.0348\n",
              "2019-01-08  3021.0  3003.0  3042.0  2996.5  4390000.0  0.0003\n",
              "2019-01-09  3038.0  3050.0  3054.0  3027.0  3810000.0  0.0056\n",
              "2019-01-10  3026.0  3029.0  3037.0  3006.0  3230000.0 -0.0039"
            ]
          },
          "metadata": {},
          "execution_count": 14
        }
      ]
    },
    {
      "cell_type": "code",
      "metadata": {
        "colab": {
          "base_uri": "https://localhost:8080/",
          "height": 294
        },
        "id": "utwfJf4m5ZDo",
        "outputId": "d99401ac-16bf-4754-a2c6-72db43ab643e"
      },
      "source": [
        "jp_df2['Close'].plot()"
      ],
      "execution_count": null,
      "outputs": [
        {
          "output_type": "execute_result",
          "data": {
            "text/plain": [
              "<matplotlib.axes._subplots.AxesSubplot at 0x7ff046e493d0>"
            ]
          },
          "metadata": {},
          "execution_count": 15
        },
        {
          "output_type": "display_data",
          "data": {
            "image/png": "[encoded data removed]",
            "text/plain": [
              "<Figure size 432x288 with 1 Axes>"
            ]
          },
          "metadata": {
            "needs_background": "light"
          }
        }
      ]
    },
    {
      "cell_type": "code",
      "metadata": {
        "id": "FqVNxmE85ZDo"
      },
      "source": [
        "ch_df1 = fdr.DataReader(symbol='601186',start='2019-01-01',exchange='SSE') # China Railway Construction Corp Ltd(601186)\n",
        "ch_df2 = fdr.DataReader(symbol='601186',start='2019-01-01',exchange='상해') # China Railway Construction Corp Ltd(601186)"
      ],
      "execution_count": null,
      "outputs": []
    },
    {
      "cell_type": "code",
      "metadata": {
        "colab": {
          "base_uri": "https://localhost:8080/",
          "height": 294
        },
        "id": "GrIQP9IF5ZDp",
        "outputId": "baea0e8a-276a-4c86-bdca-494d7271d754"
      },
      "source": [
        "ch_df1['Close'].plot()"
      ],
      "execution_count": null,
      "outputs": [
        {
          "output_type": "execute_result",
          "data": {
            "text/plain": [
              "<matplotlib.axes._subplots.AxesSubplot at 0x7ff0470cdd10>"
            ]
          },
          "metadata": {},
          "execution_count": 17
        },
        {
          "output_type": "display_data",
          "data": {
            "image/png": "[encoded data removed]",
            "text/plain": [
              "<Figure size 432x288 with 1 Axes>"
            ]
          },
          "metadata": {
            "needs_background": "light"
          }
        }
      ]
    },
    {
      "cell_type": "code",
      "metadata": {
        "colab": {
          "base_uri": "https://localhost:8080/",
          "height": 394
        },
        "id": "8T-_q_Xb5ZDp",
        "outputId": "523b9440-ea7a-4746-f3b9-b95ed9e6f895"
      },
      "source": [
        "df = fdr.DataReader('KS11', '2021') # KOSPI 지수\n",
        "df.head(10)"
      ],
      "execution_count": null,
      "outputs": [
        {
          "output_type": "execute_result",
          "data": {
            "text/html": [
              "<div>\n",
              "<style scoped>\n",
              "    .dataframe tbody tr th:only-of-type {\n",
              "        vertical-align: middle;\n",
              "    }\n",
              "\n",
              "    .dataframe tbody tr th {\n",
              "        vertical-align: top;\n",
              "    }\n",
              "\n",
              "    .dataframe thead th {\n",
              "        text-align: right;\n",
              "    }\n",
              "</style>\n",
              "<table border=\"1\" class=\"dataframe\">\n",
              "  <thead>\n",
              "    <tr style=\"text-align: right;\">\n",
              "      <th></th>\n",
              "      <th>Close</th>\n",
              "      <th>Open</th>\n",
              "      <th>High</th>\n",
              "      <th>Low</th>\n",
              "      <th>Volume</th>\n",
              "      <th>Change</th>\n",
              "    </tr>\n",
              "    <tr>\n",
              "      <th>Date</th>\n",
              "      <th></th>\n",
              "      <th></th>\n",
              "      <th></th>\n",
              "      <th></th>\n",
              "      <th></th>\n",
              "      <th></th>\n",
              "    </tr>\n",
              "  </thead>\n",
              "  <tbody>\n",
              "    <tr>\n",
              "      <th>2021-01-04</th>\n",
              "      <td>2944.45</td>\n",
              "      <td>2874.50</td>\n",
              "      <td>2946.54</td>\n",
              "      <td>2869.11</td>\n",
              "      <td>1.030000e+09</td>\n",
              "      <td>0.0247</td>\n",
              "    </tr>\n",
              "    <tr>\n",
              "      <th>2021-01-05</th>\n",
              "      <td>2990.57</td>\n",
              "      <td>2943.67</td>\n",
              "      <td>2990.57</td>\n",
              "      <td>2921.84</td>\n",
              "      <td>1.520000e+09</td>\n",
              "      <td>0.0157</td>\n",
              "    </tr>\n",
              "    <tr>\n",
              "      <th>2021-01-06</th>\n",
              "      <td>2968.21</td>\n",
              "      <td>2993.34</td>\n",
              "      <td>3027.16</td>\n",
              "      <td>2961.37</td>\n",
              "      <td>1.790000e+09</td>\n",
              "      <td>-0.0075</td>\n",
              "    </tr>\n",
              "    <tr>\n",
              "      <th>2021-01-07</th>\n",
              "      <td>3031.68</td>\n",
              "      <td>2980.75</td>\n",
              "      <td>3055.28</td>\n",
              "      <td>2980.75</td>\n",
              "      <td>1.520000e+09</td>\n",
              "      <td>0.0214</td>\n",
              "    </tr>\n",
              "    <tr>\n",
              "      <th>2021-01-08</th>\n",
              "      <td>3152.18</td>\n",
              "      <td>3040.11</td>\n",
              "      <td>3161.11</td>\n",
              "      <td>3040.11</td>\n",
              "      <td>1.300000e+09</td>\n",
              "      <td>0.0397</td>\n",
              "    </tr>\n",
              "    <tr>\n",
              "      <th>2021-01-11</th>\n",
              "      <td>3148.45</td>\n",
              "      <td>3161.90</td>\n",
              "      <td>3266.23</td>\n",
              "      <td>3096.19</td>\n",
              "      <td>1.710000e+09</td>\n",
              "      <td>-0.0012</td>\n",
              "    </tr>\n",
              "    <tr>\n",
              "      <th>2021-01-12</th>\n",
              "      <td>3125.95</td>\n",
              "      <td>3145.87</td>\n",
              "      <td>3154.79</td>\n",
              "      <td>3047.56</td>\n",
              "      <td>1.390000e+09</td>\n",
              "      <td>-0.0071</td>\n",
              "    </tr>\n",
              "    <tr>\n",
              "      <th>2021-01-13</th>\n",
              "      <td>3148.29</td>\n",
              "      <td>3128.26</td>\n",
              "      <td>3164.37</td>\n",
              "      <td>3109.63</td>\n",
              "      <td>1.580000e+09</td>\n",
              "      <td>0.0071</td>\n",
              "    </tr>\n",
              "    <tr>\n",
              "      <th>2021-01-14</th>\n",
              "      <td>3149.93</td>\n",
              "      <td>3148.65</td>\n",
              "      <td>3159.03</td>\n",
              "      <td>3128.72</td>\n",
              "      <td>1.230000e+09</td>\n",
              "      <td>0.0005</td>\n",
              "    </tr>\n",
              "    <tr>\n",
              "      <th>2021-01-15</th>\n",
              "      <td>3085.90</td>\n",
              "      <td>3153.84</td>\n",
              "      <td>3189.90</td>\n",
              "      <td>3085.90</td>\n",
              "      <td>1.330000e+09</td>\n",
              "      <td>-0.0203</td>\n",
              "    </tr>\n",
              "  </tbody>\n",
              "</table>\n",
              "</div>"
            ],
            "text/plain": [
              "              Close     Open     High      Low        Volume  Change\n",
              "Date                                                                \n",
              "2021-01-04  2944.45  2874.50  2946.54  2869.11  1.030000e+09  0.0247\n",
              "2021-01-05  2990.57  2943.67  2990.57  2921.84  1.520000e+09  0.0157\n",
              "2021-01-06  2968.21  2993.34  3027.16  2961.37  1.790000e+09 -0.0075\n",
              "2021-01-07  3031.68  2980.75  3055.28  2980.75  1.520000e+09  0.0214\n",
              "2021-01-08  3152.18  3040.11  3161.11  3040.11  1.300000e+09  0.0397\n",
              "2021-01-11  3148.45  3161.90  3266.23  3096.19  1.710000e+09 -0.0012\n",
              "2021-01-12  3125.95  3145.87  3154.79  3047.56  1.390000e+09 -0.0071\n",
              "2021-01-13  3148.29  3128.26  3164.37  3109.63  1.580000e+09  0.0071\n",
              "2021-01-14  3149.93  3148.65  3159.03  3128.72  1.230000e+09  0.0005\n",
              "2021-01-15  3085.90  3153.84  3189.90  3085.90  1.330000e+09 -0.0203"
            ]
          },
          "metadata": {},
          "execution_count": 18
        }
      ]
    },
    {
      "cell_type": "markdown",
      "metadata": {
        "id": "WOZr-izS6YJB"
      },
      "source": [
        "그외 : https://financedata.github.io/posts/finance-data-reader-users-guide.html"
      ]
    }
  ]
}