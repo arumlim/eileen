{
  "nbformat": 4,
  "nbformat_minor": 0,
  "metadata": {
    "kernelspec": {
      "display_name": "Python 3.8.12 64-bit ('base': conda)",
      "name": "python3812jvsc74a57bd0737adab86a857289fc3bb162d0b4f640b26cc80f7c2ae1cce2eb6b9aa0f64168"
    },
    "language_info": {
      "codemirror_mode": {
        "name": "ipython",
        "version": 3
      },
      "file_extension": ".py",
      "mimetype": "text/x-python",
      "name": "python",
      "nbconvert_exporter": "python",
      "pygments_lexer": "ipython3",
      "version": "3.8.12"
    },
    "metadata": {
      "interpreter": {
        "hash": "737adab86a857289fc3bb162d0b4f640b26cc80f7c2ae1cce2eb6b9aa0f64168"
      }
    },
    "colab": {
      "name": "04. Finance Data Reader.ipynb",
      "provenance": [],
      "collapsed_sections": [],
      "include_colab_link": true
    }
  },
  "cells": [
    {
      "cell_type": "markdown",
      "metadata": {
        "id": "view-in-github",
        "colab_type": "text"
      },
      "source": [
        "<a href=\"https://colab.research.google.com/github/arumlim/eileen/blob/master/1128Finance_Data_Reader.ipynb\" target=\"_parent\"><img src=\"https://colab.research.google.com/assets/colab-badge.svg\" alt=\"Open In Colab\"/></a>"
      ]
    },
    {
      "cell_type": "code",
      "metadata": {
        "colab": {
          "base_uri": "https://localhost:8080/"
        },
        "id": "fI0vxMte5jGH",
        "outputId": "afd5fb35-0bf6-438a-a4bf-d938bb218278"
      },
      "source": [
        "!pip install -U finance-datareader"
      ],
      "execution_count": 2,
      "outputs": [
        {
          "output_type": "stream",
          "name": "stdout",
          "text": [
            "Collecting finance-datareader\n",
            "  Downloading finance_datareader-0.9.31-py3-none-any.whl (17 kB)\n",
            "Requirement already satisfied: lxml in /usr/local/lib/python3.7/dist-packages (from finance-datareader) (4.2.6)\n",
            "Requirement already satisfied: requests>=2.3.0 in /usr/local/lib/python3.7/dist-packages (from finance-datareader) (2.23.0)\n",
            "Requirement already satisfied: pandas>=0.19.2 in /usr/local/lib/python3.7/dist-packages (from finance-datareader) (1.1.5)\n",
            "Collecting requests-file\n",
            "  Downloading requests_file-1.5.1-py2.py3-none-any.whl (3.7 kB)\n",
            "Requirement already satisfied: tqdm in /usr/local/lib/python3.7/dist-packages (from finance-datareader) (4.62.3)\n",
            "Requirement already satisfied: numpy>=1.15.4 in /usr/local/lib/python3.7/dist-packages (from pandas>=0.19.2->finance-datareader) (1.19.5)\n",
            "Requirement already satisfied: python-dateutil>=2.7.3 in /usr/local/lib/python3.7/dist-packages (from pandas>=0.19.2->finance-datareader) (2.8.2)\n",
            "Requirement already satisfied: pytz>=2017.2 in /usr/local/lib/python3.7/dist-packages (from pandas>=0.19.2->finance-datareader) (2018.9)\n",
            "Requirement already satisfied: six>=1.5 in /usr/local/lib/python3.7/dist-packages (from python-dateutil>=2.7.3->pandas>=0.19.2->finance-datareader) (1.15.0)\n",
            "Requirement already satisfied: idna<3,>=2.5 in /usr/local/lib/python3.7/dist-packages (from requests>=2.3.0->finance-datareader) (2.10)\n",
            "Requirement already satisfied: urllib3!=1.25.0,!=1.25.1,<1.26,>=1.21.1 in /usr/local/lib/python3.7/dist-packages (from requests>=2.3.0->finance-datareader) (1.24.3)\n",
            "Requirement already satisfied: certifi>=2017.4.17 in /usr/local/lib/python3.7/dist-packages (from requests>=2.3.0->finance-datareader) (2021.10.8)\n",
            "Requirement already satisfied: chardet<4,>=3.0.2 in /usr/local/lib/python3.7/dist-packages (from requests>=2.3.0->finance-datareader) (3.0.4)\n",
            "Installing collected packages: requests-file, finance-datareader\n",
            "Successfully installed finance-datareader-0.9.31 requests-file-1.5.1\n"
          ]
        }
      ]
    },
    {
      "cell_type": "code",
      "metadata": {
        "id": "dJXhHlRe5ZDc"
      },
      "source": [
        "import FinanceDataReader as fdr"
      ],
      "execution_count": 3,
      "outputs": []
    },
    {
      "cell_type": "code",
      "metadata": {
        "colab": {
          "base_uri": "https://localhost:8080/",
          "height": 206
        },
        "id": "-GfmWZUC5ZDg",
        "outputId": "c7e95b75-1c0e-43aa-f0d8-6249db591e09"
      },
      "source": [
        "# 한국거래소 상장종목 전체\n",
        "df_krx = fdr.StockListing('KOSPI')\n",
        "df_krx.head()"
      ],
      "execution_count": 5,
      "outputs": [
        {
          "output_type": "execute_result",
          "data": {
            "text/html": [
              "<div>\n",
              "<style scoped>\n",
              "    .dataframe tbody tr th:only-of-type {\n",
              "        vertical-align: middle;\n",
              "    }\n",
              "\n",
              "    .dataframe tbody tr th {\n",
              "        vertical-align: top;\n",
              "    }\n",
              "\n",
              "    .dataframe thead th {\n",
              "        text-align: right;\n",
              "    }\n",
              "</style>\n",
              "<table border=\"1\" class=\"dataframe\">\n",
              "  <thead>\n",
              "    <tr style=\"text-align: right;\">\n",
              "      <th></th>\n",
              "      <th>Symbol</th>\n",
              "      <th>Market</th>\n",
              "      <th>Name</th>\n",
              "      <th>Sector</th>\n",
              "      <th>Industry</th>\n",
              "      <th>ListingDate</th>\n",
              "      <th>SettleMonth</th>\n",
              "      <th>Representative</th>\n",
              "      <th>HomePage</th>\n",
              "      <th>Region</th>\n",
              "    </tr>\n",
              "  </thead>\n",
              "  <tbody>\n",
              "    <tr>\n",
              "      <th>1</th>\n",
              "      <td>095570</td>\n",
              "      <td>KOSPI</td>\n",
              "      <td>AJ네트웍스</td>\n",
              "      <td>산업용 기계 및 장비 임대업</td>\n",
              "      <td>렌탈(파렛트, OA장비, 건설장비)</td>\n",
              "      <td>2015-08-21</td>\n",
              "      <td>12월</td>\n",
              "      <td>박대현</td>\n",
              "      <td>http://www.ajnet.co.kr</td>\n",
              "      <td>서울특별시</td>\n",
              "    </tr>\n",
              "    <tr>\n",
              "      <th>2</th>\n",
              "      <td>006840</td>\n",
              "      <td>KOSPI</td>\n",
              "      <td>AK홀딩스</td>\n",
              "      <td>기타 금융업</td>\n",
              "      <td>지주사업</td>\n",
              "      <td>1999-08-11</td>\n",
              "      <td>12월</td>\n",
              "      <td>채형석, 이석주(각자 대표이사)</td>\n",
              "      <td>http://www.aekyunggroup.co.kr</td>\n",
              "      <td>서울특별시</td>\n",
              "    </tr>\n",
              "    <tr>\n",
              "      <th>6</th>\n",
              "      <td>152100</td>\n",
              "      <td>KOSPI</td>\n",
              "      <td>ARIRANG 200</td>\n",
              "      <td>NaN</td>\n",
              "      <td>NaN</td>\n",
              "      <td>NaT</td>\n",
              "      <td>NaN</td>\n",
              "      <td>NaN</td>\n",
              "      <td>NaN</td>\n",
              "      <td>NaN</td>\n",
              "    </tr>\n",
              "    <tr>\n",
              "      <th>7</th>\n",
              "      <td>295820</td>\n",
              "      <td>KOSPI</td>\n",
              "      <td>ARIRANG 200동일가중</td>\n",
              "      <td>NaN</td>\n",
              "      <td>NaN</td>\n",
              "      <td>NaT</td>\n",
              "      <td>NaN</td>\n",
              "      <td>NaN</td>\n",
              "      <td>NaN</td>\n",
              "      <td>NaN</td>\n",
              "    </tr>\n",
              "    <tr>\n",
              "      <th>8</th>\n",
              "      <td>253150</td>\n",
              "      <td>KOSPI</td>\n",
              "      <td>ARIRANG 200선물레버리지</td>\n",
              "      <td>NaN</td>\n",
              "      <td>NaN</td>\n",
              "      <td>NaT</td>\n",
              "      <td>NaN</td>\n",
              "      <td>NaN</td>\n",
              "      <td>NaN</td>\n",
              "      <td>NaN</td>\n",
              "    </tr>\n",
              "  </tbody>\n",
              "</table>\n",
              "</div>"
            ],
            "text/plain": [
              "   Symbol Market  ...                       HomePage Region\n",
              "1  095570  KOSPI  ...         http://www.ajnet.co.kr  서울특별시\n",
              "2  006840  KOSPI  ...  http://www.aekyunggroup.co.kr  서울특별시\n",
              "6  152100  KOSPI  ...                            NaN    NaN\n",
              "7  295820  KOSPI  ...                            NaN    NaN\n",
              "8  253150  KOSPI  ...                            NaN    NaN\n",
              "\n",
              "[5 rows x 10 columns]"
            ]
          },
          "metadata": {},
          "execution_count": 5
        }
      ]
    },
    {
      "cell_type": "code",
      "metadata": {
        "id": "0b5DOcXV7ODf",
        "outputId": "91c2d672-a052-4444-9707-f6fca23da720",
        "colab": {
          "base_uri": "https://localhost:8080/",
          "height": 206
        }
      },
      "source": [
        "df_krx = fdr.StockListing('KONEX')\n",
        "df_krx.head()"
      ],
      "execution_count": 6,
      "outputs": [
        {
          "output_type": "execute_result",
          "data": {
            "text/html": [
              "<div>\n",
              "<style scoped>\n",
              "    .dataframe tbody tr th:only-of-type {\n",
              "        vertical-align: middle;\n",
              "    }\n",
              "\n",
              "    .dataframe tbody tr th {\n",
              "        vertical-align: top;\n",
              "    }\n",
              "\n",
              "    .dataframe thead th {\n",
              "        text-align: right;\n",
              "    }\n",
              "</style>\n",
              "<table border=\"1\" class=\"dataframe\">\n",
              "  <thead>\n",
              "    <tr style=\"text-align: right;\">\n",
              "      <th></th>\n",
              "      <th>Symbol</th>\n",
              "      <th>Market</th>\n",
              "      <th>Name</th>\n",
              "      <th>Sector</th>\n",
              "      <th>Industry</th>\n",
              "      <th>ListingDate</th>\n",
              "      <th>SettleMonth</th>\n",
              "      <th>Representative</th>\n",
              "      <th>HomePage</th>\n",
              "      <th>Region</th>\n",
              "    </tr>\n",
              "  </thead>\n",
              "  <tbody>\n",
              "    <tr>\n",
              "      <th>94</th>\n",
              "      <td>278990</td>\n",
              "      <td>KONEX</td>\n",
              "      <td>EMB</td>\n",
              "      <td>전동기, 발전기 및 전기 변환 · 공급 · 제어 장치 제조업</td>\n",
              "      <td>태양광ESS,휴대폰 액세서리</td>\n",
              "      <td>2017-10-31</td>\n",
              "      <td>12월</td>\n",
              "      <td>홍지태</td>\n",
              "      <td>http://www.fineemtech.co.kr</td>\n",
              "      <td>경기도</td>\n",
              "    </tr>\n",
              "    <tr>\n",
              "      <th>1412</th>\n",
              "      <td>112190</td>\n",
              "      <td>KONEX</td>\n",
              "      <td>KC산업</td>\n",
              "      <td>시멘트, 석회, 플라스터 및 그 제품 제조업</td>\n",
              "      <td>철강보강콘크리트제품</td>\n",
              "      <td>2016-05-31</td>\n",
              "      <td>12월</td>\n",
              "      <td>이홍재, 박광노(각자대표)</td>\n",
              "      <td>http://www.kccond.co.kr</td>\n",
              "      <td>경기도</td>\n",
              "    </tr>\n",
              "    <tr>\n",
              "      <th>2222</th>\n",
              "      <td>183410</td>\n",
              "      <td>KONEX</td>\n",
              "      <td>골프존데카</td>\n",
              "      <td>측정, 시험, 항해, 제어 및 기타 정밀기기 제조업; 광학기기 제외</td>\n",
              "      <td>골프거리측정기</td>\n",
              "      <td>2013-11-12</td>\n",
              "      <td>12월</td>\n",
              "      <td>정주명</td>\n",
              "      <td>http://www.golfbuddy.kr</td>\n",
              "      <td>경기도</td>\n",
              "    </tr>\n",
              "    <tr>\n",
              "      <th>2223</th>\n",
              "      <td>076340</td>\n",
              "      <td>KONEX</td>\n",
              "      <td>관악산업</td>\n",
              "      <td>기반조성 및 시설물 축조관련 전문공사업</td>\n",
              "      <td>수중공사, 준설공사 등</td>\n",
              "      <td>2015-05-18</td>\n",
              "      <td>12월</td>\n",
              "      <td>이규항</td>\n",
              "      <td>http://www.gwan-ak.co.kr</td>\n",
              "      <td>서울특별시</td>\n",
              "    </tr>\n",
              "    <tr>\n",
              "      <th>2247</th>\n",
              "      <td>243870</td>\n",
              "      <td>KONEX</td>\n",
              "      <td>굿센</td>\n",
              "      <td>컴퓨터 프로그래밍, 시스템 통합 및 관리업</td>\n",
              "      <td>건설ERP, 공공클라우드</td>\n",
              "      <td>2016-10-31</td>\n",
              "      <td>12월</td>\n",
              "      <td>-</td>\n",
              "      <td>http://www.goodcen.com</td>\n",
              "      <td>서울특별시</td>\n",
              "    </tr>\n",
              "  </tbody>\n",
              "</table>\n",
              "</div>"
            ],
            "text/plain": [
              "      Symbol Market   Name  ...  Representative                     HomePage Region\n",
              "94    278990  KONEX    EMB  ...             홍지태  http://www.fineemtech.co.kr    경기도\n",
              "1412  112190  KONEX   KC산업  ...  이홍재, 박광노(각자대표)      http://www.kccond.co.kr    경기도\n",
              "2222  183410  KONEX  골프존데카  ...             정주명      http://www.golfbuddy.kr    경기도\n",
              "2223  076340  KONEX   관악산업  ...             이규항     http://www.gwan-ak.co.kr  서울특별시\n",
              "2247  243870  KONEX     굿센  ...               -       http://www.goodcen.com  서울특별시\n",
              "\n",
              "[5 rows x 10 columns]"
            ]
          },
          "metadata": {},
          "execution_count": 6
        }
      ]
    },
    {
      "cell_type": "code",
      "metadata": {
        "colab": {
          "base_uri": "https://localhost:8080/"
        },
        "id": "e3cfI8CE5ZDh",
        "outputId": "28009b6d-927c-450b-9074-9280579b5fc9"
      },
      "source": [
        "len(df_krx)"
      ],
      "execution_count": 7,
      "outputs": [
        {
          "output_type": "execute_result",
          "data": {
            "text/plain": [
              "131"
            ]
          },
          "metadata": {},
          "execution_count": 7
        }
      ]
    },
    {
      "cell_type": "code",
      "metadata": {
        "colab": {
          "base_uri": "https://localhost:8080/",
          "height": 206
        },
        "id": "e9l4LCeV5ZDi",
        "outputId": "8c68a09c-3c77-41ef-c5fd-53e7836143c4"
      },
      "source": [
        "import FinanceDataReader as fdr\n",
        "# S&P 500 종목 전체\n",
        "df_spx = fdr.StockListing('S&P500')\n",
        "df_spx.head()"
      ],
      "execution_count": 8,
      "outputs": [
        {
          "output_type": "execute_result",
          "data": {
            "text/html": [
              "<div>\n",
              "<style scoped>\n",
              "    .dataframe tbody tr th:only-of-type {\n",
              "        vertical-align: middle;\n",
              "    }\n",
              "\n",
              "    .dataframe tbody tr th {\n",
              "        vertical-align: top;\n",
              "    }\n",
              "\n",
              "    .dataframe thead th {\n",
              "        text-align: right;\n",
              "    }\n",
              "</style>\n",
              "<table border=\"1\" class=\"dataframe\">\n",
              "  <thead>\n",
              "    <tr style=\"text-align: right;\">\n",
              "      <th></th>\n",
              "      <th>Symbol</th>\n",
              "      <th>Name</th>\n",
              "      <th>Sector</th>\n",
              "      <th>Industry</th>\n",
              "    </tr>\n",
              "  </thead>\n",
              "  <tbody>\n",
              "    <tr>\n",
              "      <th>0</th>\n",
              "      <td>MMM</td>\n",
              "      <td>3M</td>\n",
              "      <td>Industrials</td>\n",
              "      <td>Industrial Conglomerates</td>\n",
              "    </tr>\n",
              "    <tr>\n",
              "      <th>1</th>\n",
              "      <td>ABT</td>\n",
              "      <td>Abbott Laboratories</td>\n",
              "      <td>Health Care</td>\n",
              "      <td>Health Care Equipment</td>\n",
              "    </tr>\n",
              "    <tr>\n",
              "      <th>2</th>\n",
              "      <td>ABBV</td>\n",
              "      <td>AbbVie</td>\n",
              "      <td>Health Care</td>\n",
              "      <td>Pharmaceuticals</td>\n",
              "    </tr>\n",
              "    <tr>\n",
              "      <th>3</th>\n",
              "      <td>ABMD</td>\n",
              "      <td>Abiomed</td>\n",
              "      <td>Health Care</td>\n",
              "      <td>Health Care Equipment</td>\n",
              "    </tr>\n",
              "    <tr>\n",
              "      <th>4</th>\n",
              "      <td>ACN</td>\n",
              "      <td>Accenture</td>\n",
              "      <td>Information Technology</td>\n",
              "      <td>IT Consulting &amp; Other Services</td>\n",
              "    </tr>\n",
              "  </tbody>\n",
              "</table>\n",
              "</div>"
            ],
            "text/plain": [
              "  Symbol  ...                        Industry\n",
              "0    MMM  ...        Industrial Conglomerates\n",
              "1    ABT  ...           Health Care Equipment\n",
              "2   ABBV  ...                 Pharmaceuticals\n",
              "3   ABMD  ...           Health Care Equipment\n",
              "4    ACN  ...  IT Consulting & Other Services\n",
              "\n",
              "[5 rows x 4 columns]"
            ]
          },
          "metadata": {},
          "execution_count": 8
        }
      ]
    },
    {
      "cell_type": "code",
      "metadata": {
        "colab": {
          "base_uri": "https://localhost:8080/",
          "height": 394
        },
        "id": "0KkQd2hF5ZDi",
        "outputId": "d310f05d-b37d-40a0-b8fe-0bcc9bb4fd1c"
      },
      "source": [
        "# 레인보우로보틱스, 2018년\n",
        "df = fdr.DataReader('277810', '2018')\n",
        "df.tail(10)"
      ],
      "execution_count": 10,
      "outputs": [
        {
          "output_type": "execute_result",
          "data": {
            "text/html": [
              "<div>\n",
              "<style scoped>\n",
              "    .dataframe tbody tr th:only-of-type {\n",
              "        vertical-align: middle;\n",
              "    }\n",
              "\n",
              "    .dataframe tbody tr th {\n",
              "        vertical-align: top;\n",
              "    }\n",
              "\n",
              "    .dataframe thead th {\n",
              "        text-align: right;\n",
              "    }\n",
              "</style>\n",
              "<table border=\"1\" class=\"dataframe\">\n",
              "  <thead>\n",
              "    <tr style=\"text-align: right;\">\n",
              "      <th></th>\n",
              "      <th>Open</th>\n",
              "      <th>High</th>\n",
              "      <th>Low</th>\n",
              "      <th>Close</th>\n",
              "      <th>Volume</th>\n",
              "      <th>Change</th>\n",
              "    </tr>\n",
              "    <tr>\n",
              "      <th>Date</th>\n",
              "      <th></th>\n",
              "      <th></th>\n",
              "      <th></th>\n",
              "      <th></th>\n",
              "      <th></th>\n",
              "      <th></th>\n",
              "    </tr>\n",
              "  </thead>\n",
              "  <tbody>\n",
              "    <tr>\n",
              "      <th>2021-11-15</th>\n",
              "      <td>19450</td>\n",
              "      <td>19500</td>\n",
              "      <td>19100</td>\n",
              "      <td>19350</td>\n",
              "      <td>46336</td>\n",
              "      <td>0.015748</td>\n",
              "    </tr>\n",
              "    <tr>\n",
              "      <th>2021-11-16</th>\n",
              "      <td>19350</td>\n",
              "      <td>19450</td>\n",
              "      <td>19000</td>\n",
              "      <td>19100</td>\n",
              "      <td>51996</td>\n",
              "      <td>-0.012920</td>\n",
              "    </tr>\n",
              "    <tr>\n",
              "      <th>2021-11-17</th>\n",
              "      <td>19200</td>\n",
              "      <td>19300</td>\n",
              "      <td>18850</td>\n",
              "      <td>19200</td>\n",
              "      <td>60662</td>\n",
              "      <td>0.005236</td>\n",
              "    </tr>\n",
              "    <tr>\n",
              "      <th>2021-11-18</th>\n",
              "      <td>19150</td>\n",
              "      <td>20200</td>\n",
              "      <td>18850</td>\n",
              "      <td>20100</td>\n",
              "      <td>86657</td>\n",
              "      <td>0.046875</td>\n",
              "    </tr>\n",
              "    <tr>\n",
              "      <th>2021-11-19</th>\n",
              "      <td>20350</td>\n",
              "      <td>20900</td>\n",
              "      <td>19800</td>\n",
              "      <td>20300</td>\n",
              "      <td>143469</td>\n",
              "      <td>0.009950</td>\n",
              "    </tr>\n",
              "    <tr>\n",
              "      <th>2021-11-22</th>\n",
              "      <td>20100</td>\n",
              "      <td>20450</td>\n",
              "      <td>19900</td>\n",
              "      <td>20400</td>\n",
              "      <td>49265</td>\n",
              "      <td>0.004926</td>\n",
              "    </tr>\n",
              "    <tr>\n",
              "      <th>2021-11-23</th>\n",
              "      <td>20100</td>\n",
              "      <td>20400</td>\n",
              "      <td>19700</td>\n",
              "      <td>19750</td>\n",
              "      <td>54195</td>\n",
              "      <td>-0.031863</td>\n",
              "    </tr>\n",
              "    <tr>\n",
              "      <th>2021-11-24</th>\n",
              "      <td>19750</td>\n",
              "      <td>20100</td>\n",
              "      <td>19100</td>\n",
              "      <td>19400</td>\n",
              "      <td>65689</td>\n",
              "      <td>-0.017722</td>\n",
              "    </tr>\n",
              "    <tr>\n",
              "      <th>2021-11-25</th>\n",
              "      <td>19200</td>\n",
              "      <td>19750</td>\n",
              "      <td>18950</td>\n",
              "      <td>19150</td>\n",
              "      <td>39417</td>\n",
              "      <td>-0.012887</td>\n",
              "    </tr>\n",
              "    <tr>\n",
              "      <th>2021-11-26</th>\n",
              "      <td>19300</td>\n",
              "      <td>19350</td>\n",
              "      <td>18750</td>\n",
              "      <td>18800</td>\n",
              "      <td>42754</td>\n",
              "      <td>-0.018277</td>\n",
              "    </tr>\n",
              "  </tbody>\n",
              "</table>\n",
              "</div>"
            ],
            "text/plain": [
              "             Open   High    Low  Close  Volume    Change\n",
              "Date                                                    \n",
              "2021-11-15  19450  19500  19100  19350   46336  0.015748\n",
              "2021-11-16  19350  19450  19000  19100   51996 -0.012920\n",
              "2021-11-17  19200  19300  18850  19200   60662  0.005236\n",
              "2021-11-18  19150  20200  18850  20100   86657  0.046875\n",
              "2021-11-19  20350  20900  19800  20300  143469  0.009950\n",
              "2021-11-22  20100  20450  19900  20400   49265  0.004926\n",
              "2021-11-23  20100  20400  19700  19750   54195 -0.031863\n",
              "2021-11-24  19750  20100  19100  19400   65689 -0.017722\n",
              "2021-11-25  19200  19750  18950  19150   39417 -0.012887\n",
              "2021-11-26  19300  19350  18750  18800   42754 -0.018277"
            ]
          },
          "metadata": {},
          "execution_count": 10
        }
      ]
    },
    {
      "cell_type": "code",
      "metadata": {
        "colab": {
          "base_uri": "https://localhost:8080/",
          "height": 295
        },
        "id": "h48uUq4i5ZDj",
        "outputId": "97e0b248-8fd6-41e8-aa6c-fb58a3a92bad"
      },
      "source": [
        "df['Close'].plot()"
      ],
      "execution_count": 12,
      "outputs": [
        {
          "output_type": "execute_result",
          "data": {
            "text/plain": [
              "<matplotlib.axes._subplots.AxesSubplot at 0x7f99f30972d0>"
            ]
          },
          "metadata": {},
          "execution_count": 12
        },
        {
          "output_type": "display_data",
          "data": {
            "image/png": "[encoded data removed]",
            "text/plain": [
              "<Figure size 432x288 with 1 Axes>"
            ]
          },
          "metadata": {
            "needs_background": "light"
          }
        }
      ]
    },
    {
      "cell_type": "code",
      "metadata": {
        "colab": {
          "base_uri": "https://localhost:8080/",
          "height": 394
        },
        "id": "LzrKHQ6z5ZDj",
        "outputId": "6feb179e-8b45-4801-e200-23b355c7bc11"
      },
      "source": [
        "df = fdr.DataReader('AAPL', '2017') # 애플(AAPL), 2017년\n",
        "df.tail(10)"
      ],
      "execution_count": 14,
      "outputs": [
        {
          "output_type": "execute_result",
          "data": {
            "text/html": [
              "<div>\n",
              "<style scoped>\n",
              "    .dataframe tbody tr th:only-of-type {\n",
              "        vertical-align: middle;\n",
              "    }\n",
              "\n",
              "    .dataframe tbody tr th {\n",
              "        vertical-align: top;\n",
              "    }\n",
              "\n",
              "    .dataframe thead th {\n",
              "        text-align: right;\n",
              "    }\n",
              "</style>\n",
              "<table border=\"1\" class=\"dataframe\">\n",
              "  <thead>\n",
              "    <tr style=\"text-align: right;\">\n",
              "      <th></th>\n",
              "      <th>Close</th>\n",
              "      <th>Open</th>\n",
              "      <th>High</th>\n",
              "      <th>Low</th>\n",
              "      <th>Volume</th>\n",
              "      <th>Change</th>\n",
              "    </tr>\n",
              "    <tr>\n",
              "      <th>Date</th>\n",
              "      <th></th>\n",
              "      <th></th>\n",
              "      <th></th>\n",
              "      <th></th>\n",
              "      <th></th>\n",
              "      <th></th>\n",
              "    </tr>\n",
              "  </thead>\n",
              "  <tbody>\n",
              "    <tr>\n",
              "      <th>2021-11-12</th>\n",
              "      <td>149.99</td>\n",
              "      <td>148.43</td>\n",
              "      <td>150.40</td>\n",
              "      <td>147.48</td>\n",
              "      <td>63800000.0</td>\n",
              "      <td>0.0143</td>\n",
              "    </tr>\n",
              "    <tr>\n",
              "      <th>2021-11-15</th>\n",
              "      <td>150.00</td>\n",
              "      <td>150.37</td>\n",
              "      <td>151.88</td>\n",
              "      <td>149.43</td>\n",
              "      <td>59220000.0</td>\n",
              "      <td>0.0001</td>\n",
              "    </tr>\n",
              "    <tr>\n",
              "      <th>2021-11-16</th>\n",
              "      <td>151.00</td>\n",
              "      <td>149.94</td>\n",
              "      <td>151.49</td>\n",
              "      <td>149.34</td>\n",
              "      <td>58620000.0</td>\n",
              "      <td>0.0067</td>\n",
              "    </tr>\n",
              "    <tr>\n",
              "      <th>2021-11-17</th>\n",
              "      <td>153.49</td>\n",
              "      <td>150.99</td>\n",
              "      <td>155.00</td>\n",
              "      <td>150.99</td>\n",
              "      <td>88110000.0</td>\n",
              "      <td>0.0165</td>\n",
              "    </tr>\n",
              "    <tr>\n",
              "      <th>2021-11-18</th>\n",
              "      <td>157.87</td>\n",
              "      <td>153.71</td>\n",
              "      <td>158.67</td>\n",
              "      <td>153.05</td>\n",
              "      <td>137830000.0</td>\n",
              "      <td>0.0285</td>\n",
              "    </tr>\n",
              "    <tr>\n",
              "      <th>2021-11-19</th>\n",
              "      <td>160.55</td>\n",
              "      <td>157.65</td>\n",
              "      <td>161.02</td>\n",
              "      <td>156.53</td>\n",
              "      <td>117310000.0</td>\n",
              "      <td>0.0170</td>\n",
              "    </tr>\n",
              "    <tr>\n",
              "      <th>2021-11-22</th>\n",
              "      <td>161.02</td>\n",
              "      <td>161.68</td>\n",
              "      <td>165.70</td>\n",
              "      <td>161.00</td>\n",
              "      <td>116200000.0</td>\n",
              "      <td>0.0029</td>\n",
              "    </tr>\n",
              "    <tr>\n",
              "      <th>2021-11-23</th>\n",
              "      <td>161.41</td>\n",
              "      <td>161.12</td>\n",
              "      <td>161.80</td>\n",
              "      <td>159.06</td>\n",
              "      <td>95440000.0</td>\n",
              "      <td>0.0024</td>\n",
              "    </tr>\n",
              "    <tr>\n",
              "      <th>2021-11-24</th>\n",
              "      <td>161.94</td>\n",
              "      <td>160.75</td>\n",
              "      <td>162.14</td>\n",
              "      <td>159.64</td>\n",
              "      <td>69460000.0</td>\n",
              "      <td>0.0033</td>\n",
              "    </tr>\n",
              "    <tr>\n",
              "      <th>2021-11-26</th>\n",
              "      <td>156.81</td>\n",
              "      <td>159.57</td>\n",
              "      <td>160.45</td>\n",
              "      <td>156.36</td>\n",
              "      <td>76950000.0</td>\n",
              "      <td>-0.0317</td>\n",
              "    </tr>\n",
              "  </tbody>\n",
              "</table>\n",
              "</div>"
            ],
            "text/plain": [
              "             Close    Open    High     Low       Volume  Change\n",
              "Date                                                           \n",
              "2021-11-12  149.99  148.43  150.40  147.48   63800000.0  0.0143\n",
              "2021-11-15  150.00  150.37  151.88  149.43   59220000.0  0.0001\n",
              "2021-11-16  151.00  149.94  151.49  149.34   58620000.0  0.0067\n",
              "2021-11-17  153.49  150.99  155.00  150.99   88110000.0  0.0165\n",
              "2021-11-18  157.87  153.71  158.67  153.05  137830000.0  0.0285\n",
              "2021-11-19  160.55  157.65  161.02  156.53  117310000.0  0.0170\n",
              "2021-11-22  161.02  161.68  165.70  161.00  116200000.0  0.0029\n",
              "2021-11-23  161.41  161.12  161.80  159.06   95440000.0  0.0024\n",
              "2021-11-24  161.94  160.75  162.14  159.64   69460000.0  0.0033\n",
              "2021-11-26  156.81  159.57  160.45  156.36   76950000.0 -0.0317"
            ]
          },
          "metadata": {},
          "execution_count": 14
        }
      ]
    },
    {
      "cell_type": "code",
      "metadata": {
        "colab": {
          "base_uri": "https://localhost:8080/",
          "height": 287
        },
        "id": "2vWFwoF45ZDl",
        "outputId": "b9f08c22-5b7d-4518-cc9a-e5d26f374c71"
      },
      "source": [
        "df['Close'].plot()"
      ],
      "execution_count": 15,
      "outputs": [
        {
          "output_type": "execute_result",
          "data": {
            "text/plain": [
              "<matplotlib.axes._subplots.AxesSubplot at 0x7f99f1acd0d0>"
            ]
          },
          "metadata": {},
          "execution_count": 15
        },
        {
          "output_type": "display_data",
          "data": {
            "image/png": "[encoded data removed]",
            "text/plain": [
              "<Figure size 432x288 with 1 Axes>"
            ]
          },
          "metadata": {
            "needs_background": "light"
          }
        }
      ]
    },
    {
      "cell_type": "code",
      "metadata": {
        "id": "o1t1X6RD5ZDl"
      },
      "source": [
        "# 애플(AAPL), 2018-01-01 ~ 2018-03-30\n",
        "df = fdr.DataReader('AAPL', '2021-01-01', '2021-11-28')\n",
        "\n",
        "# KS11 (KOSPI 지수), 2015년~현재\n",
        "df = fdr.DataReader('KS11', '2015')\n",
        "\n",
        "# 원달러 환율, 1995년~현재\n",
        "df = fdr.DataReader('USD/KRW', '1995')\n",
        "\n",
        "# 비트코인 원화 가격 (빗썸), 2016년~현재\n",
        "df = fdr.DataReader('BTC/KRW', '2016')"
      ],
      "execution_count": 16,
      "outputs": []
    },
    {
      "cell_type": "code",
      "metadata": {
        "id": "yd5bl_ou5ZDm"
      },
      "source": [
        "import FinanceDataReader as fdr"
      ],
      "execution_count": 17,
      "outputs": []
    },
    {
      "cell_type": "code",
      "metadata": {
        "id": "XL_6duNM5ZDn"
      },
      "source": [
        "# Exchage alias\n",
        "exchange_map = {\n",
        "    'KRX':'Seoul', '한국거래소':'Seoul',\n",
        "    'NASDAQ':'NASDAQ', '나스닥':'NASDAQ',\n",
        "    'NYSE':'NYSE', '뉴욕증권거래소':'NYSE', \n",
        "    'AMEX':'AMEX', '미국증권거래소':'AMEX', \n",
        "    'SSE':'Shanghai', '상해':'Shanghai', '상하이':'Shanghai',\n",
        "    'SZSE':'Shenzhen', '심천':'Shenzhen',\n",
        "    'HKEX':'Hong Kong', '홍콩':'Hong Kong',\n",
        "    'TSE':'Tokyo', '도쿄':'Tokyo',\n",
        "}"
      ],
      "execution_count": 18,
      "outputs": []
    },
    {
      "cell_type": "code",
      "metadata": {
        "id": "YmLyHIYY5ZDn"
      },
      "source": [
        "jp_df1 = fdr.DataReader(symbol='7751',start='2019-01-01',exchange='TSE') # Canon Inc (7751)\n",
        "jp_df2 = fdr.DataReader(symbol='7751',start='2019-01-01',exchange='도쿄') # Canon Inc (7751)"
      ],
      "execution_count": 19,
      "outputs": []
    },
    {
      "cell_type": "code",
      "metadata": {
        "colab": {
          "base_uri": "https://localhost:8080/",
          "height": 238
        },
        "id": "fGcApLEC5ZDo",
        "outputId": "735c19d2-e771-4e21-fa20-99e24f056918"
      },
      "source": [
        "jp_df2.head()"
      ],
      "execution_count": 20,
      "outputs": [
        {
          "output_type": "execute_result",
          "data": {
            "text/html": [
              "<div>\n",
              "<style scoped>\n",
              "    .dataframe tbody tr th:only-of-type {\n",
              "        vertical-align: middle;\n",
              "    }\n",
              "\n",
              "    .dataframe tbody tr th {\n",
              "        vertical-align: top;\n",
              "    }\n",
              "\n",
              "    .dataframe thead th {\n",
              "        text-align: right;\n",
              "    }\n",
              "</style>\n",
              "<table border=\"1\" class=\"dataframe\">\n",
              "  <thead>\n",
              "    <tr style=\"text-align: right;\">\n",
              "      <th></th>\n",
              "      <th>Close</th>\n",
              "      <th>Open</th>\n",
              "      <th>High</th>\n",
              "      <th>Low</th>\n",
              "      <th>Volume</th>\n",
              "      <th>Change</th>\n",
              "    </tr>\n",
              "    <tr>\n",
              "      <th>Date</th>\n",
              "      <th></th>\n",
              "      <th></th>\n",
              "      <th></th>\n",
              "      <th></th>\n",
              "      <th></th>\n",
              "      <th></th>\n",
              "    </tr>\n",
              "  </thead>\n",
              "  <tbody>\n",
              "    <tr>\n",
              "      <th>2019-01-04</th>\n",
              "      <td>2918.5</td>\n",
              "      <td>2900.0</td>\n",
              "      <td>2945.5</td>\n",
              "      <td>2876.5</td>\n",
              "      <td>7420000.0</td>\n",
              "      <td>-0.0275</td>\n",
              "    </tr>\n",
              "    <tr>\n",
              "      <th>2019-01-07</th>\n",
              "      <td>3020.0</td>\n",
              "      <td>2980.0</td>\n",
              "      <td>3028.0</td>\n",
              "      <td>2972.0</td>\n",
              "      <td>4560000.0</td>\n",
              "      <td>0.0348</td>\n",
              "    </tr>\n",
              "    <tr>\n",
              "      <th>2019-01-08</th>\n",
              "      <td>3021.0</td>\n",
              "      <td>3003.0</td>\n",
              "      <td>3042.0</td>\n",
              "      <td>2996.5</td>\n",
              "      <td>4390000.0</td>\n",
              "      <td>0.0003</td>\n",
              "    </tr>\n",
              "    <tr>\n",
              "      <th>2019-01-09</th>\n",
              "      <td>3038.0</td>\n",
              "      <td>3050.0</td>\n",
              "      <td>3054.0</td>\n",
              "      <td>3027.0</td>\n",
              "      <td>3810000.0</td>\n",
              "      <td>0.0056</td>\n",
              "    </tr>\n",
              "    <tr>\n",
              "      <th>2019-01-10</th>\n",
              "      <td>3026.0</td>\n",
              "      <td>3029.0</td>\n",
              "      <td>3037.0</td>\n",
              "      <td>3006.0</td>\n",
              "      <td>3230000.0</td>\n",
              "      <td>-0.0039</td>\n",
              "    </tr>\n",
              "  </tbody>\n",
              "</table>\n",
              "</div>"
            ],
            "text/plain": [
              "             Close    Open    High     Low     Volume  Change\n",
              "Date                                                         \n",
              "2019-01-04  2918.5  2900.0  2945.5  2876.5  7420000.0 -0.0275\n",
              "2019-01-07  3020.0  2980.0  3028.0  2972.0  4560000.0  0.0348\n",
              "2019-01-08  3021.0  3003.0  3042.0  2996.5  4390000.0  0.0003\n",
              "2019-01-09  3038.0  3050.0  3054.0  3027.0  3810000.0  0.0056\n",
              "2019-01-10  3026.0  3029.0  3037.0  3006.0  3230000.0 -0.0039"
            ]
          },
          "metadata": {},
          "execution_count": 20
        }
      ]
    },
    {
      "cell_type": "code",
      "metadata": {
        "colab": {
          "base_uri": "https://localhost:8080/",
          "height": 295
        },
        "id": "utwfJf4m5ZDo",
        "outputId": "ca90baf4-a466-4f9b-f186-8231f2518ed8"
      },
      "source": [
        "jp_df2['Close'].plot()"
      ],
      "execution_count": 21,
      "outputs": [
        {
          "output_type": "execute_result",
          "data": {
            "text/plain": [
              "<matplotlib.axes._subplots.AxesSubplot at 0x7f99f311d090>"
            ]
          },
          "metadata": {},
          "execution_count": 21
        },
        {
          "output_type": "display_data",
          "data": {
            "image/png": "[encoded data removed]",
            "text/plain": [
              "<Figure size 432x288 with 1 Axes>"
            ]
          },
          "metadata": {
            "needs_background": "light"
          }
        }
      ]
    },
    {
      "cell_type": "code",
      "metadata": {
        "id": "FqVNxmE85ZDo"
      },
      "source": [
        "ch_df1 = fdr.DataReader(symbol='601186',start='2019-01-01',exchange='SSE') # China Railway Construction Corp Ltd(601186)\n",
        "ch_df2 = fdr.DataReader(symbol='601186',start='2019-01-01',exchange='상해') # China Railway Construction Corp Ltd(601186)"
      ],
      "execution_count": 23,
      "outputs": []
    },
    {
      "cell_type": "code",
      "metadata": {
        "id": "5f5nlqwO8xht",
        "outputId": "e054bb88-97ac-4ae0-ed62-6dfc93f3935e",
        "colab": {
          "base_uri": "https://localhost:8080/"
        }
      },
      "source": [
        "ch_df1['Close']"
      ],
      "execution_count": 26,
      "outputs": [
        {
          "output_type": "execute_result",
          "data": {
            "text/plain": [
              "Date\n",
              "2019-01-02    10.71\n",
              "2019-01-03    10.76\n",
              "2019-01-04    11.08\n",
              "2019-01-07    11.17\n",
              "2019-01-08    11.17\n",
              "              ...  \n",
              "2021-11-22     7.29\n",
              "2021-11-23     7.41\n",
              "2021-11-24     7.39\n",
              "2021-11-25     7.40\n",
              "2021-11-26     7.37\n",
              "Name: Close, Length: 705, dtype: float64"
            ]
          },
          "metadata": {},
          "execution_count": 26
        }
      ]
    },
    {
      "cell_type": "code",
      "metadata": {
        "colab": {
          "base_uri": "https://localhost:8080/",
          "height": 295
        },
        "id": "GrIQP9IF5ZDp",
        "outputId": "07c7dac4-0e94-4605-a8b8-8545342ea018"
      },
      "source": [
        "ch_df1['Close'].plot()"
      ],
      "execution_count": 24,
      "outputs": [
        {
          "output_type": "execute_result",
          "data": {
            "text/plain": [
              "<matplotlib.axes._subplots.AxesSubplot at 0x7f99f2b92e90>"
            ]
          },
          "metadata": {},
          "execution_count": 24
        },
        {
          "output_type": "display_data",
          "data": {
            "image/png": "[encoded data removed]",
            "text/plain": [
              "<Figure size 432x288 with 1 Axes>"
            ]
          },
          "metadata": {
            "needs_background": "light"
          }
        }
      ]
    },
    {
      "cell_type": "code",
      "metadata": {
        "colab": {
          "base_uri": "https://localhost:8080/",
          "height": 394
        },
        "id": "8T-_q_Xb5ZDp",
        "outputId": "6918fa31-5a43-4e78-dd04-e94b5e2aa59a"
      },
      "source": [
        "df = fdr.DataReader('KS11', '2021') # KOSPI 지수\n",
        "df.head(10)"
      ],
      "execution_count": 25,
      "outputs": [
        {
          "output_type": "execute_result",
          "data": {
            "text/html": [
              "<div>\n",
              "<style scoped>\n",
              "    .dataframe tbody tr th:only-of-type {\n",
              "        vertical-align: middle;\n",
              "    }\n",
              "\n",
              "    .dataframe tbody tr th {\n",
              "        vertical-align: top;\n",
              "    }\n",
              "\n",
              "    .dataframe thead th {\n",
              "        text-align: right;\n",
              "    }\n",
              "</style>\n",
              "<table border=\"1\" class=\"dataframe\">\n",
              "  <thead>\n",
              "    <tr style=\"text-align: right;\">\n",
              "      <th></th>\n",
              "      <th>Close</th>\n",
              "      <th>Open</th>\n",
              "      <th>High</th>\n",
              "      <th>Low</th>\n",
              "      <th>Volume</th>\n",
              "      <th>Change</th>\n",
              "    </tr>\n",
              "    <tr>\n",
              "      <th>Date</th>\n",
              "      <th></th>\n",
              "      <th></th>\n",
              "      <th></th>\n",
              "      <th></th>\n",
              "      <th></th>\n",
              "      <th></th>\n",
              "    </tr>\n",
              "  </thead>\n",
              "  <tbody>\n",
              "    <tr>\n",
              "      <th>2021-01-04</th>\n",
              "      <td>2944.45</td>\n",
              "      <td>2874.50</td>\n",
              "      <td>2946.54</td>\n",
              "      <td>2869.11</td>\n",
              "      <td>1.030000e+09</td>\n",
              "      <td>0.0247</td>\n",
              "    </tr>\n",
              "    <tr>\n",
              "      <th>2021-01-05</th>\n",
              "      <td>2990.57</td>\n",
              "      <td>2943.67</td>\n",
              "      <td>2990.57</td>\n",
              "      <td>2921.84</td>\n",
              "      <td>1.520000e+09</td>\n",
              "      <td>0.0157</td>\n",
              "    </tr>\n",
              "    <tr>\n",
              "      <th>2021-01-06</th>\n",
              "      <td>2968.21</td>\n",
              "      <td>2993.34</td>\n",
              "      <td>3027.16</td>\n",
              "      <td>2961.37</td>\n",
              "      <td>1.790000e+09</td>\n",
              "      <td>-0.0075</td>\n",
              "    </tr>\n",
              "    <tr>\n",
              "      <th>2021-01-07</th>\n",
              "      <td>3031.68</td>\n",
              "      <td>2980.75</td>\n",
              "      <td>3055.28</td>\n",
              "      <td>2980.75</td>\n",
              "      <td>1.520000e+09</td>\n",
              "      <td>0.0214</td>\n",
              "    </tr>\n",
              "    <tr>\n",
              "      <th>2021-01-08</th>\n",
              "      <td>3152.18</td>\n",
              "      <td>3040.11</td>\n",
              "      <td>3161.11</td>\n",
              "      <td>3040.11</td>\n",
              "      <td>1.300000e+09</td>\n",
              "      <td>0.0397</td>\n",
              "    </tr>\n",
              "    <tr>\n",
              "      <th>2021-01-11</th>\n",
              "      <td>3148.45</td>\n",
              "      <td>3161.90</td>\n",
              "      <td>3266.23</td>\n",
              "      <td>3096.19</td>\n",
              "      <td>1.710000e+09</td>\n",
              "      <td>-0.0012</td>\n",
              "    </tr>\n",
              "    <tr>\n",
              "      <th>2021-01-12</th>\n",
              "      <td>3125.95</td>\n",
              "      <td>3145.87</td>\n",
              "      <td>3154.79</td>\n",
              "      <td>3047.56</td>\n",
              "      <td>1.390000e+09</td>\n",
              "      <td>-0.0071</td>\n",
              "    </tr>\n",
              "    <tr>\n",
              "      <th>2021-01-13</th>\n",
              "      <td>3148.29</td>\n",
              "      <td>3128.26</td>\n",
              "      <td>3164.37</td>\n",
              "      <td>3109.63</td>\n",
              "      <td>1.580000e+09</td>\n",
              "      <td>0.0071</td>\n",
              "    </tr>\n",
              "    <tr>\n",
              "      <th>2021-01-14</th>\n",
              "      <td>3149.93</td>\n",
              "      <td>3148.65</td>\n",
              "      <td>3159.03</td>\n",
              "      <td>3128.72</td>\n",
              "      <td>1.230000e+09</td>\n",
              "      <td>0.0005</td>\n",
              "    </tr>\n",
              "    <tr>\n",
              "      <th>2021-01-15</th>\n",
              "      <td>3085.90</td>\n",
              "      <td>3153.84</td>\n",
              "      <td>3189.90</td>\n",
              "      <td>3085.90</td>\n",
              "      <td>1.330000e+09</td>\n",
              "      <td>-0.0203</td>\n",
              "    </tr>\n",
              "  </tbody>\n",
              "</table>\n",
              "</div>"
            ],
            "text/plain": [
              "              Close     Open     High      Low        Volume  Change\n",
              "Date                                                                \n",
              "2021-01-04  2944.45  2874.50  2946.54  2869.11  1.030000e+09  0.0247\n",
              "2021-01-05  2990.57  2943.67  2990.57  2921.84  1.520000e+09  0.0157\n",
              "2021-01-06  2968.21  2993.34  3027.16  2961.37  1.790000e+09 -0.0075\n",
              "2021-01-07  3031.68  2980.75  3055.28  2980.75  1.520000e+09  0.0214\n",
              "2021-01-08  3152.18  3040.11  3161.11  3040.11  1.300000e+09  0.0397\n",
              "2021-01-11  3148.45  3161.90  3266.23  3096.19  1.710000e+09 -0.0012\n",
              "2021-01-12  3125.95  3145.87  3154.79  3047.56  1.390000e+09 -0.0071\n",
              "2021-01-13  3148.29  3128.26  3164.37  3109.63  1.580000e+09  0.0071\n",
              "2021-01-14  3149.93  3148.65  3159.03  3128.72  1.230000e+09  0.0005\n",
              "2021-01-15  3085.90  3153.84  3189.90  3085.90  1.330000e+09 -0.0203"
            ]
          },
          "metadata": {},
          "execution_count": 25
        }
      ]
    },
    {
      "cell_type": "markdown",
      "metadata": {
        "id": "WOZr-izS6YJB"
      },
      "source": [
        "그외 : https://financedata.github.io/posts/finance-data-reader-users-guide.html"
      ]
    }
  ]
}