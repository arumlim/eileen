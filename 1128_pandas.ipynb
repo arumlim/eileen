{
  "nbformat": 4,
  "nbformat_minor": 0,
  "metadata": {
    "kernelspec": {
      "display_name": "Python 3 (ipykernel)",
      "language": "python",
      "name": "python3"
    },
    "language_info": {
      "codemirror_mode": {
        "name": "ipython",
        "version": 3
      },
      "file_extension": ".py",
      "mimetype": "text/x-python",
      "name": "python",
      "nbconvert_exporter": "python",
      "pygments_lexer": "ipython3",
      "version": "3.9.6"
    },
    "colab": {
      "name": "02. pandas.ipynb",
      "provenance": [],
      "collapsed_sections": [],
      "include_colab_link": true
    }
  },
  "cells": [
    {
      "cell_type": "markdown",
      "metadata": {
        "id": "view-in-github",
        "colab_type": "text"
      },
      "source": [
        "<a href=\"https://colab.research.google.com/github/arumlim/eileen/blob/master/1128_pandas.ipynb\" target=\"_parent\"><img src=\"https://colab.research.google.com/assets/colab-badge.svg\" alt=\"Open In Colab\"/></a>"
      ]
    },
    {
      "cell_type": "code",
      "metadata": {
        "id": "uFGhBLqB6trb"
      },
      "source": [
        "import pandas as pd     # pandas 라이브러리를 pd 이름으로 호출"
      ],
      "execution_count": 3,
      "outputs": []
    },
    {
      "cell_type": "markdown",
      "metadata": {
        "id": "a4Xa1Nyd6trd"
      },
      "source": [
        "# Series"
      ]
    },
    {
      "cell_type": "code",
      "metadata": {
        "id": "gxQv8THc6tre"
      },
      "source": [
        "prices = [1000, 1010, 1020]"
      ],
      "execution_count": 7,
      "outputs": []
    },
    {
      "cell_type": "code",
      "metadata": {
        "id": "D6zSy3qu6trf",
        "colab": {
          "base_uri": "https://localhost:8080/"
        },
        "outputId": "5f041868-0cf9-4865-8935-a8dfac7cc4d9"
      },
      "source": [
        "dates = pd.date_range('20210901', periods=3)\n",
        "dates"
      ],
      "execution_count": 8,
      "outputs": [
        {
          "output_type": "execute_result",
          "data": {
            "text/plain": [
              "DatetimeIndex(['2021-09-01', '2021-09-02', '2021-09-03'], dtype='datetime64[ns]', freq='D')"
            ]
          },
          "metadata": {},
          "execution_count": 8
        }
      ]
    },
    {
      "cell_type": "code",
      "metadata": {
        "id": "1bTKpF0e6trf",
        "colab": {
          "base_uri": "https://localhost:8080/"
        },
        "outputId": "4ef1b36a-c41d-49e4-f309-e02f7674f3ce"
      },
      "source": [
        "pd.date_range('20210901', '20210930', freq='W')"
      ],
      "execution_count": 9,
      "outputs": [
        {
          "output_type": "execute_result",
          "data": {
            "text/plain": [
              "DatetimeIndex(['2021-09-05', '2021-09-12', '2021-09-19', '2021-09-26'], dtype='datetime64[ns]', freq='W-SUN')"
            ]
          },
          "metadata": {},
          "execution_count": 9
        }
      ]
    },
    {
      "cell_type": "code",
      "metadata": {
        "id": "21CkKx846trg",
        "colab": {
          "base_uri": "https://localhost:8080/"
        },
        "outputId": "6ac66d0b-8218-45b3-8acb-de6cf4d31c55"
      },
      "source": [
        "Series1 = pd.Series(prices, index=dates)\n",
        "Series1"
      ],
      "execution_count": 10,
      "outputs": [
        {
          "output_type": "execute_result",
          "data": {
            "text/plain": [
              "2021-09-01    1000\n",
              "2021-09-02    1010\n",
              "2021-09-03    1020\n",
              "Freq: D, dtype: int64"
            ]
          },
          "metadata": {},
          "execution_count": 10
        }
      ]
    },
    {
      "cell_type": "code",
      "metadata": {
        "id": "WzSf8j_U6trg",
        "colab": {
          "base_uri": "https://localhost:8080/"
        },
        "outputId": "9b7ac303-19eb-4bab-a5f0-1354793799c5"
      },
      "source": [
        "Series2 = pd.Series(prices)\n",
        "Series2"
      ],
      "execution_count": 11,
      "outputs": [
        {
          "output_type": "execute_result",
          "data": {
            "text/plain": [
              "0    1000\n",
              "1    1010\n",
              "2    1020\n",
              "dtype: int64"
            ]
          },
          "metadata": {},
          "execution_count": 11
        }
      ]
    },
    {
      "cell_type": "code",
      "metadata": {
        "id": "CD1cseLb6trh",
        "colab": {
          "base_uri": "https://localhost:8080/"
        },
        "outputId": "b656746d-1faa-4941-9d31-d9c80e3381db"
      },
      "source": [
        "Series2[3] = 1030\n",
        "Series2"
      ],
      "execution_count": 12,
      "outputs": [
        {
          "output_type": "execute_result",
          "data": {
            "text/plain": [
              "0    1000\n",
              "1    1010\n",
              "2    1020\n",
              "3    1030\n",
              "dtype: int64"
            ]
          },
          "metadata": {},
          "execution_count": 12
        }
      ]
    },
    {
      "cell_type": "code",
      "metadata": {
        "id": "O9WjlheS6trh",
        "colab": {
          "base_uri": "https://localhost:8080/"
        },
        "outputId": "0cc3e2e5-9caa-4314-dfe2-0fb65b7a5181"
      },
      "source": [
        "Series1[pd.to_datetime('2021-09-04')] = 1030\n",
        "Series1"
      ],
      "execution_count": 13,
      "outputs": [
        {
          "output_type": "execute_result",
          "data": {
            "text/plain": [
              "2021-09-01    1000\n",
              "2021-09-02    1010\n",
              "2021-09-03    1020\n",
              "2021-09-04    1030\n",
              "Freq: D, dtype: int64"
            ]
          },
          "metadata": {},
          "execution_count": 13
        }
      ]
    },
    {
      "cell_type": "code",
      "metadata": {
        "colab": {
          "base_uri": "https://localhost:8080/"
        },
        "id": "ATzsviNoTVtv",
        "outputId": "b422d90a-89a8-4b9f-b602-f2ff2c8b4257"
      },
      "source": [
        "Series1[1:2]"
      ],
      "execution_count": 14,
      "outputs": [
        {
          "output_type": "execute_result",
          "data": {
            "text/plain": [
              "2021-09-02    1010\n",
              "Freq: D, dtype: int64"
            ]
          },
          "metadata": {},
          "execution_count": 14
        }
      ]
    },
    {
      "cell_type": "markdown",
      "metadata": {
        "id": "2ksE8KnM6tri"
      },
      "source": [
        "Series 데이터 조회"
      ]
    },
    {
      "cell_type": "code",
      "metadata": {
        "id": "CWTzmRD06tri",
        "colab": {
          "base_uri": "https://localhost:8080/"
        },
        "outputId": "602221de-8c38-491b-c4b7-6ed590829750"
      },
      "source": [
        "Series1[2]"
      ],
      "execution_count": 15,
      "outputs": [
        {
          "output_type": "execute_result",
          "data": {
            "text/plain": [
              "1020"
            ]
          },
          "metadata": {},
          "execution_count": 15
        }
      ]
    },
    {
      "cell_type": "code",
      "metadata": {
        "id": "w6pB3YuN6tri",
        "colab": {
          "base_uri": "https://localhost:8080/"
        },
        "outputId": "634b452f-5ec5-4eae-bb6f-763750e66ea3"
      },
      "source": [
        "Series1['2021-09-03']"
      ],
      "execution_count": 16,
      "outputs": [
        {
          "output_type": "execute_result",
          "data": {
            "text/plain": [
              "1020"
            ]
          },
          "metadata": {},
          "execution_count": 16
        }
      ]
    },
    {
      "cell_type": "markdown",
      "metadata": {
        "id": "VotB65XI6tri"
      },
      "source": [
        "# DataFrame "
      ]
    },
    {
      "cell_type": "code",
      "metadata": {
        "id": "FyYfezcj6trj",
        "colab": {
          "base_uri": "https://localhost:8080/",
          "height": 143
        },
        "outputId": "3d62eee4-0123-4b48-96b3-ce90d4ca8c9f"
      },
      "source": [
        "prices = {'A전자' : [1000, 1010, 1020],\n",
        "          'B화학' : [2000, 2010, 2020],\n",
        "          'C금융' : [3000, 3010, 3020]}\n",
        "df1 = pd.DataFrame(prices)\n",
        "df1"
      ],
      "execution_count": 17,
      "outputs": [
        {
          "output_type": "execute_result",
          "data": {
            "text/html": [
              "<div>\n",
              "<style scoped>\n",
              "    .dataframe tbody tr th:only-of-type {\n",
              "        vertical-align: middle;\n",
              "    }\n",
              "\n",
              "    .dataframe tbody tr th {\n",
              "        vertical-align: top;\n",
              "    }\n",
              "\n",
              "    .dataframe thead th {\n",
              "        text-align: right;\n",
              "    }\n",
              "</style>\n",
              "<table border=\"1\" class=\"dataframe\">\n",
              "  <thead>\n",
              "    <tr style=\"text-align: right;\">\n",
              "      <th></th>\n",
              "      <th>A전자</th>\n",
              "      <th>B화학</th>\n",
              "      <th>C금융</th>\n",
              "    </tr>\n",
              "  </thead>\n",
              "  <tbody>\n",
              "    <tr>\n",
              "      <th>0</th>\n",
              "      <td>1000</td>\n",
              "      <td>2000</td>\n",
              "      <td>3000</td>\n",
              "    </tr>\n",
              "    <tr>\n",
              "      <th>1</th>\n",
              "      <td>1010</td>\n",
              "      <td>2010</td>\n",
              "      <td>3010</td>\n",
              "    </tr>\n",
              "    <tr>\n",
              "      <th>2</th>\n",
              "      <td>1020</td>\n",
              "      <td>2020</td>\n",
              "      <td>3020</td>\n",
              "    </tr>\n",
              "  </tbody>\n",
              "</table>\n",
              "</div>"
            ],
            "text/plain": [
              "    A전자   B화학   C금융\n",
              "0  1000  2000  3000\n",
              "1  1010  2010  3010\n",
              "2  1020  2020  3020"
            ]
          },
          "metadata": {},
          "execution_count": 17
        }
      ]
    },
    {
      "cell_type": "code",
      "metadata": {
        "colab": {
          "base_uri": "https://localhost:8080/"
        },
        "id": "W6UAShhET7CG",
        "outputId": "df676104-a1ee-4405-a7c6-3774da63f162"
      },
      "source": [
        "dates"
      ],
      "execution_count": 18,
      "outputs": [
        {
          "output_type": "execute_result",
          "data": {
            "text/plain": [
              "DatetimeIndex(['2021-09-01', '2021-09-02', '2021-09-03'], dtype='datetime64[ns]', freq='D')"
            ]
          },
          "metadata": {},
          "execution_count": 18
        }
      ]
    },
    {
      "cell_type": "code",
      "metadata": {
        "id": "M0j3L8iw6trj",
        "colab": {
          "base_uri": "https://localhost:8080/",
          "height": 143
        },
        "outputId": "e3738fcd-0e7f-414e-90ee-89fd1f7691de"
      },
      "source": [
        "df2 = pd.DataFrame(prices, index=dates)\n",
        "df2"
      ],
      "execution_count": 19,
      "outputs": [
        {
          "output_type": "execute_result",
          "data": {
            "text/html": [
              "<div>\n",
              "<style scoped>\n",
              "    .dataframe tbody tr th:only-of-type {\n",
              "        vertical-align: middle;\n",
              "    }\n",
              "\n",
              "    .dataframe tbody tr th {\n",
              "        vertical-align: top;\n",
              "    }\n",
              "\n",
              "    .dataframe thead th {\n",
              "        text-align: right;\n",
              "    }\n",
              "</style>\n",
              "<table border=\"1\" class=\"dataframe\">\n",
              "  <thead>\n",
              "    <tr style=\"text-align: right;\">\n",
              "      <th></th>\n",
              "      <th>A전자</th>\n",
              "      <th>B화학</th>\n",
              "      <th>C금융</th>\n",
              "    </tr>\n",
              "  </thead>\n",
              "  <tbody>\n",
              "    <tr>\n",
              "      <th>2021-09-01</th>\n",
              "      <td>1000</td>\n",
              "      <td>2000</td>\n",
              "      <td>3000</td>\n",
              "    </tr>\n",
              "    <tr>\n",
              "      <th>2021-09-02</th>\n",
              "      <td>1010</td>\n",
              "      <td>2010</td>\n",
              "      <td>3010</td>\n",
              "    </tr>\n",
              "    <tr>\n",
              "      <th>2021-09-03</th>\n",
              "      <td>1020</td>\n",
              "      <td>2020</td>\n",
              "      <td>3020</td>\n",
              "    </tr>\n",
              "  </tbody>\n",
              "</table>\n",
              "</div>"
            ],
            "text/plain": [
              "             A전자   B화학   C금융\n",
              "2021-09-01  1000  2000  3000\n",
              "2021-09-02  1010  2010  3010\n",
              "2021-09-03  1020  2020  3020"
            ]
          },
          "metadata": {},
          "execution_count": 19
        }
      ]
    },
    {
      "cell_type": "markdown",
      "metadata": {
        "id": "UfxuxVBt6trj"
      },
      "source": [
        "데이터 선택"
      ]
    },
    {
      "cell_type": "markdown",
      "metadata": {
        "id": "sMD6-M4SUJdP"
      },
      "source": [
        "- iloc : 데이터 순서로 데이터를 가져온다.\n",
        "-  loc"
      ]
    },
    {
      "cell_type": "code",
      "metadata": {
        "id": "X4_Ju50K6trj",
        "colab": {
          "base_uri": "https://localhost:8080/"
        },
        "outputId": "ad9e01ee-b93e-49be-bd52-dd183b7eeb8a"
      },
      "source": [
        "df2.iloc[0] # 2021-09-01 (row)"
      ],
      "execution_count": 20,
      "outputs": [
        {
          "output_type": "execute_result",
          "data": {
            "text/plain": [
              "A전자    1000\n",
              "B화학    2000\n",
              "C금융    3000\n",
              "Name: 2021-09-01 00:00:00, dtype: int64"
            ]
          },
          "metadata": {},
          "execution_count": 20
        }
      ]
    },
    {
      "cell_type": "code",
      "metadata": {
        "id": "fHVdYPVB6trj",
        "colab": {
          "base_uri": "https://localhost:8080/"
        },
        "outputId": "bdd9c0ae-d057-432c-8024-605aed3ac409"
      },
      "source": [
        "df2.iloc[:, 0] # 'A전자' (column)"
      ],
      "execution_count": 25,
      "outputs": [
        {
          "output_type": "execute_result",
          "data": {
            "text/plain": [
              "2021-09-01    1000\n",
              "2021-09-02    1010\n",
              "2021-09-03    1020\n",
              "Freq: D, Name: A전자, dtype: int64"
            ]
          },
          "metadata": {},
          "execution_count": 25
        }
      ]
    },
    {
      "cell_type": "code",
      "metadata": {
        "id": "_T8VxayT6trk",
        "outputId": "e00c5186-d928-4782-8e26-f84aa2436d55"
      },
      "source": [
        "df2.iloc[0, 0] "
      ],
      "execution_count": null,
      "outputs": [
        {
          "data": {
            "text/plain": [
              "1000"
            ]
          },
          "execution_count": 15,
          "metadata": {},
          "output_type": "execute_result"
        }
      ]
    },
    {
      "cell_type": "code",
      "metadata": {
        "id": "cgqfSaks6trk",
        "outputId": "7584bc7d-bdad-464e-a4b5-b3886880f918"
      },
      "source": [
        "df2.loc['2021-09-01']"
      ],
      "execution_count": null,
      "outputs": [
        {
          "data": {
            "text/plain": [
              "A전자    1000\n",
              "B화학    2000\n",
              "C금융    3000\n",
              "Name: 2021-09-01 00:00:00, dtype: int64"
            ]
          },
          "execution_count": 16,
          "metadata": {},
          "output_type": "execute_result"
        }
      ]
    },
    {
      "cell_type": "code",
      "metadata": {
        "id": "uR7ABPg06trk",
        "outputId": "51e6fa4b-55b1-40ba-c1ac-704da867bf12"
      },
      "source": [
        "df2.loc[:, 'A전자']"
      ],
      "execution_count": null,
      "outputs": [
        {
          "data": {
            "text/plain": [
              "2021-09-01    1000\n",
              "2021-09-02    1010\n",
              "2021-09-03    1020\n",
              "Freq: D, Name: A전자, dtype: int64"
            ]
          },
          "execution_count": 17,
          "metadata": {},
          "output_type": "execute_result"
        }
      ]
    },
    {
      "cell_type": "code",
      "metadata": {
        "id": "T19m2niQ6trk",
        "colab": {
          "base_uri": "https://localhost:8080/"
        },
        "outputId": "3ab47efc-73c1-4ad4-95e5-a47b9c4e6fb1"
      },
      "source": [
        "df2.loc['2021-09-01', 'A전자']"
      ],
      "execution_count": 21,
      "outputs": [
        {
          "output_type": "execute_result",
          "data": {
            "text/plain": [
              "1000"
            ]
          },
          "metadata": {},
          "execution_count": 21
        }
      ]
    },
    {
      "cell_type": "code",
      "metadata": {
        "id": "OB5yDw816trk",
        "colab": {
          "base_uri": "https://localhost:8080/"
        },
        "outputId": "70df8b67-1e16-4049-fa36-953bd394c987"
      },
      "source": [
        "df2['A전자']"
      ],
      "execution_count": 26,
      "outputs": [
        {
          "output_type": "execute_result",
          "data": {
            "text/plain": [
              "2021-09-01    1000\n",
              "2021-09-02    1010\n",
              "2021-09-03    1020\n",
              "Freq: D, Name: A전자, dtype: int64"
            ]
          },
          "metadata": {},
          "execution_count": 26
        }
      ]
    },
    {
      "cell_type": "code",
      "metadata": {
        "id": "vuzwAFFs6trk",
        "colab": {
          "base_uri": "https://localhost:8080/"
        },
        "outputId": "d5e9eb84-8122-4824-ec96-98b10659a5a6"
      },
      "source": [
        "df2.A전자"
      ],
      "execution_count": 27,
      "outputs": [
        {
          "output_type": "execute_result",
          "data": {
            "text/plain": [
              "2021-09-01    1000\n",
              "2021-09-02    1010\n",
              "2021-09-03    1020\n",
              "Freq: D, Name: A전자, dtype: int64"
            ]
          },
          "metadata": {},
          "execution_count": 27
        }
      ]
    },
    {
      "cell_type": "code",
      "metadata": {
        "id": "YV74CPSt6trk",
        "colab": {
          "base_uri": "https://localhost:8080/"
        },
        "outputId": "a95c362f-0729-4bc2-ee00-8c0e329d7a55"
      },
      "source": [
        "df2['A전자']['2021-09-01']"
      ],
      "execution_count": 28,
      "outputs": [
        {
          "output_type": "execute_result",
          "data": {
            "text/plain": [
              "1000"
            ]
          },
          "metadata": {},
          "execution_count": 28
        }
      ]
    },
    {
      "cell_type": "code",
      "metadata": {
        "id": "dTo26dgf6trk",
        "colab": {
          "base_uri": "https://localhost:8080/"
        },
        "outputId": "ca463bdd-755e-4530-da5d-93e4559b34c4"
      },
      "source": [
        "df2.loc[:, 'A전자']['2021-09-01']"
      ],
      "execution_count": 29,
      "outputs": [
        {
          "output_type": "execute_result",
          "data": {
            "text/plain": [
              "1000"
            ]
          },
          "metadata": {},
          "execution_count": 29
        }
      ]
    },
    {
      "cell_type": "code",
      "metadata": {
        "id": "cXehsei66trk",
        "colab": {
          "base_uri": "https://localhost:8080/",
          "height": 143
        },
        "outputId": "a8620f83-e30d-4629-8610-821fd1c573cd"
      },
      "source": [
        "df2['D엔터'] = [4000, 4010, 4020]\n",
        "df2"
      ],
      "execution_count": 34,
      "outputs": [
        {
          "output_type": "execute_result",
          "data": {
            "text/html": [
              "<div>\n",
              "<style scoped>\n",
              "    .dataframe tbody tr th:only-of-type {\n",
              "        vertical-align: middle;\n",
              "    }\n",
              "\n",
              "    .dataframe tbody tr th {\n",
              "        vertical-align: top;\n",
              "    }\n",
              "\n",
              "    .dataframe thead th {\n",
              "        text-align: right;\n",
              "    }\n",
              "</style>\n",
              "<table border=\"1\" class=\"dataframe\">\n",
              "  <thead>\n",
              "    <tr style=\"text-align: right;\">\n",
              "      <th></th>\n",
              "      <th>A전자</th>\n",
              "      <th>B화학</th>\n",
              "      <th>C금융</th>\n",
              "      <th>D엔터</th>\n",
              "      <th>E텔레콤</th>\n",
              "    </tr>\n",
              "  </thead>\n",
              "  <tbody>\n",
              "    <tr>\n",
              "      <th>2021-09-01</th>\n",
              "      <td>1000</td>\n",
              "      <td>2000</td>\n",
              "      <td>3000</td>\n",
              "      <td>4000</td>\n",
              "      <td>1000</td>\n",
              "    </tr>\n",
              "    <tr>\n",
              "      <th>2021-09-02</th>\n",
              "      <td>1010</td>\n",
              "      <td>2010</td>\n",
              "      <td>3010</td>\n",
              "      <td>4010</td>\n",
              "      <td>1010</td>\n",
              "    </tr>\n",
              "    <tr>\n",
              "      <th>2021-09-03</th>\n",
              "      <td>1020</td>\n",
              "      <td>2020</td>\n",
              "      <td>3020</td>\n",
              "      <td>4020</td>\n",
              "      <td>1020</td>\n",
              "    </tr>\n",
              "  </tbody>\n",
              "</table>\n",
              "</div>"
            ],
            "text/plain": [
              "             A전자   B화학   C금융   D엔터  E텔레콤\n",
              "2021-09-01  1000  2000  3000  4000  1000\n",
              "2021-09-02  1010  2010  3010  4010  1010\n",
              "2021-09-03  1020  2020  3020  4020  1020"
            ]
          },
          "metadata": {},
          "execution_count": 34
        }
      ]
    },
    {
      "cell_type": "code",
      "metadata": {
        "id": "L00PA4bQ6trl",
        "colab": {
          "base_uri": "https://localhost:8080/",
          "height": 143
        },
        "outputId": "82b97011-7286-4d3d-a0ae-147ebd00b914"
      },
      "source": [
        "df2['E텔레콤'] = Series1\n",
        "df2"
      ],
      "execution_count": 33,
      "outputs": [
        {
          "output_type": "execute_result",
          "data": {
            "text/html": [
              "<div>\n",
              "<style scoped>\n",
              "    .dataframe tbody tr th:only-of-type {\n",
              "        vertical-align: middle;\n",
              "    }\n",
              "\n",
              "    .dataframe tbody tr th {\n",
              "        vertical-align: top;\n",
              "    }\n",
              "\n",
              "    .dataframe thead th {\n",
              "        text-align: right;\n",
              "    }\n",
              "</style>\n",
              "<table border=\"1\" class=\"dataframe\">\n",
              "  <thead>\n",
              "    <tr style=\"text-align: right;\">\n",
              "      <th></th>\n",
              "      <th>A전자</th>\n",
              "      <th>B화학</th>\n",
              "      <th>C금융</th>\n",
              "      <th>D엔터</th>\n",
              "      <th>E텔레콤</th>\n",
              "    </tr>\n",
              "  </thead>\n",
              "  <tbody>\n",
              "    <tr>\n",
              "      <th>2021-09-01</th>\n",
              "      <td>1000</td>\n",
              "      <td>2000</td>\n",
              "      <td>3000</td>\n",
              "      <td>4000</td>\n",
              "      <td>1000</td>\n",
              "    </tr>\n",
              "    <tr>\n",
              "      <th>2021-09-02</th>\n",
              "      <td>1010</td>\n",
              "      <td>2010</td>\n",
              "      <td>3010</td>\n",
              "      <td>4010</td>\n",
              "      <td>1010</td>\n",
              "    </tr>\n",
              "    <tr>\n",
              "      <th>2021-09-03</th>\n",
              "      <td>1020</td>\n",
              "      <td>2020</td>\n",
              "      <td>3020</td>\n",
              "      <td>4020</td>\n",
              "      <td>1020</td>\n",
              "    </tr>\n",
              "  </tbody>\n",
              "</table>\n",
              "</div>"
            ],
            "text/plain": [
              "             A전자   B화학   C금융   D엔터  E텔레콤\n",
              "2021-09-01  1000  2000  3000  4000  1000\n",
              "2021-09-02  1010  2010  3010  4010  1010\n",
              "2021-09-03  1020  2020  3020  4020  1020"
            ]
          },
          "metadata": {},
          "execution_count": 33
        }
      ]
    },
    {
      "cell_type": "code",
      "metadata": {
        "id": "whXmm380XUsV",
        "outputId": "19d89b52-965c-4dc3-eb58-0acde2a62188",
        "colab": {
          "base_uri": "https://localhost:8080/",
          "height": 112
        }
      },
      "source": [
        "df2.loc['2021-09-02':'2021-09-03','C금융':'D엔터']"
      ],
      "execution_count": 41,
      "outputs": [
        {
          "output_type": "execute_result",
          "data": {
            "text/html": [
              "<div>\n",
              "<style scoped>\n",
              "    .dataframe tbody tr th:only-of-type {\n",
              "        vertical-align: middle;\n",
              "    }\n",
              "\n",
              "    .dataframe tbody tr th {\n",
              "        vertical-align: top;\n",
              "    }\n",
              "\n",
              "    .dataframe thead th {\n",
              "        text-align: right;\n",
              "    }\n",
              "</style>\n",
              "<table border=\"1\" class=\"dataframe\">\n",
              "  <thead>\n",
              "    <tr style=\"text-align: right;\">\n",
              "      <th></th>\n",
              "      <th>C금융</th>\n",
              "      <th>D엔터</th>\n",
              "    </tr>\n",
              "  </thead>\n",
              "  <tbody>\n",
              "    <tr>\n",
              "      <th>2021-09-02</th>\n",
              "      <td>3010</td>\n",
              "      <td>4010</td>\n",
              "    </tr>\n",
              "    <tr>\n",
              "      <th>2021-09-03</th>\n",
              "      <td>3020</td>\n",
              "      <td>4020</td>\n",
              "    </tr>\n",
              "  </tbody>\n",
              "</table>\n",
              "</div>"
            ],
            "text/plain": [
              "             C금융   D엔터\n",
              "2021-09-02  3010  4010\n",
              "2021-09-03  3020  4020"
            ]
          },
          "metadata": {},
          "execution_count": 41
        }
      ]
    },
    {
      "cell_type": "markdown",
      "metadata": {
        "id": "fQYkGX1DVbAl"
      },
      "source": [
        "Q.iloc를 활용하여 데이터 4010을 조회해보자."
      ]
    },
    {
      "cell_type": "code",
      "metadata": {
        "id": "4INLU3TcV_cr",
        "outputId": "56c86e73-00f8-40d1-daf2-95c15095f139",
        "colab": {
          "base_uri": "https://localhost:8080/"
        }
      },
      "source": [
        "df2.iloc[1, 3]"
      ],
      "execution_count": 38,
      "outputs": [
        {
          "output_type": "execute_result",
          "data": {
            "text/plain": [
              "4010"
            ]
          },
          "metadata": {},
          "execution_count": 38
        }
      ]
    },
    {
      "cell_type": "code",
      "metadata": {
        "id": "nBuByuqDVfyB"
      },
      "source": [
        "Q. loc를 활용하여 데이터 4010을 조회해보자"
      ],
      "execution_count": null,
      "outputs": []
    },
    {
      "cell_type": "code",
      "metadata": {
        "id": "ES-xid_OVrcV",
        "outputId": "15edebdd-7cb1-43ce-88d0-b485a3604168",
        "colab": {
          "base_uri": "https://localhost:8080/"
        }
      },
      "source": [
        "df2.loc[\"2021-09-02\",\"D엔터\"]"
      ],
      "execution_count": 40,
      "outputs": [
        {
          "output_type": "execute_result",
          "data": {
            "text/plain": [
              "4010"
            ]
          },
          "metadata": {},
          "execution_count": 40
        }
      ]
    },
    {
      "cell_type": "markdown",
      "metadata": {
        "id": "VLu9IqwF6trl"
      },
      "source": [
        "데이터프레임 확장"
      ]
    },
    {
      "cell_type": "code",
      "metadata": {
        "id": "a-6V0_L76trl",
        "colab": {
          "base_uri": "https://localhost:8080/"
        },
        "outputId": "c5687c7e-e3ea-4897-91ac-4c2698f7ba8f"
      },
      "source": [
        "Series1.name = 'F소프트'\n",
        "Series1"
      ],
      "execution_count": 47,
      "outputs": [
        {
          "output_type": "execute_result",
          "data": {
            "text/plain": [
              "2021-09-01    1000\n",
              "2021-09-02    1010\n",
              "2021-09-03    1020\n",
              "2021-09-04    1030\n",
              "Freq: D, Name: F소프트, dtype: int64"
            ]
          },
          "metadata": {},
          "execution_count": 47
        }
      ]
    },
    {
      "cell_type": "code",
      "metadata": {
        "id": "j-aZEF806trl",
        "colab": {
          "base_uri": "https://localhost:8080/",
          "height": 175
        },
        "outputId": "b9bbb335-7022-4e20-dd64-e994d61b4f2a"
      },
      "source": [
        "df2 = pd.concat([df2, Series1], axis=1)\n",
        "df2"
      ],
      "execution_count": 48,
      "outputs": [
        {
          "output_type": "execute_result",
          "data": {
            "text/html": [
              "<div>\n",
              "<style scoped>\n",
              "    .dataframe tbody tr th:only-of-type {\n",
              "        vertical-align: middle;\n",
              "    }\n",
              "\n",
              "    .dataframe tbody tr th {\n",
              "        vertical-align: top;\n",
              "    }\n",
              "\n",
              "    .dataframe thead th {\n",
              "        text-align: right;\n",
              "    }\n",
              "</style>\n",
              "<table border=\"1\" class=\"dataframe\">\n",
              "  <thead>\n",
              "    <tr style=\"text-align: right;\">\n",
              "      <th></th>\n",
              "      <th>A전자</th>\n",
              "      <th>B화학</th>\n",
              "      <th>C금융</th>\n",
              "      <th>D엔터</th>\n",
              "      <th>E텔레콤</th>\n",
              "      <th>F소프트</th>\n",
              "      <th>F소프트</th>\n",
              "      <th>F소프트</th>\n",
              "    </tr>\n",
              "  </thead>\n",
              "  <tbody>\n",
              "    <tr>\n",
              "      <th>2021-09-01</th>\n",
              "      <td>1000.0</td>\n",
              "      <td>2000.0</td>\n",
              "      <td>3000.0</td>\n",
              "      <td>4000.0</td>\n",
              "      <td>1000.0</td>\n",
              "      <td>1000</td>\n",
              "      <td>1000</td>\n",
              "      <td>1000</td>\n",
              "    </tr>\n",
              "    <tr>\n",
              "      <th>2021-09-02</th>\n",
              "      <td>1010.0</td>\n",
              "      <td>2010.0</td>\n",
              "      <td>3010.0</td>\n",
              "      <td>4010.0</td>\n",
              "      <td>1010.0</td>\n",
              "      <td>1010</td>\n",
              "      <td>1010</td>\n",
              "      <td>1010</td>\n",
              "    </tr>\n",
              "    <tr>\n",
              "      <th>2021-09-03</th>\n",
              "      <td>1020.0</td>\n",
              "      <td>2020.0</td>\n",
              "      <td>3020.0</td>\n",
              "      <td>4020.0</td>\n",
              "      <td>1020.0</td>\n",
              "      <td>1020</td>\n",
              "      <td>1020</td>\n",
              "      <td>1020</td>\n",
              "    </tr>\n",
              "    <tr>\n",
              "      <th>2021-09-04</th>\n",
              "      <td>NaN</td>\n",
              "      <td>NaN</td>\n",
              "      <td>NaN</td>\n",
              "      <td>NaN</td>\n",
              "      <td>NaN</td>\n",
              "      <td>1030</td>\n",
              "      <td>1030</td>\n",
              "      <td>1030</td>\n",
              "    </tr>\n",
              "  </tbody>\n",
              "</table>\n",
              "</div>"
            ],
            "text/plain": [
              "               A전자     B화학     C금융     D엔터    E텔레콤  F소프트  F소프트  F소프트\n",
              "2021-09-01  1000.0  2000.0  3000.0  4000.0  1000.0  1000  1000  1000\n",
              "2021-09-02  1010.0  2010.0  3010.0  4010.0  1010.0  1010  1010  1010\n",
              "2021-09-03  1020.0  2020.0  3020.0  4020.0  1020.0  1020  1020  1020\n",
              "2021-09-04     NaN     NaN     NaN     NaN     NaN  1030  1030  1030"
            ]
          },
          "metadata": {},
          "execution_count": 48
        }
      ]
    },
    {
      "cell_type": "code",
      "metadata": {
        "id": "5GdkYffc6trl",
        "colab": {
          "base_uri": "https://localhost:8080/"
        },
        "outputId": "68a5191f-4c21-43a3-e1f3-1ba1ba97f3d4"
      },
      "source": [
        "df3 = df2.iloc[0]\n",
        "df3 = df3 + 60\n",
        "df3.name = pd.to_datetime('20210906')\n",
        "df3"
      ],
      "execution_count": 50,
      "outputs": [
        {
          "output_type": "execute_result",
          "data": {
            "text/plain": [
              "A전자     1060.0\n",
              "B화학     2060.0\n",
              "C금융     3060.0\n",
              "D엔터     4060.0\n",
              "E텔레콤    1060.0\n",
              "F소프트    1060.0\n",
              "F소프트    1060.0\n",
              "F소프트    1060.0\n",
              "Name: 2021-09-06 00:00:00, dtype: float64"
            ]
          },
          "metadata": {},
          "execution_count": 50
        }
      ]
    },
    {
      "cell_type": "code",
      "metadata": {
        "id": "ASAlPXHh6trl",
        "colab": {
          "base_uri": "https://localhost:8080/",
          "height": 300
        },
        "outputId": "c901df50-d15d-4384-fdb0-efa3112bebc9"
      },
      "source": [
        "df2 = df2.append(df3)\n",
        "df2"
      ],
      "execution_count": 56,
      "outputs": [
        {
          "output_type": "execute_result",
          "data": {
            "text/html": [
              "<div>\n",
              "<style scoped>\n",
              "    .dataframe tbody tr th:only-of-type {\n",
              "        vertical-align: middle;\n",
              "    }\n",
              "\n",
              "    .dataframe tbody tr th {\n",
              "        vertical-align: top;\n",
              "    }\n",
              "\n",
              "    .dataframe thead th {\n",
              "        text-align: right;\n",
              "    }\n",
              "</style>\n",
              "<table border=\"1\" class=\"dataframe\">\n",
              "  <thead>\n",
              "    <tr style=\"text-align: right;\">\n",
              "      <th></th>\n",
              "      <th>A전자</th>\n",
              "      <th>B화학</th>\n",
              "      <th>C금융</th>\n",
              "      <th>D엔터</th>\n",
              "      <th>E텔레콤</th>\n",
              "      <th>F소프트</th>\n",
              "      <th>F소프트</th>\n",
              "      <th>F소프트</th>\n",
              "    </tr>\n",
              "  </thead>\n",
              "  <tbody>\n",
              "    <tr>\n",
              "      <th>2021-09-01</th>\n",
              "      <td>1000.0</td>\n",
              "      <td>2000.0</td>\n",
              "      <td>3000.0</td>\n",
              "      <td>4000.0</td>\n",
              "      <td>1000.0</td>\n",
              "      <td>1000.0</td>\n",
              "      <td>1000.0</td>\n",
              "      <td>1000.0</td>\n",
              "    </tr>\n",
              "    <tr>\n",
              "      <th>2021-09-02</th>\n",
              "      <td>1010.0</td>\n",
              "      <td>2010.0</td>\n",
              "      <td>3010.0</td>\n",
              "      <td>4010.0</td>\n",
              "      <td>1010.0</td>\n",
              "      <td>1010.0</td>\n",
              "      <td>1010.0</td>\n",
              "      <td>1010.0</td>\n",
              "    </tr>\n",
              "    <tr>\n",
              "      <th>2021-09-03</th>\n",
              "      <td>1020.0</td>\n",
              "      <td>2020.0</td>\n",
              "      <td>3020.0</td>\n",
              "      <td>4020.0</td>\n",
              "      <td>1020.0</td>\n",
              "      <td>1020.0</td>\n",
              "      <td>1020.0</td>\n",
              "      <td>1020.0</td>\n",
              "    </tr>\n",
              "    <tr>\n",
              "      <th>2021-09-04</th>\n",
              "      <td>NaN</td>\n",
              "      <td>NaN</td>\n",
              "      <td>NaN</td>\n",
              "      <td>NaN</td>\n",
              "      <td>NaN</td>\n",
              "      <td>1030.0</td>\n",
              "      <td>1030.0</td>\n",
              "      <td>1030.0</td>\n",
              "    </tr>\n",
              "    <tr>\n",
              "      <th>2021-09-05</th>\n",
              "      <td>1050.0</td>\n",
              "      <td>2050.0</td>\n",
              "      <td>3050.0</td>\n",
              "      <td>4050.0</td>\n",
              "      <td>1050.0</td>\n",
              "      <td>1050.0</td>\n",
              "      <td>1050.0</td>\n",
              "      <td>1050.0</td>\n",
              "    </tr>\n",
              "    <tr>\n",
              "      <th>2021-09-06</th>\n",
              "      <td>1060.0</td>\n",
              "      <td>2060.0</td>\n",
              "      <td>3060.0</td>\n",
              "      <td>4060.0</td>\n",
              "      <td>1060.0</td>\n",
              "      <td>1060.0</td>\n",
              "      <td>1060.0</td>\n",
              "      <td>1060.0</td>\n",
              "    </tr>\n",
              "    <tr>\n",
              "      <th>2021-09-05</th>\n",
              "      <td>1050.0</td>\n",
              "      <td>2050.0</td>\n",
              "      <td>3050.0</td>\n",
              "      <td>4050.0</td>\n",
              "      <td>1050.0</td>\n",
              "      <td>1050.0</td>\n",
              "      <td>1050.0</td>\n",
              "      <td>1050.0</td>\n",
              "    </tr>\n",
              "    <tr>\n",
              "      <th>2021-09-05</th>\n",
              "      <td>1050.0</td>\n",
              "      <td>2050.0</td>\n",
              "      <td>3050.0</td>\n",
              "      <td>4050.0</td>\n",
              "      <td>1050.0</td>\n",
              "      <td>1050.0</td>\n",
              "      <td>1050.0</td>\n",
              "      <td>1050.0</td>\n",
              "    </tr>\n",
              "  </tbody>\n",
              "</table>\n",
              "</div>"
            ],
            "text/plain": [
              "               A전자     B화학     C금융     D엔터    E텔레콤    F소프트    F소프트    F소프트\n",
              "2021-09-01  1000.0  2000.0  3000.0  4000.0  1000.0  1000.0  1000.0  1000.0\n",
              "2021-09-02  1010.0  2010.0  3010.0  4010.0  1010.0  1010.0  1010.0  1010.0\n",
              "2021-09-03  1020.0  2020.0  3020.0  4020.0  1020.0  1020.0  1020.0  1020.0\n",
              "2021-09-04     NaN     NaN     NaN     NaN     NaN  1030.0  1030.0  1030.0\n",
              "2021-09-05  1050.0  2050.0  3050.0  4050.0  1050.0  1050.0  1050.0  1050.0\n",
              "2021-09-06  1060.0  2060.0  3060.0  4060.0  1060.0  1060.0  1060.0  1060.0\n",
              "2021-09-05  1050.0  2050.0  3050.0  4050.0  1050.0  1050.0  1050.0  1050.0\n",
              "2021-09-05  1050.0  2050.0  3050.0  4050.0  1050.0  1050.0  1050.0  1050.0"
            ]
          },
          "metadata": {},
          "execution_count": 56
        }
      ]
    },
    {
      "cell_type": "code",
      "metadata": {
        "id": "FPNCNhFs6trl",
        "colab": {
          "base_uri": "https://localhost:8080/",
          "height": 332
        },
        "outputId": "682036be-ed23-43c1-d4b9-c75234ac0ffc"
      },
      "source": [
        "df3 = df2.iloc[0] + 50\n",
        "df3.name = pd.to_datetime('20210905')\n",
        "df2 = df2.append(df3)\n",
        "df2"
      ],
      "execution_count": 57,
      "outputs": [
        {
          "output_type": "execute_result",
          "data": {
            "text/html": [
              "<div>\n",
              "<style scoped>\n",
              "    .dataframe tbody tr th:only-of-type {\n",
              "        vertical-align: middle;\n",
              "    }\n",
              "\n",
              "    .dataframe tbody tr th {\n",
              "        vertical-align: top;\n",
              "    }\n",
              "\n",
              "    .dataframe thead th {\n",
              "        text-align: right;\n",
              "    }\n",
              "</style>\n",
              "<table border=\"1\" class=\"dataframe\">\n",
              "  <thead>\n",
              "    <tr style=\"text-align: right;\">\n",
              "      <th></th>\n",
              "      <th>A전자</th>\n",
              "      <th>B화학</th>\n",
              "      <th>C금융</th>\n",
              "      <th>D엔터</th>\n",
              "      <th>E텔레콤</th>\n",
              "      <th>F소프트</th>\n",
              "      <th>F소프트</th>\n",
              "      <th>F소프트</th>\n",
              "    </tr>\n",
              "  </thead>\n",
              "  <tbody>\n",
              "    <tr>\n",
              "      <th>2021-09-01</th>\n",
              "      <td>1000.0</td>\n",
              "      <td>2000.0</td>\n",
              "      <td>3000.0</td>\n",
              "      <td>4000.0</td>\n",
              "      <td>1000.0</td>\n",
              "      <td>1000.0</td>\n",
              "      <td>1000.0</td>\n",
              "      <td>1000.0</td>\n",
              "    </tr>\n",
              "    <tr>\n",
              "      <th>2021-09-02</th>\n",
              "      <td>1010.0</td>\n",
              "      <td>2010.0</td>\n",
              "      <td>3010.0</td>\n",
              "      <td>4010.0</td>\n",
              "      <td>1010.0</td>\n",
              "      <td>1010.0</td>\n",
              "      <td>1010.0</td>\n",
              "      <td>1010.0</td>\n",
              "    </tr>\n",
              "    <tr>\n",
              "      <th>2021-09-03</th>\n",
              "      <td>1020.0</td>\n",
              "      <td>2020.0</td>\n",
              "      <td>3020.0</td>\n",
              "      <td>4020.0</td>\n",
              "      <td>1020.0</td>\n",
              "      <td>1020.0</td>\n",
              "      <td>1020.0</td>\n",
              "      <td>1020.0</td>\n",
              "    </tr>\n",
              "    <tr>\n",
              "      <th>2021-09-04</th>\n",
              "      <td>NaN</td>\n",
              "      <td>NaN</td>\n",
              "      <td>NaN</td>\n",
              "      <td>NaN</td>\n",
              "      <td>NaN</td>\n",
              "      <td>1030.0</td>\n",
              "      <td>1030.0</td>\n",
              "      <td>1030.0</td>\n",
              "    </tr>\n",
              "    <tr>\n",
              "      <th>2021-09-05</th>\n",
              "      <td>1050.0</td>\n",
              "      <td>2050.0</td>\n",
              "      <td>3050.0</td>\n",
              "      <td>4050.0</td>\n",
              "      <td>1050.0</td>\n",
              "      <td>1050.0</td>\n",
              "      <td>1050.0</td>\n",
              "      <td>1050.0</td>\n",
              "    </tr>\n",
              "    <tr>\n",
              "      <th>2021-09-06</th>\n",
              "      <td>1060.0</td>\n",
              "      <td>2060.0</td>\n",
              "      <td>3060.0</td>\n",
              "      <td>4060.0</td>\n",
              "      <td>1060.0</td>\n",
              "      <td>1060.0</td>\n",
              "      <td>1060.0</td>\n",
              "      <td>1060.0</td>\n",
              "    </tr>\n",
              "    <tr>\n",
              "      <th>2021-09-05</th>\n",
              "      <td>1050.0</td>\n",
              "      <td>2050.0</td>\n",
              "      <td>3050.0</td>\n",
              "      <td>4050.0</td>\n",
              "      <td>1050.0</td>\n",
              "      <td>1050.0</td>\n",
              "      <td>1050.0</td>\n",
              "      <td>1050.0</td>\n",
              "    </tr>\n",
              "    <tr>\n",
              "      <th>2021-09-05</th>\n",
              "      <td>1050.0</td>\n",
              "      <td>2050.0</td>\n",
              "      <td>3050.0</td>\n",
              "      <td>4050.0</td>\n",
              "      <td>1050.0</td>\n",
              "      <td>1050.0</td>\n",
              "      <td>1050.0</td>\n",
              "      <td>1050.0</td>\n",
              "    </tr>\n",
              "    <tr>\n",
              "      <th>2021-09-05</th>\n",
              "      <td>1050.0</td>\n",
              "      <td>2050.0</td>\n",
              "      <td>3050.0</td>\n",
              "      <td>4050.0</td>\n",
              "      <td>1050.0</td>\n",
              "      <td>1050.0</td>\n",
              "      <td>1050.0</td>\n",
              "      <td>1050.0</td>\n",
              "    </tr>\n",
              "  </tbody>\n",
              "</table>\n",
              "</div>"
            ],
            "text/plain": [
              "               A전자     B화학     C금융     D엔터    E텔레콤    F소프트    F소프트    F소프트\n",
              "2021-09-01  1000.0  2000.0  3000.0  4000.0  1000.0  1000.0  1000.0  1000.0\n",
              "2021-09-02  1010.0  2010.0  3010.0  4010.0  1010.0  1010.0  1010.0  1010.0\n",
              "2021-09-03  1020.0  2020.0  3020.0  4020.0  1020.0  1020.0  1020.0  1020.0\n",
              "2021-09-04     NaN     NaN     NaN     NaN     NaN  1030.0  1030.0  1030.0\n",
              "2021-09-05  1050.0  2050.0  3050.0  4050.0  1050.0  1050.0  1050.0  1050.0\n",
              "2021-09-06  1060.0  2060.0  3060.0  4060.0  1060.0  1060.0  1060.0  1060.0\n",
              "2021-09-05  1050.0  2050.0  3050.0  4050.0  1050.0  1050.0  1050.0  1050.0\n",
              "2021-09-05  1050.0  2050.0  3050.0  4050.0  1050.0  1050.0  1050.0  1050.0\n",
              "2021-09-05  1050.0  2050.0  3050.0  4050.0  1050.0  1050.0  1050.0  1050.0"
            ]
          },
          "metadata": {},
          "execution_count": 57
        }
      ]
    },
    {
      "cell_type": "code",
      "metadata": {
        "id": "YzdOXcej6trl",
        "colab": {
          "base_uri": "https://localhost:8080/",
          "height": 332
        },
        "outputId": "bdf0c529-bd46-4ae0-ff9d-ef058a8c37b0"
      },
      "source": [
        "df2 = df2.sort_index(axis=0)\n",
        "df2"
      ],
      "execution_count": 58,
      "outputs": [
        {
          "output_type": "execute_result",
          "data": {
            "text/html": [
              "<div>\n",
              "<style scoped>\n",
              "    .dataframe tbody tr th:only-of-type {\n",
              "        vertical-align: middle;\n",
              "    }\n",
              "\n",
              "    .dataframe tbody tr th {\n",
              "        vertical-align: top;\n",
              "    }\n",
              "\n",
              "    .dataframe thead th {\n",
              "        text-align: right;\n",
              "    }\n",
              "</style>\n",
              "<table border=\"1\" class=\"dataframe\">\n",
              "  <thead>\n",
              "    <tr style=\"text-align: right;\">\n",
              "      <th></th>\n",
              "      <th>A전자</th>\n",
              "      <th>B화학</th>\n",
              "      <th>C금융</th>\n",
              "      <th>D엔터</th>\n",
              "      <th>E텔레콤</th>\n",
              "      <th>F소프트</th>\n",
              "      <th>F소프트</th>\n",
              "      <th>F소프트</th>\n",
              "    </tr>\n",
              "  </thead>\n",
              "  <tbody>\n",
              "    <tr>\n",
              "      <th>2021-09-01</th>\n",
              "      <td>1000.0</td>\n",
              "      <td>2000.0</td>\n",
              "      <td>3000.0</td>\n",
              "      <td>4000.0</td>\n",
              "      <td>1000.0</td>\n",
              "      <td>1000.0</td>\n",
              "      <td>1000.0</td>\n",
              "      <td>1000.0</td>\n",
              "    </tr>\n",
              "    <tr>\n",
              "      <th>2021-09-02</th>\n",
              "      <td>1010.0</td>\n",
              "      <td>2010.0</td>\n",
              "      <td>3010.0</td>\n",
              "      <td>4010.0</td>\n",
              "      <td>1010.0</td>\n",
              "      <td>1010.0</td>\n",
              "      <td>1010.0</td>\n",
              "      <td>1010.0</td>\n",
              "    </tr>\n",
              "    <tr>\n",
              "      <th>2021-09-03</th>\n",
              "      <td>1020.0</td>\n",
              "      <td>2020.0</td>\n",
              "      <td>3020.0</td>\n",
              "      <td>4020.0</td>\n",
              "      <td>1020.0</td>\n",
              "      <td>1020.0</td>\n",
              "      <td>1020.0</td>\n",
              "      <td>1020.0</td>\n",
              "    </tr>\n",
              "    <tr>\n",
              "      <th>2021-09-04</th>\n",
              "      <td>NaN</td>\n",
              "      <td>NaN</td>\n",
              "      <td>NaN</td>\n",
              "      <td>NaN</td>\n",
              "      <td>NaN</td>\n",
              "      <td>1030.0</td>\n",
              "      <td>1030.0</td>\n",
              "      <td>1030.0</td>\n",
              "    </tr>\n",
              "    <tr>\n",
              "      <th>2021-09-05</th>\n",
              "      <td>1050.0</td>\n",
              "      <td>2050.0</td>\n",
              "      <td>3050.0</td>\n",
              "      <td>4050.0</td>\n",
              "      <td>1050.0</td>\n",
              "      <td>1050.0</td>\n",
              "      <td>1050.0</td>\n",
              "      <td>1050.0</td>\n",
              "    </tr>\n",
              "    <tr>\n",
              "      <th>2021-09-05</th>\n",
              "      <td>1050.0</td>\n",
              "      <td>2050.0</td>\n",
              "      <td>3050.0</td>\n",
              "      <td>4050.0</td>\n",
              "      <td>1050.0</td>\n",
              "      <td>1050.0</td>\n",
              "      <td>1050.0</td>\n",
              "      <td>1050.0</td>\n",
              "    </tr>\n",
              "    <tr>\n",
              "      <th>2021-09-05</th>\n",
              "      <td>1050.0</td>\n",
              "      <td>2050.0</td>\n",
              "      <td>3050.0</td>\n",
              "      <td>4050.0</td>\n",
              "      <td>1050.0</td>\n",
              "      <td>1050.0</td>\n",
              "      <td>1050.0</td>\n",
              "      <td>1050.0</td>\n",
              "    </tr>\n",
              "    <tr>\n",
              "      <th>2021-09-05</th>\n",
              "      <td>1050.0</td>\n",
              "      <td>2050.0</td>\n",
              "      <td>3050.0</td>\n",
              "      <td>4050.0</td>\n",
              "      <td>1050.0</td>\n",
              "      <td>1050.0</td>\n",
              "      <td>1050.0</td>\n",
              "      <td>1050.0</td>\n",
              "    </tr>\n",
              "    <tr>\n",
              "      <th>2021-09-06</th>\n",
              "      <td>1060.0</td>\n",
              "      <td>2060.0</td>\n",
              "      <td>3060.0</td>\n",
              "      <td>4060.0</td>\n",
              "      <td>1060.0</td>\n",
              "      <td>1060.0</td>\n",
              "      <td>1060.0</td>\n",
              "      <td>1060.0</td>\n",
              "    </tr>\n",
              "  </tbody>\n",
              "</table>\n",
              "</div>"
            ],
            "text/plain": [
              "               A전자     B화학     C금융     D엔터    E텔레콤    F소프트    F소프트    F소프트\n",
              "2021-09-01  1000.0  2000.0  3000.0  4000.0  1000.0  1000.0  1000.0  1000.0\n",
              "2021-09-02  1010.0  2010.0  3010.0  4010.0  1010.0  1010.0  1010.0  1010.0\n",
              "2021-09-03  1020.0  2020.0  3020.0  4020.0  1020.0  1020.0  1020.0  1020.0\n",
              "2021-09-04     NaN     NaN     NaN     NaN     NaN  1030.0  1030.0  1030.0\n",
              "2021-09-05  1050.0  2050.0  3050.0  4050.0  1050.0  1050.0  1050.0  1050.0\n",
              "2021-09-05  1050.0  2050.0  3050.0  4050.0  1050.0  1050.0  1050.0  1050.0\n",
              "2021-09-05  1050.0  2050.0  3050.0  4050.0  1050.0  1050.0  1050.0  1050.0\n",
              "2021-09-05  1050.0  2050.0  3050.0  4050.0  1050.0  1050.0  1050.0  1050.0\n",
              "2021-09-06  1060.0  2060.0  3060.0  4060.0  1060.0  1060.0  1060.0  1060.0"
            ]
          },
          "metadata": {},
          "execution_count": 58
        }
      ]
    },
    {
      "cell_type": "markdown",
      "metadata": {
        "id": "oh_Rcx2j6trl"
      },
      "source": [
        "데이터 삭제"
      ]
    },
    {
      "cell_type": "code",
      "metadata": {
        "id": "sck56gG46trl",
        "colab": {
          "base_uri": "https://localhost:8080/",
          "height": 206
        },
        "outputId": "16e00555-bf41-4c62-8f19-7754a2dbdad8"
      },
      "source": [
        "df2.drop(pd.to_datetime('2021-09-05'))"
      ],
      "execution_count": 59,
      "outputs": [
        {
          "output_type": "execute_result",
          "data": {
            "text/html": [
              "<div>\n",
              "<style scoped>\n",
              "    .dataframe tbody tr th:only-of-type {\n",
              "        vertical-align: middle;\n",
              "    }\n",
              "\n",
              "    .dataframe tbody tr th {\n",
              "        vertical-align: top;\n",
              "    }\n",
              "\n",
              "    .dataframe thead th {\n",
              "        text-align: right;\n",
              "    }\n",
              "</style>\n",
              "<table border=\"1\" class=\"dataframe\">\n",
              "  <thead>\n",
              "    <tr style=\"text-align: right;\">\n",
              "      <th></th>\n",
              "      <th>A전자</th>\n",
              "      <th>B화학</th>\n",
              "      <th>C금융</th>\n",
              "      <th>D엔터</th>\n",
              "      <th>E텔레콤</th>\n",
              "      <th>F소프트</th>\n",
              "      <th>F소프트</th>\n",
              "      <th>F소프트</th>\n",
              "    </tr>\n",
              "  </thead>\n",
              "  <tbody>\n",
              "    <tr>\n",
              "      <th>2021-09-01</th>\n",
              "      <td>1000.0</td>\n",
              "      <td>2000.0</td>\n",
              "      <td>3000.0</td>\n",
              "      <td>4000.0</td>\n",
              "      <td>1000.0</td>\n",
              "      <td>1000.0</td>\n",
              "      <td>1000.0</td>\n",
              "      <td>1000.0</td>\n",
              "    </tr>\n",
              "    <tr>\n",
              "      <th>2021-09-02</th>\n",
              "      <td>1010.0</td>\n",
              "      <td>2010.0</td>\n",
              "      <td>3010.0</td>\n",
              "      <td>4010.0</td>\n",
              "      <td>1010.0</td>\n",
              "      <td>1010.0</td>\n",
              "      <td>1010.0</td>\n",
              "      <td>1010.0</td>\n",
              "    </tr>\n",
              "    <tr>\n",
              "      <th>2021-09-03</th>\n",
              "      <td>1020.0</td>\n",
              "      <td>2020.0</td>\n",
              "      <td>3020.0</td>\n",
              "      <td>4020.0</td>\n",
              "      <td>1020.0</td>\n",
              "      <td>1020.0</td>\n",
              "      <td>1020.0</td>\n",
              "      <td>1020.0</td>\n",
              "    </tr>\n",
              "    <tr>\n",
              "      <th>2021-09-04</th>\n",
              "      <td>NaN</td>\n",
              "      <td>NaN</td>\n",
              "      <td>NaN</td>\n",
              "      <td>NaN</td>\n",
              "      <td>NaN</td>\n",
              "      <td>1030.0</td>\n",
              "      <td>1030.0</td>\n",
              "      <td>1030.0</td>\n",
              "    </tr>\n",
              "    <tr>\n",
              "      <th>2021-09-06</th>\n",
              "      <td>1060.0</td>\n",
              "      <td>2060.0</td>\n",
              "      <td>3060.0</td>\n",
              "      <td>4060.0</td>\n",
              "      <td>1060.0</td>\n",
              "      <td>1060.0</td>\n",
              "      <td>1060.0</td>\n",
              "      <td>1060.0</td>\n",
              "    </tr>\n",
              "  </tbody>\n",
              "</table>\n",
              "</div>"
            ],
            "text/plain": [
              "               A전자     B화학     C금융     D엔터    E텔레콤    F소프트    F소프트    F소프트\n",
              "2021-09-01  1000.0  2000.0  3000.0  4000.0  1000.0  1000.0  1000.0  1000.0\n",
              "2021-09-02  1010.0  2010.0  3010.0  4010.0  1010.0  1010.0  1010.0  1010.0\n",
              "2021-09-03  1020.0  2020.0  3020.0  4020.0  1020.0  1020.0  1020.0  1020.0\n",
              "2021-09-04     NaN     NaN     NaN     NaN     NaN  1030.0  1030.0  1030.0\n",
              "2021-09-06  1060.0  2060.0  3060.0  4060.0  1060.0  1060.0  1060.0  1060.0"
            ]
          },
          "metadata": {},
          "execution_count": 59
        }
      ]
    },
    {
      "cell_type": "code",
      "metadata": {
        "id": "AP7giTQZ6trl",
        "colab": {
          "base_uri": "https://localhost:8080/",
          "height": 269
        },
        "outputId": "1efd6bc4-628f-4a0d-a20a-ed331db9d730"
      },
      "source": [
        "df2.drop([pd.to_datetime('2021-09-02'), pd.to_datetime('2021-09-06')])"
      ],
      "execution_count": 60,
      "outputs": [
        {
          "output_type": "execute_result",
          "data": {
            "text/html": [
              "<div>\n",
              "<style scoped>\n",
              "    .dataframe tbody tr th:only-of-type {\n",
              "        vertical-align: middle;\n",
              "    }\n",
              "\n",
              "    .dataframe tbody tr th {\n",
              "        vertical-align: top;\n",
              "    }\n",
              "\n",
              "    .dataframe thead th {\n",
              "        text-align: right;\n",
              "    }\n",
              "</style>\n",
              "<table border=\"1\" class=\"dataframe\">\n",
              "  <thead>\n",
              "    <tr style=\"text-align: right;\">\n",
              "      <th></th>\n",
              "      <th>A전자</th>\n",
              "      <th>B화학</th>\n",
              "      <th>C금융</th>\n",
              "      <th>D엔터</th>\n",
              "      <th>E텔레콤</th>\n",
              "      <th>F소프트</th>\n",
              "      <th>F소프트</th>\n",
              "      <th>F소프트</th>\n",
              "    </tr>\n",
              "  </thead>\n",
              "  <tbody>\n",
              "    <tr>\n",
              "      <th>2021-09-01</th>\n",
              "      <td>1000.0</td>\n",
              "      <td>2000.0</td>\n",
              "      <td>3000.0</td>\n",
              "      <td>4000.0</td>\n",
              "      <td>1000.0</td>\n",
              "      <td>1000.0</td>\n",
              "      <td>1000.0</td>\n",
              "      <td>1000.0</td>\n",
              "    </tr>\n",
              "    <tr>\n",
              "      <th>2021-09-03</th>\n",
              "      <td>1020.0</td>\n",
              "      <td>2020.0</td>\n",
              "      <td>3020.0</td>\n",
              "      <td>4020.0</td>\n",
              "      <td>1020.0</td>\n",
              "      <td>1020.0</td>\n",
              "      <td>1020.0</td>\n",
              "      <td>1020.0</td>\n",
              "    </tr>\n",
              "    <tr>\n",
              "      <th>2021-09-04</th>\n",
              "      <td>NaN</td>\n",
              "      <td>NaN</td>\n",
              "      <td>NaN</td>\n",
              "      <td>NaN</td>\n",
              "      <td>NaN</td>\n",
              "      <td>1030.0</td>\n",
              "      <td>1030.0</td>\n",
              "      <td>1030.0</td>\n",
              "    </tr>\n",
              "    <tr>\n",
              "      <th>2021-09-05</th>\n",
              "      <td>1050.0</td>\n",
              "      <td>2050.0</td>\n",
              "      <td>3050.0</td>\n",
              "      <td>4050.0</td>\n",
              "      <td>1050.0</td>\n",
              "      <td>1050.0</td>\n",
              "      <td>1050.0</td>\n",
              "      <td>1050.0</td>\n",
              "    </tr>\n",
              "    <tr>\n",
              "      <th>2021-09-05</th>\n",
              "      <td>1050.0</td>\n",
              "      <td>2050.0</td>\n",
              "      <td>3050.0</td>\n",
              "      <td>4050.0</td>\n",
              "      <td>1050.0</td>\n",
              "      <td>1050.0</td>\n",
              "      <td>1050.0</td>\n",
              "      <td>1050.0</td>\n",
              "    </tr>\n",
              "    <tr>\n",
              "      <th>2021-09-05</th>\n",
              "      <td>1050.0</td>\n",
              "      <td>2050.0</td>\n",
              "      <td>3050.0</td>\n",
              "      <td>4050.0</td>\n",
              "      <td>1050.0</td>\n",
              "      <td>1050.0</td>\n",
              "      <td>1050.0</td>\n",
              "      <td>1050.0</td>\n",
              "    </tr>\n",
              "    <tr>\n",
              "      <th>2021-09-05</th>\n",
              "      <td>1050.0</td>\n",
              "      <td>2050.0</td>\n",
              "      <td>3050.0</td>\n",
              "      <td>4050.0</td>\n",
              "      <td>1050.0</td>\n",
              "      <td>1050.0</td>\n",
              "      <td>1050.0</td>\n",
              "      <td>1050.0</td>\n",
              "    </tr>\n",
              "  </tbody>\n",
              "</table>\n",
              "</div>"
            ],
            "text/plain": [
              "               A전자     B화학     C금융     D엔터    E텔레콤    F소프트    F소프트    F소프트\n",
              "2021-09-01  1000.0  2000.0  3000.0  4000.0  1000.0  1000.0  1000.0  1000.0\n",
              "2021-09-03  1020.0  2020.0  3020.0  4020.0  1020.0  1020.0  1020.0  1020.0\n",
              "2021-09-04     NaN     NaN     NaN     NaN     NaN  1030.0  1030.0  1030.0\n",
              "2021-09-05  1050.0  2050.0  3050.0  4050.0  1050.0  1050.0  1050.0  1050.0\n",
              "2021-09-05  1050.0  2050.0  3050.0  4050.0  1050.0  1050.0  1050.0  1050.0\n",
              "2021-09-05  1050.0  2050.0  3050.0  4050.0  1050.0  1050.0  1050.0  1050.0\n",
              "2021-09-05  1050.0  2050.0  3050.0  4050.0  1050.0  1050.0  1050.0  1050.0"
            ]
          },
          "metadata": {},
          "execution_count": 60
        }
      ]
    },
    {
      "cell_type": "code",
      "metadata": {
        "id": "HLPgutnw6trl",
        "colab": {
          "base_uri": "https://localhost:8080/",
          "height": 332
        },
        "outputId": "0d704486-4cc5-4652-ceda-91e354295dae"
      },
      "source": [
        "df2.drop('D엔터', axis=1) "
      ],
      "execution_count": 61,
      "outputs": [
        {
          "output_type": "execute_result",
          "data": {
            "text/html": [
              "<div>\n",
              "<style scoped>\n",
              "    .dataframe tbody tr th:only-of-type {\n",
              "        vertical-align: middle;\n",
              "    }\n",
              "\n",
              "    .dataframe tbody tr th {\n",
              "        vertical-align: top;\n",
              "    }\n",
              "\n",
              "    .dataframe thead th {\n",
              "        text-align: right;\n",
              "    }\n",
              "</style>\n",
              "<table border=\"1\" class=\"dataframe\">\n",
              "  <thead>\n",
              "    <tr style=\"text-align: right;\">\n",
              "      <th></th>\n",
              "      <th>A전자</th>\n",
              "      <th>B화학</th>\n",
              "      <th>C금융</th>\n",
              "      <th>E텔레콤</th>\n",
              "      <th>F소프트</th>\n",
              "      <th>F소프트</th>\n",
              "      <th>F소프트</th>\n",
              "    </tr>\n",
              "  </thead>\n",
              "  <tbody>\n",
              "    <tr>\n",
              "      <th>2021-09-01</th>\n",
              "      <td>1000.0</td>\n",
              "      <td>2000.0</td>\n",
              "      <td>3000.0</td>\n",
              "      <td>1000.0</td>\n",
              "      <td>1000.0</td>\n",
              "      <td>1000.0</td>\n",
              "      <td>1000.0</td>\n",
              "    </tr>\n",
              "    <tr>\n",
              "      <th>2021-09-02</th>\n",
              "      <td>1010.0</td>\n",
              "      <td>2010.0</td>\n",
              "      <td>3010.0</td>\n",
              "      <td>1010.0</td>\n",
              "      <td>1010.0</td>\n",
              "      <td>1010.0</td>\n",
              "      <td>1010.0</td>\n",
              "    </tr>\n",
              "    <tr>\n",
              "      <th>2021-09-03</th>\n",
              "      <td>1020.0</td>\n",
              "      <td>2020.0</td>\n",
              "      <td>3020.0</td>\n",
              "      <td>1020.0</td>\n",
              "      <td>1020.0</td>\n",
              "      <td>1020.0</td>\n",
              "      <td>1020.0</td>\n",
              "    </tr>\n",
              "    <tr>\n",
              "      <th>2021-09-04</th>\n",
              "      <td>NaN</td>\n",
              "      <td>NaN</td>\n",
              "      <td>NaN</td>\n",
              "      <td>NaN</td>\n",
              "      <td>1030.0</td>\n",
              "      <td>1030.0</td>\n",
              "      <td>1030.0</td>\n",
              "    </tr>\n",
              "    <tr>\n",
              "      <th>2021-09-05</th>\n",
              "      <td>1050.0</td>\n",
              "      <td>2050.0</td>\n",
              "      <td>3050.0</td>\n",
              "      <td>1050.0</td>\n",
              "      <td>1050.0</td>\n",
              "      <td>1050.0</td>\n",
              "      <td>1050.0</td>\n",
              "    </tr>\n",
              "    <tr>\n",
              "      <th>2021-09-05</th>\n",
              "      <td>1050.0</td>\n",
              "      <td>2050.0</td>\n",
              "      <td>3050.0</td>\n",
              "      <td>1050.0</td>\n",
              "      <td>1050.0</td>\n",
              "      <td>1050.0</td>\n",
              "      <td>1050.0</td>\n",
              "    </tr>\n",
              "    <tr>\n",
              "      <th>2021-09-05</th>\n",
              "      <td>1050.0</td>\n",
              "      <td>2050.0</td>\n",
              "      <td>3050.0</td>\n",
              "      <td>1050.0</td>\n",
              "      <td>1050.0</td>\n",
              "      <td>1050.0</td>\n",
              "      <td>1050.0</td>\n",
              "    </tr>\n",
              "    <tr>\n",
              "      <th>2021-09-05</th>\n",
              "      <td>1050.0</td>\n",
              "      <td>2050.0</td>\n",
              "      <td>3050.0</td>\n",
              "      <td>1050.0</td>\n",
              "      <td>1050.0</td>\n",
              "      <td>1050.0</td>\n",
              "      <td>1050.0</td>\n",
              "    </tr>\n",
              "    <tr>\n",
              "      <th>2021-09-06</th>\n",
              "      <td>1060.0</td>\n",
              "      <td>2060.0</td>\n",
              "      <td>3060.0</td>\n",
              "      <td>1060.0</td>\n",
              "      <td>1060.0</td>\n",
              "      <td>1060.0</td>\n",
              "      <td>1060.0</td>\n",
              "    </tr>\n",
              "  </tbody>\n",
              "</table>\n",
              "</div>"
            ],
            "text/plain": [
              "               A전자     B화학     C금융    E텔레콤    F소프트    F소프트    F소프트\n",
              "2021-09-01  1000.0  2000.0  3000.0  1000.0  1000.0  1000.0  1000.0\n",
              "2021-09-02  1010.0  2010.0  3010.0  1010.0  1010.0  1010.0  1010.0\n",
              "2021-09-03  1020.0  2020.0  3020.0  1020.0  1020.0  1020.0  1020.0\n",
              "2021-09-04     NaN     NaN     NaN     NaN  1030.0  1030.0  1030.0\n",
              "2021-09-05  1050.0  2050.0  3050.0  1050.0  1050.0  1050.0  1050.0\n",
              "2021-09-05  1050.0  2050.0  3050.0  1050.0  1050.0  1050.0  1050.0\n",
              "2021-09-05  1050.0  2050.0  3050.0  1050.0  1050.0  1050.0  1050.0\n",
              "2021-09-05  1050.0  2050.0  3050.0  1050.0  1050.0  1050.0  1050.0\n",
              "2021-09-06  1060.0  2060.0  3060.0  1060.0  1060.0  1060.0  1060.0"
            ]
          },
          "metadata": {},
          "execution_count": 61
        }
      ]
    },
    {
      "cell_type": "code",
      "metadata": {
        "id": "k2fekBHR6trl",
        "colab": {
          "base_uri": "https://localhost:8080/",
          "height": 332
        },
        "outputId": "f9632124-03bd-4984-b14e-855801e08516"
      },
      "source": [
        "df2.drop(['C금융', 'E텔레콤'], axis=1)"
      ],
      "execution_count": 62,
      "outputs": [
        {
          "output_type": "execute_result",
          "data": {
            "text/html": [
              "<div>\n",
              "<style scoped>\n",
              "    .dataframe tbody tr th:only-of-type {\n",
              "        vertical-align: middle;\n",
              "    }\n",
              "\n",
              "    .dataframe tbody tr th {\n",
              "        vertical-align: top;\n",
              "    }\n",
              "\n",
              "    .dataframe thead th {\n",
              "        text-align: right;\n",
              "    }\n",
              "</style>\n",
              "<table border=\"1\" class=\"dataframe\">\n",
              "  <thead>\n",
              "    <tr style=\"text-align: right;\">\n",
              "      <th></th>\n",
              "      <th>A전자</th>\n",
              "      <th>B화학</th>\n",
              "      <th>D엔터</th>\n",
              "      <th>F소프트</th>\n",
              "      <th>F소프트</th>\n",
              "      <th>F소프트</th>\n",
              "    </tr>\n",
              "  </thead>\n",
              "  <tbody>\n",
              "    <tr>\n",
              "      <th>2021-09-01</th>\n",
              "      <td>1000.0</td>\n",
              "      <td>2000.0</td>\n",
              "      <td>4000.0</td>\n",
              "      <td>1000.0</td>\n",
              "      <td>1000.0</td>\n",
              "      <td>1000.0</td>\n",
              "    </tr>\n",
              "    <tr>\n",
              "      <th>2021-09-02</th>\n",
              "      <td>1010.0</td>\n",
              "      <td>2010.0</td>\n",
              "      <td>4010.0</td>\n",
              "      <td>1010.0</td>\n",
              "      <td>1010.0</td>\n",
              "      <td>1010.0</td>\n",
              "    </tr>\n",
              "    <tr>\n",
              "      <th>2021-09-03</th>\n",
              "      <td>1020.0</td>\n",
              "      <td>2020.0</td>\n",
              "      <td>4020.0</td>\n",
              "      <td>1020.0</td>\n",
              "      <td>1020.0</td>\n",
              "      <td>1020.0</td>\n",
              "    </tr>\n",
              "    <tr>\n",
              "      <th>2021-09-04</th>\n",
              "      <td>NaN</td>\n",
              "      <td>NaN</td>\n",
              "      <td>NaN</td>\n",
              "      <td>1030.0</td>\n",
              "      <td>1030.0</td>\n",
              "      <td>1030.0</td>\n",
              "    </tr>\n",
              "    <tr>\n",
              "      <th>2021-09-05</th>\n",
              "      <td>1050.0</td>\n",
              "      <td>2050.0</td>\n",
              "      <td>4050.0</td>\n",
              "      <td>1050.0</td>\n",
              "      <td>1050.0</td>\n",
              "      <td>1050.0</td>\n",
              "    </tr>\n",
              "    <tr>\n",
              "      <th>2021-09-05</th>\n",
              "      <td>1050.0</td>\n",
              "      <td>2050.0</td>\n",
              "      <td>4050.0</td>\n",
              "      <td>1050.0</td>\n",
              "      <td>1050.0</td>\n",
              "      <td>1050.0</td>\n",
              "    </tr>\n",
              "    <tr>\n",
              "      <th>2021-09-05</th>\n",
              "      <td>1050.0</td>\n",
              "      <td>2050.0</td>\n",
              "      <td>4050.0</td>\n",
              "      <td>1050.0</td>\n",
              "      <td>1050.0</td>\n",
              "      <td>1050.0</td>\n",
              "    </tr>\n",
              "    <tr>\n",
              "      <th>2021-09-05</th>\n",
              "      <td>1050.0</td>\n",
              "      <td>2050.0</td>\n",
              "      <td>4050.0</td>\n",
              "      <td>1050.0</td>\n",
              "      <td>1050.0</td>\n",
              "      <td>1050.0</td>\n",
              "    </tr>\n",
              "    <tr>\n",
              "      <th>2021-09-06</th>\n",
              "      <td>1060.0</td>\n",
              "      <td>2060.0</td>\n",
              "      <td>4060.0</td>\n",
              "      <td>1060.0</td>\n",
              "      <td>1060.0</td>\n",
              "      <td>1060.0</td>\n",
              "    </tr>\n",
              "  </tbody>\n",
              "</table>\n",
              "</div>"
            ],
            "text/plain": [
              "               A전자     B화학     D엔터    F소프트    F소프트    F소프트\n",
              "2021-09-01  1000.0  2000.0  4000.0  1000.0  1000.0  1000.0\n",
              "2021-09-02  1010.0  2010.0  4010.0  1010.0  1010.0  1010.0\n",
              "2021-09-03  1020.0  2020.0  4020.0  1020.0  1020.0  1020.0\n",
              "2021-09-04     NaN     NaN     NaN  1030.0  1030.0  1030.0\n",
              "2021-09-05  1050.0  2050.0  4050.0  1050.0  1050.0  1050.0\n",
              "2021-09-05  1050.0  2050.0  4050.0  1050.0  1050.0  1050.0\n",
              "2021-09-05  1050.0  2050.0  4050.0  1050.0  1050.0  1050.0\n",
              "2021-09-05  1050.0  2050.0  4050.0  1050.0  1050.0  1050.0\n",
              "2021-09-06  1060.0  2060.0  4060.0  1060.0  1060.0  1060.0"
            ]
          },
          "metadata": {},
          "execution_count": 62
        }
      ]
    },
    {
      "cell_type": "markdown",
      "metadata": {
        "id": "qxzwGyzWb4Yd"
      },
      "source": [
        ""
      ]
    },
    {
      "cell_type": "markdown",
      "metadata": {
        "id": "ttUNE3x7b0gk"
      },
      "source": [
        "# 데이터 **조회**"
      ]
    },
    {
      "cell_type": "code",
      "metadata": {
        "id": "cOXA2GWh6trl",
        "colab": {
          "base_uri": "https://localhost:8080/",
          "height": 206
        },
        "outputId": "e1047c75-ee57-474a-dccb-1c7410a9e5d5"
      },
      "source": [
        "df2.head() #앞에서 보고 싶은 숫자 ()안에 넣기 ex. (2) <- 위에서 2 열 보임"
      ],
      "execution_count": 68,
      "outputs": [
        {
          "output_type": "execute_result",
          "data": {
            "text/html": [
              "<div>\n",
              "<style scoped>\n",
              "    .dataframe tbody tr th:only-of-type {\n",
              "        vertical-align: middle;\n",
              "    }\n",
              "\n",
              "    .dataframe tbody tr th {\n",
              "        vertical-align: top;\n",
              "    }\n",
              "\n",
              "    .dataframe thead th {\n",
              "        text-align: right;\n",
              "    }\n",
              "</style>\n",
              "<table border=\"1\" class=\"dataframe\">\n",
              "  <thead>\n",
              "    <tr style=\"text-align: right;\">\n",
              "      <th></th>\n",
              "      <th>A전자</th>\n",
              "      <th>B화학</th>\n",
              "      <th>C금융</th>\n",
              "      <th>D엔터</th>\n",
              "      <th>E텔레콤</th>\n",
              "      <th>F소프트</th>\n",
              "      <th>F소프트</th>\n",
              "      <th>F소프트</th>\n",
              "    </tr>\n",
              "  </thead>\n",
              "  <tbody>\n",
              "    <tr>\n",
              "      <th>2021-09-01</th>\n",
              "      <td>1000.0</td>\n",
              "      <td>2000.0</td>\n",
              "      <td>3000.0</td>\n",
              "      <td>4000.0</td>\n",
              "      <td>1000.0</td>\n",
              "      <td>1000.0</td>\n",
              "      <td>1000.0</td>\n",
              "      <td>1000.0</td>\n",
              "    </tr>\n",
              "    <tr>\n",
              "      <th>2021-09-02</th>\n",
              "      <td>1010.0</td>\n",
              "      <td>2010.0</td>\n",
              "      <td>3010.0</td>\n",
              "      <td>4010.0</td>\n",
              "      <td>1010.0</td>\n",
              "      <td>1010.0</td>\n",
              "      <td>1010.0</td>\n",
              "      <td>1010.0</td>\n",
              "    </tr>\n",
              "    <tr>\n",
              "      <th>2021-09-03</th>\n",
              "      <td>1020.0</td>\n",
              "      <td>2020.0</td>\n",
              "      <td>3020.0</td>\n",
              "      <td>4020.0</td>\n",
              "      <td>1020.0</td>\n",
              "      <td>1020.0</td>\n",
              "      <td>1020.0</td>\n",
              "      <td>1020.0</td>\n",
              "    </tr>\n",
              "    <tr>\n",
              "      <th>2021-09-04</th>\n",
              "      <td>NaN</td>\n",
              "      <td>NaN</td>\n",
              "      <td>NaN</td>\n",
              "      <td>NaN</td>\n",
              "      <td>NaN</td>\n",
              "      <td>1030.0</td>\n",
              "      <td>1030.0</td>\n",
              "      <td>1030.0</td>\n",
              "    </tr>\n",
              "    <tr>\n",
              "      <th>2021-09-05</th>\n",
              "      <td>1050.0</td>\n",
              "      <td>2050.0</td>\n",
              "      <td>3050.0</td>\n",
              "      <td>4050.0</td>\n",
              "      <td>1050.0</td>\n",
              "      <td>1050.0</td>\n",
              "      <td>1050.0</td>\n",
              "      <td>1050.0</td>\n",
              "    </tr>\n",
              "  </tbody>\n",
              "</table>\n",
              "</div>"
            ],
            "text/plain": [
              "               A전자     B화학     C금융     D엔터    E텔레콤    F소프트    F소프트    F소프트\n",
              "2021-09-01  1000.0  2000.0  3000.0  4000.0  1000.0  1000.0  1000.0  1000.0\n",
              "2021-09-02  1010.0  2010.0  3010.0  4010.0  1010.0  1010.0  1010.0  1010.0\n",
              "2021-09-03  1020.0  2020.0  3020.0  4020.0  1020.0  1020.0  1020.0  1020.0\n",
              "2021-09-04     NaN     NaN     NaN     NaN     NaN  1030.0  1030.0  1030.0\n",
              "2021-09-05  1050.0  2050.0  3050.0  4050.0  1050.0  1050.0  1050.0  1050.0"
            ]
          },
          "metadata": {},
          "execution_count": 68
        }
      ]
    },
    {
      "cell_type": "code",
      "metadata": {
        "id": "vJDPeN0f6trl",
        "colab": {
          "base_uri": "https://localhost:8080/",
          "height": 143
        },
        "outputId": "407be7d7-e85b-4946-a471-f73d6e58a987"
      },
      "source": [
        "df2.tail(3) #뒤에서 보고 싶은 숫자 ()안에 넣기 ex. (3) <- 위에서 3 열 보임"
      ],
      "execution_count": 66,
      "outputs": [
        {
          "output_type": "execute_result",
          "data": {
            "text/html": [
              "<div>\n",
              "<style scoped>\n",
              "    .dataframe tbody tr th:only-of-type {\n",
              "        vertical-align: middle;\n",
              "    }\n",
              "\n",
              "    .dataframe tbody tr th {\n",
              "        vertical-align: top;\n",
              "    }\n",
              "\n",
              "    .dataframe thead th {\n",
              "        text-align: right;\n",
              "    }\n",
              "</style>\n",
              "<table border=\"1\" class=\"dataframe\">\n",
              "  <thead>\n",
              "    <tr style=\"text-align: right;\">\n",
              "      <th></th>\n",
              "      <th>A전자</th>\n",
              "      <th>B화학</th>\n",
              "      <th>C금융</th>\n",
              "      <th>D엔터</th>\n",
              "      <th>E텔레콤</th>\n",
              "      <th>F소프트</th>\n",
              "      <th>F소프트</th>\n",
              "      <th>F소프트</th>\n",
              "    </tr>\n",
              "  </thead>\n",
              "  <tbody>\n",
              "    <tr>\n",
              "      <th>2021-09-05</th>\n",
              "      <td>1050.0</td>\n",
              "      <td>2050.0</td>\n",
              "      <td>3050.0</td>\n",
              "      <td>4050.0</td>\n",
              "      <td>1050.0</td>\n",
              "      <td>1050.0</td>\n",
              "      <td>1050.0</td>\n",
              "      <td>1050.0</td>\n",
              "    </tr>\n",
              "    <tr>\n",
              "      <th>2021-09-05</th>\n",
              "      <td>1050.0</td>\n",
              "      <td>2050.0</td>\n",
              "      <td>3050.0</td>\n",
              "      <td>4050.0</td>\n",
              "      <td>1050.0</td>\n",
              "      <td>1050.0</td>\n",
              "      <td>1050.0</td>\n",
              "      <td>1050.0</td>\n",
              "    </tr>\n",
              "    <tr>\n",
              "      <th>2021-09-06</th>\n",
              "      <td>1060.0</td>\n",
              "      <td>2060.0</td>\n",
              "      <td>3060.0</td>\n",
              "      <td>4060.0</td>\n",
              "      <td>1060.0</td>\n",
              "      <td>1060.0</td>\n",
              "      <td>1060.0</td>\n",
              "      <td>1060.0</td>\n",
              "    </tr>\n",
              "  </tbody>\n",
              "</table>\n",
              "</div>"
            ],
            "text/plain": [
              "               A전자     B화학     C금융     D엔터    E텔레콤    F소프트    F소프트    F소프트\n",
              "2021-09-05  1050.0  2050.0  3050.0  4050.0  1050.0  1050.0  1050.0  1050.0\n",
              "2021-09-05  1050.0  2050.0  3050.0  4050.0  1050.0  1050.0  1050.0  1050.0\n",
              "2021-09-06  1060.0  2060.0  3060.0  4060.0  1060.0  1060.0  1060.0  1060.0"
            ]
          },
          "metadata": {},
          "execution_count": 66
        }
      ]
    },
    {
      "cell_type": "code",
      "metadata": {
        "id": "kv7loRTW6trm"
      },
      "source": [
        ""
      ],
      "execution_count": null,
      "outputs": []
    },
    {
      "cell_type": "code",
      "metadata": {
        "id": "NYAA9Srh6trm",
        "colab": {
          "base_uri": "https://localhost:8080/"
        },
        "outputId": "68dc1901-f8c7-4b89-81d5-4225c3bf9bbe"
      },
      "source": [
        "df2.iloc[2]    "
      ],
      "execution_count": 69,
      "outputs": [
        {
          "output_type": "execute_result",
          "data": {
            "text/plain": [
              "A전자     1020.0\n",
              "B화학     2020.0\n",
              "C금융     3020.0\n",
              "D엔터     4020.0\n",
              "E텔레콤    1020.0\n",
              "F소프트    1020.0\n",
              "F소프트    1020.0\n",
              "F소프트    1020.0\n",
              "Name: 2021-09-03 00:00:00, dtype: float64"
            ]
          },
          "metadata": {},
          "execution_count": 69
        }
      ]
    },
    {
      "cell_type": "code",
      "metadata": {
        "id": "b_4tvGE36trm",
        "colab": {
          "base_uri": "https://localhost:8080/"
        },
        "outputId": "ea005319-5481-438f-b38b-09174e173582"
      },
      "source": [
        "df2.loc['2021-09-03']    "
      ],
      "execution_count": 70,
      "outputs": [
        {
          "output_type": "execute_result",
          "data": {
            "text/plain": [
              "A전자     1020.0\n",
              "B화학     2020.0\n",
              "C금융     3020.0\n",
              "D엔터     4020.0\n",
              "E텔레콤    1020.0\n",
              "F소프트    1020.0\n",
              "F소프트    1020.0\n",
              "F소프트    1020.0\n",
              "Name: 2021-09-03 00:00:00, dtype: float64"
            ]
          },
          "metadata": {},
          "execution_count": 70
        }
      ]
    },
    {
      "cell_type": "code",
      "metadata": {
        "id": "3nRUjIb36trm",
        "colab": {
          "base_uri": "https://localhost:8080/",
          "height": 112
        },
        "outputId": "3fca1edf-6cbc-43ca-a8e0-bd07337a6a6b"
      },
      "source": [
        "df2.iloc[1:3]     "
      ],
      "execution_count": 71,
      "outputs": [
        {
          "output_type": "execute_result",
          "data": {
            "text/html": [
              "<div>\n",
              "<style scoped>\n",
              "    .dataframe tbody tr th:only-of-type {\n",
              "        vertical-align: middle;\n",
              "    }\n",
              "\n",
              "    .dataframe tbody tr th {\n",
              "        vertical-align: top;\n",
              "    }\n",
              "\n",
              "    .dataframe thead th {\n",
              "        text-align: right;\n",
              "    }\n",
              "</style>\n",
              "<table border=\"1\" class=\"dataframe\">\n",
              "  <thead>\n",
              "    <tr style=\"text-align: right;\">\n",
              "      <th></th>\n",
              "      <th>A전자</th>\n",
              "      <th>B화학</th>\n",
              "      <th>C금융</th>\n",
              "      <th>D엔터</th>\n",
              "      <th>E텔레콤</th>\n",
              "      <th>F소프트</th>\n",
              "      <th>F소프트</th>\n",
              "      <th>F소프트</th>\n",
              "    </tr>\n",
              "  </thead>\n",
              "  <tbody>\n",
              "    <tr>\n",
              "      <th>2021-09-02</th>\n",
              "      <td>1010.0</td>\n",
              "      <td>2010.0</td>\n",
              "      <td>3010.0</td>\n",
              "      <td>4010.0</td>\n",
              "      <td>1010.0</td>\n",
              "      <td>1010.0</td>\n",
              "      <td>1010.0</td>\n",
              "      <td>1010.0</td>\n",
              "    </tr>\n",
              "    <tr>\n",
              "      <th>2021-09-03</th>\n",
              "      <td>1020.0</td>\n",
              "      <td>2020.0</td>\n",
              "      <td>3020.0</td>\n",
              "      <td>4020.0</td>\n",
              "      <td>1020.0</td>\n",
              "      <td>1020.0</td>\n",
              "      <td>1020.0</td>\n",
              "      <td>1020.0</td>\n",
              "    </tr>\n",
              "  </tbody>\n",
              "</table>\n",
              "</div>"
            ],
            "text/plain": [
              "               A전자     B화학     C금융     D엔터    E텔레콤    F소프트    F소프트    F소프트\n",
              "2021-09-02  1010.0  2010.0  3010.0  4010.0  1010.0  1010.0  1010.0  1010.0\n",
              "2021-09-03  1020.0  2020.0  3020.0  4020.0  1020.0  1020.0  1020.0  1020.0"
            ]
          },
          "metadata": {},
          "execution_count": 71
        }
      ]
    },
    {
      "cell_type": "code",
      "metadata": {
        "id": "m5oAtUV26trm",
        "colab": {
          "base_uri": "https://localhost:8080/",
          "height": 112
        },
        "outputId": "445819fb-b852-4ab6-ae74-32a5418e99d9"
      },
      "source": [
        "df2.loc['2021-09-02':'2021-09-03']  "
      ],
      "execution_count": 72,
      "outputs": [
        {
          "output_type": "execute_result",
          "data": {
            "text/html": [
              "<div>\n",
              "<style scoped>\n",
              "    .dataframe tbody tr th:only-of-type {\n",
              "        vertical-align: middle;\n",
              "    }\n",
              "\n",
              "    .dataframe tbody tr th {\n",
              "        vertical-align: top;\n",
              "    }\n",
              "\n",
              "    .dataframe thead th {\n",
              "        text-align: right;\n",
              "    }\n",
              "</style>\n",
              "<table border=\"1\" class=\"dataframe\">\n",
              "  <thead>\n",
              "    <tr style=\"text-align: right;\">\n",
              "      <th></th>\n",
              "      <th>A전자</th>\n",
              "      <th>B화학</th>\n",
              "      <th>C금융</th>\n",
              "      <th>D엔터</th>\n",
              "      <th>E텔레콤</th>\n",
              "      <th>F소프트</th>\n",
              "      <th>F소프트</th>\n",
              "      <th>F소프트</th>\n",
              "    </tr>\n",
              "  </thead>\n",
              "  <tbody>\n",
              "    <tr>\n",
              "      <th>2021-09-02</th>\n",
              "      <td>1010.0</td>\n",
              "      <td>2010.0</td>\n",
              "      <td>3010.0</td>\n",
              "      <td>4010.0</td>\n",
              "      <td>1010.0</td>\n",
              "      <td>1010.0</td>\n",
              "      <td>1010.0</td>\n",
              "      <td>1010.0</td>\n",
              "    </tr>\n",
              "    <tr>\n",
              "      <th>2021-09-03</th>\n",
              "      <td>1020.0</td>\n",
              "      <td>2020.0</td>\n",
              "      <td>3020.0</td>\n",
              "      <td>4020.0</td>\n",
              "      <td>1020.0</td>\n",
              "      <td>1020.0</td>\n",
              "      <td>1020.0</td>\n",
              "      <td>1020.0</td>\n",
              "    </tr>\n",
              "  </tbody>\n",
              "</table>\n",
              "</div>"
            ],
            "text/plain": [
              "               A전자     B화학     C금융     D엔터    E텔레콤    F소프트    F소프트    F소프트\n",
              "2021-09-02  1010.0  2010.0  3010.0  4010.0  1010.0  1010.0  1010.0  1010.0\n",
              "2021-09-03  1020.0  2020.0  3020.0  4020.0  1020.0  1020.0  1020.0  1020.0"
            ]
          },
          "metadata": {},
          "execution_count": 72
        }
      ]
    },
    {
      "cell_type": "code",
      "metadata": {
        "id": "BOLqUMN46trm",
        "colab": {
          "base_uri": "https://localhost:8080/",
          "height": 112
        },
        "outputId": "b2692d07-ad6e-451c-cf2f-3d380be59314"
      },
      "source": [
        "df2[1:3]"
      ],
      "execution_count": 73,
      "outputs": [
        {
          "output_type": "execute_result",
          "data": {
            "text/html": [
              "<div>\n",
              "<style scoped>\n",
              "    .dataframe tbody tr th:only-of-type {\n",
              "        vertical-align: middle;\n",
              "    }\n",
              "\n",
              "    .dataframe tbody tr th {\n",
              "        vertical-align: top;\n",
              "    }\n",
              "\n",
              "    .dataframe thead th {\n",
              "        text-align: right;\n",
              "    }\n",
              "</style>\n",
              "<table border=\"1\" class=\"dataframe\">\n",
              "  <thead>\n",
              "    <tr style=\"text-align: right;\">\n",
              "      <th></th>\n",
              "      <th>A전자</th>\n",
              "      <th>B화학</th>\n",
              "      <th>C금융</th>\n",
              "      <th>D엔터</th>\n",
              "      <th>E텔레콤</th>\n",
              "      <th>F소프트</th>\n",
              "      <th>F소프트</th>\n",
              "      <th>F소프트</th>\n",
              "    </tr>\n",
              "  </thead>\n",
              "  <tbody>\n",
              "    <tr>\n",
              "      <th>2021-09-02</th>\n",
              "      <td>1010.0</td>\n",
              "      <td>2010.0</td>\n",
              "      <td>3010.0</td>\n",
              "      <td>4010.0</td>\n",
              "      <td>1010.0</td>\n",
              "      <td>1010.0</td>\n",
              "      <td>1010.0</td>\n",
              "      <td>1010.0</td>\n",
              "    </tr>\n",
              "    <tr>\n",
              "      <th>2021-09-03</th>\n",
              "      <td>1020.0</td>\n",
              "      <td>2020.0</td>\n",
              "      <td>3020.0</td>\n",
              "      <td>4020.0</td>\n",
              "      <td>1020.0</td>\n",
              "      <td>1020.0</td>\n",
              "      <td>1020.0</td>\n",
              "      <td>1020.0</td>\n",
              "    </tr>\n",
              "  </tbody>\n",
              "</table>\n",
              "</div>"
            ],
            "text/plain": [
              "               A전자     B화학     C금융     D엔터    E텔레콤    F소프트    F소프트    F소프트\n",
              "2021-09-02  1010.0  2010.0  3010.0  4010.0  1010.0  1010.0  1010.0  1010.0\n",
              "2021-09-03  1020.0  2020.0  3020.0  4020.0  1020.0  1020.0  1020.0  1020.0"
            ]
          },
          "metadata": {},
          "execution_count": 73
        }
      ]
    },
    {
      "cell_type": "code",
      "metadata": {
        "id": "cUVNnGeA6trm",
        "colab": {
          "base_uri": "https://localhost:8080/"
        },
        "outputId": "e9db18e3-9e33-4cf6-a77a-51b6469772dc"
      },
      "source": [
        "df2['C금융'] "
      ],
      "execution_count": 74,
      "outputs": [
        {
          "output_type": "execute_result",
          "data": {
            "text/plain": [
              "2021-09-01    3000.0\n",
              "2021-09-02    3010.0\n",
              "2021-09-03    3020.0\n",
              "2021-09-04       NaN\n",
              "2021-09-05    3050.0\n",
              "2021-09-05    3050.0\n",
              "2021-09-05    3050.0\n",
              "2021-09-05    3050.0\n",
              "2021-09-06    3060.0\n",
              "Name: C금융, dtype: float64"
            ]
          },
          "metadata": {},
          "execution_count": 74
        }
      ]
    },
    {
      "cell_type": "code",
      "metadata": {
        "id": "LTm_Rk_86trm",
        "colab": {
          "base_uri": "https://localhost:8080/"
        },
        "outputId": "ab5f6034-fb1a-48c1-a0e0-8cfe10e347a1"
      },
      "source": [
        "df2.iloc[1:3, 2]"
      ],
      "execution_count": 75,
      "outputs": [
        {
          "output_type": "execute_result",
          "data": {
            "text/plain": [
              "2021-09-02    3010.0\n",
              "2021-09-03    3020.0\n",
              "Name: C금융, dtype: float64"
            ]
          },
          "metadata": {},
          "execution_count": 75
        }
      ]
    },
    {
      "cell_type": "code",
      "metadata": {
        "id": "58OQ2s3G6trm",
        "colab": {
          "base_uri": "https://localhost:8080/"
        },
        "outputId": "efaa2742-3df8-4339-b07a-540feedf04b4"
      },
      "source": [
        "df2.loc['2021-09-02':'2021-09-03', 'C금융']"
      ],
      "execution_count": 76,
      "outputs": [
        {
          "output_type": "execute_result",
          "data": {
            "text/plain": [
              "2021-09-02    3010.0\n",
              "2021-09-03    3020.0\n",
              "Name: C금융, dtype: float64"
            ]
          },
          "metadata": {},
          "execution_count": 76
        }
      ]
    },
    {
      "cell_type": "code",
      "metadata": {
        "id": "onmQqSUU6trm",
        "colab": {
          "base_uri": "https://localhost:8080/"
        },
        "outputId": "4adfd491-7d56-4e93-9179-5c6a6cf32fef"
      },
      "source": [
        "df2['E텔레콤'] * 10     "
      ],
      "execution_count": 77,
      "outputs": [
        {
          "output_type": "execute_result",
          "data": {
            "text/plain": [
              "2021-09-01    10000.0\n",
              "2021-09-02    10100.0\n",
              "2021-09-03    10200.0\n",
              "2021-09-04        NaN\n",
              "2021-09-05    10500.0\n",
              "2021-09-05    10500.0\n",
              "2021-09-05    10500.0\n",
              "2021-09-05    10500.0\n",
              "2021-09-06    10600.0\n",
              "Name: E텔레콤, dtype: float64"
            ]
          },
          "metadata": {},
          "execution_count": 77
        }
      ]
    },
    {
      "cell_type": "code",
      "metadata": {
        "id": "lywMdAuK6trm",
        "colab": {
          "base_uri": "https://localhost:8080/"
        },
        "outputId": "001baaa8-a51a-4ba7-a593-1f90ab2f05ba"
      },
      "source": [
        "df2.sum(axis=0)"
      ],
      "execution_count": 78,
      "outputs": [
        {
          "output_type": "execute_result",
          "data": {
            "text/plain": [
              "A전자      8290.0\n",
              "B화학     16290.0\n",
              "C금융     24290.0\n",
              "D엔터     32290.0\n",
              "E텔레콤     8290.0\n",
              "F소프트     9320.0\n",
              "F소프트     9320.0\n",
              "F소프트     9320.0\n",
              "dtype: float64"
            ]
          },
          "metadata": {},
          "execution_count": 78
        }
      ]
    },
    {
      "cell_type": "code",
      "metadata": {
        "id": "63svXx-z6trm",
        "colab": {
          "base_uri": "https://localhost:8080/"
        },
        "outputId": "7a6fb273-adfc-4deb-c724-a35523f53614"
      },
      "source": [
        "df2.median(axis=1)"
      ],
      "execution_count": 79,
      "outputs": [
        {
          "output_type": "execute_result",
          "data": {
            "text/plain": [
              "2021-09-01    1000.0\n",
              "2021-09-02    1010.0\n",
              "2021-09-03    1020.0\n",
              "2021-09-04    1030.0\n",
              "2021-09-05    1050.0\n",
              "2021-09-05    1050.0\n",
              "2021-09-05    1050.0\n",
              "2021-09-05    1050.0\n",
              "2021-09-06    1060.0\n",
              "dtype: float64"
            ]
          },
          "metadata": {},
          "execution_count": 79
        }
      ]
    },
    {
      "cell_type": "code",
      "metadata": {
        "id": "WkTyzDEL6trm",
        "colab": {
          "base_uri": "https://localhost:8080/",
          "height": 300
        },
        "outputId": "73ff3469-4065-4621-a891-09f9bf8250f6"
      },
      "source": [
        "df2.describe()"
      ],
      "execution_count": 80,
      "outputs": [
        {
          "output_type": "execute_result",
          "data": {
            "text/html": [
              "<div>\n",
              "<style scoped>\n",
              "    .dataframe tbody tr th:only-of-type {\n",
              "        vertical-align: middle;\n",
              "    }\n",
              "\n",
              "    .dataframe tbody tr th {\n",
              "        vertical-align: top;\n",
              "    }\n",
              "\n",
              "    .dataframe thead th {\n",
              "        text-align: right;\n",
              "    }\n",
              "</style>\n",
              "<table border=\"1\" class=\"dataframe\">\n",
              "  <thead>\n",
              "    <tr style=\"text-align: right;\">\n",
              "      <th></th>\n",
              "      <th>A전자</th>\n",
              "      <th>B화학</th>\n",
              "      <th>C금융</th>\n",
              "      <th>D엔터</th>\n",
              "      <th>E텔레콤</th>\n",
              "      <th>F소프트</th>\n",
              "      <th>F소프트</th>\n",
              "      <th>F소프트</th>\n",
              "    </tr>\n",
              "  </thead>\n",
              "  <tbody>\n",
              "    <tr>\n",
              "      <th>count</th>\n",
              "      <td>8.000000</td>\n",
              "      <td>8.000000</td>\n",
              "      <td>8.000000</td>\n",
              "      <td>8.000000</td>\n",
              "      <td>8.000000</td>\n",
              "      <td>9.000000</td>\n",
              "      <td>9.000000</td>\n",
              "      <td>9.000000</td>\n",
              "    </tr>\n",
              "    <tr>\n",
              "      <th>mean</th>\n",
              "      <td>1036.250000</td>\n",
              "      <td>2036.250000</td>\n",
              "      <td>3036.250000</td>\n",
              "      <td>4036.250000</td>\n",
              "      <td>1036.250000</td>\n",
              "      <td>1035.555556</td>\n",
              "      <td>1035.555556</td>\n",
              "      <td>1035.555556</td>\n",
              "    </tr>\n",
              "    <tr>\n",
              "      <th>std</th>\n",
              "      <td>22.638463</td>\n",
              "      <td>22.638463</td>\n",
              "      <td>22.638463</td>\n",
              "      <td>22.638463</td>\n",
              "      <td>22.638463</td>\n",
              "      <td>21.278576</td>\n",
              "      <td>21.278576</td>\n",
              "      <td>21.278576</td>\n",
              "    </tr>\n",
              "    <tr>\n",
              "      <th>min</th>\n",
              "      <td>1000.000000</td>\n",
              "      <td>2000.000000</td>\n",
              "      <td>3000.000000</td>\n",
              "      <td>4000.000000</td>\n",
              "      <td>1000.000000</td>\n",
              "      <td>1000.000000</td>\n",
              "      <td>1000.000000</td>\n",
              "      <td>1000.000000</td>\n",
              "    </tr>\n",
              "    <tr>\n",
              "      <th>25%</th>\n",
              "      <td>1017.500000</td>\n",
              "      <td>2017.500000</td>\n",
              "      <td>3017.500000</td>\n",
              "      <td>4017.500000</td>\n",
              "      <td>1017.500000</td>\n",
              "      <td>1020.000000</td>\n",
              "      <td>1020.000000</td>\n",
              "      <td>1020.000000</td>\n",
              "    </tr>\n",
              "    <tr>\n",
              "      <th>50%</th>\n",
              "      <td>1050.000000</td>\n",
              "      <td>2050.000000</td>\n",
              "      <td>3050.000000</td>\n",
              "      <td>4050.000000</td>\n",
              "      <td>1050.000000</td>\n",
              "      <td>1050.000000</td>\n",
              "      <td>1050.000000</td>\n",
              "      <td>1050.000000</td>\n",
              "    </tr>\n",
              "    <tr>\n",
              "      <th>75%</th>\n",
              "      <td>1050.000000</td>\n",
              "      <td>2050.000000</td>\n",
              "      <td>3050.000000</td>\n",
              "      <td>4050.000000</td>\n",
              "      <td>1050.000000</td>\n",
              "      <td>1050.000000</td>\n",
              "      <td>1050.000000</td>\n",
              "      <td>1050.000000</td>\n",
              "    </tr>\n",
              "    <tr>\n",
              "      <th>max</th>\n",
              "      <td>1060.000000</td>\n",
              "      <td>2060.000000</td>\n",
              "      <td>3060.000000</td>\n",
              "      <td>4060.000000</td>\n",
              "      <td>1060.000000</td>\n",
              "      <td>1060.000000</td>\n",
              "      <td>1060.000000</td>\n",
              "      <td>1060.000000</td>\n",
              "    </tr>\n",
              "  </tbody>\n",
              "</table>\n",
              "</div>"
            ],
            "text/plain": [
              "               A전자          B화학  ...         F소프트         F소프트\n",
              "count     8.000000     8.000000  ...     9.000000     9.000000\n",
              "mean   1036.250000  2036.250000  ...  1035.555556  1035.555556\n",
              "std      22.638463    22.638463  ...    21.278576    21.278576\n",
              "min    1000.000000  2000.000000  ...  1000.000000  1000.000000\n",
              "25%    1017.500000  2017.500000  ...  1020.000000  1020.000000\n",
              "50%    1050.000000  2050.000000  ...  1050.000000  1050.000000\n",
              "75%    1050.000000  2050.000000  ...  1050.000000  1050.000000\n",
              "max    1060.000000  2060.000000  ...  1060.000000  1060.000000\n",
              "\n",
              "[8 rows x 8 columns]"
            ]
          },
          "metadata": {},
          "execution_count": 80
        }
      ]
    },
    {
      "cell_type": "code",
      "metadata": {
        "id": "M3ZOu4ne6trm",
        "colab": {
          "base_uri": "https://localhost:8080/",
          "height": 332
        },
        "outputId": "c7e7e579-a268-4caa-8d57-020d1c73c102"
      },
      "source": [
        "df2"
      ],
      "execution_count": 81,
      "outputs": [
        {
          "output_type": "execute_result",
          "data": {
            "text/html": [
              "<div>\n",
              "<style scoped>\n",
              "    .dataframe tbody tr th:only-of-type {\n",
              "        vertical-align: middle;\n",
              "    }\n",
              "\n",
              "    .dataframe tbody tr th {\n",
              "        vertical-align: top;\n",
              "    }\n",
              "\n",
              "    .dataframe thead th {\n",
              "        text-align: right;\n",
              "    }\n",
              "</style>\n",
              "<table border=\"1\" class=\"dataframe\">\n",
              "  <thead>\n",
              "    <tr style=\"text-align: right;\">\n",
              "      <th></th>\n",
              "      <th>A전자</th>\n",
              "      <th>B화학</th>\n",
              "      <th>C금융</th>\n",
              "      <th>D엔터</th>\n",
              "      <th>E텔레콤</th>\n",
              "      <th>F소프트</th>\n",
              "      <th>F소프트</th>\n",
              "      <th>F소프트</th>\n",
              "    </tr>\n",
              "  </thead>\n",
              "  <tbody>\n",
              "    <tr>\n",
              "      <th>2021-09-01</th>\n",
              "      <td>1000.0</td>\n",
              "      <td>2000.0</td>\n",
              "      <td>3000.0</td>\n",
              "      <td>4000.0</td>\n",
              "      <td>1000.0</td>\n",
              "      <td>1000.0</td>\n",
              "      <td>1000.0</td>\n",
              "      <td>1000.0</td>\n",
              "    </tr>\n",
              "    <tr>\n",
              "      <th>2021-09-02</th>\n",
              "      <td>1010.0</td>\n",
              "      <td>2010.0</td>\n",
              "      <td>3010.0</td>\n",
              "      <td>4010.0</td>\n",
              "      <td>1010.0</td>\n",
              "      <td>1010.0</td>\n",
              "      <td>1010.0</td>\n",
              "      <td>1010.0</td>\n",
              "    </tr>\n",
              "    <tr>\n",
              "      <th>2021-09-03</th>\n",
              "      <td>1020.0</td>\n",
              "      <td>2020.0</td>\n",
              "      <td>3020.0</td>\n",
              "      <td>4020.0</td>\n",
              "      <td>1020.0</td>\n",
              "      <td>1020.0</td>\n",
              "      <td>1020.0</td>\n",
              "      <td>1020.0</td>\n",
              "    </tr>\n",
              "    <tr>\n",
              "      <th>2021-09-04</th>\n",
              "      <td>NaN</td>\n",
              "      <td>NaN</td>\n",
              "      <td>NaN</td>\n",
              "      <td>NaN</td>\n",
              "      <td>NaN</td>\n",
              "      <td>1030.0</td>\n",
              "      <td>1030.0</td>\n",
              "      <td>1030.0</td>\n",
              "    </tr>\n",
              "    <tr>\n",
              "      <th>2021-09-05</th>\n",
              "      <td>1050.0</td>\n",
              "      <td>2050.0</td>\n",
              "      <td>3050.0</td>\n",
              "      <td>4050.0</td>\n",
              "      <td>1050.0</td>\n",
              "      <td>1050.0</td>\n",
              "      <td>1050.0</td>\n",
              "      <td>1050.0</td>\n",
              "    </tr>\n",
              "    <tr>\n",
              "      <th>2021-09-05</th>\n",
              "      <td>1050.0</td>\n",
              "      <td>2050.0</td>\n",
              "      <td>3050.0</td>\n",
              "      <td>4050.0</td>\n",
              "      <td>1050.0</td>\n",
              "      <td>1050.0</td>\n",
              "      <td>1050.0</td>\n",
              "      <td>1050.0</td>\n",
              "    </tr>\n",
              "    <tr>\n",
              "      <th>2021-09-05</th>\n",
              "      <td>1050.0</td>\n",
              "      <td>2050.0</td>\n",
              "      <td>3050.0</td>\n",
              "      <td>4050.0</td>\n",
              "      <td>1050.0</td>\n",
              "      <td>1050.0</td>\n",
              "      <td>1050.0</td>\n",
              "      <td>1050.0</td>\n",
              "    </tr>\n",
              "    <tr>\n",
              "      <th>2021-09-05</th>\n",
              "      <td>1050.0</td>\n",
              "      <td>2050.0</td>\n",
              "      <td>3050.0</td>\n",
              "      <td>4050.0</td>\n",
              "      <td>1050.0</td>\n",
              "      <td>1050.0</td>\n",
              "      <td>1050.0</td>\n",
              "      <td>1050.0</td>\n",
              "    </tr>\n",
              "    <tr>\n",
              "      <th>2021-09-06</th>\n",
              "      <td>1060.0</td>\n",
              "      <td>2060.0</td>\n",
              "      <td>3060.0</td>\n",
              "      <td>4060.0</td>\n",
              "      <td>1060.0</td>\n",
              "      <td>1060.0</td>\n",
              "      <td>1060.0</td>\n",
              "      <td>1060.0</td>\n",
              "    </tr>\n",
              "  </tbody>\n",
              "</table>\n",
              "</div>"
            ],
            "text/plain": [
              "               A전자     B화학     C금융     D엔터    E텔레콤    F소프트    F소프트    F소프트\n",
              "2021-09-01  1000.0  2000.0  3000.0  4000.0  1000.0  1000.0  1000.0  1000.0\n",
              "2021-09-02  1010.0  2010.0  3010.0  4010.0  1010.0  1010.0  1010.0  1010.0\n",
              "2021-09-03  1020.0  2020.0  3020.0  4020.0  1020.0  1020.0  1020.0  1020.0\n",
              "2021-09-04     NaN     NaN     NaN     NaN     NaN  1030.0  1030.0  1030.0\n",
              "2021-09-05  1050.0  2050.0  3050.0  4050.0  1050.0  1050.0  1050.0  1050.0\n",
              "2021-09-05  1050.0  2050.0  3050.0  4050.0  1050.0  1050.0  1050.0  1050.0\n",
              "2021-09-05  1050.0  2050.0  3050.0  4050.0  1050.0  1050.0  1050.0  1050.0\n",
              "2021-09-05  1050.0  2050.0  3050.0  4050.0  1050.0  1050.0  1050.0  1050.0\n",
              "2021-09-06  1060.0  2060.0  3060.0  4060.0  1060.0  1060.0  1060.0  1060.0"
            ]
          },
          "metadata": {},
          "execution_count": 81
        }
      ]
    },
    {
      "cell_type": "code",
      "metadata": {
        "id": "oSmhj18M6trm",
        "colab": {
          "base_uri": "https://localhost:8080/",
          "height": 332
        },
        "outputId": "423a5a52-d151-4a00-b49a-41d996ab4417"
      },
      "source": [
        "df2.dropna(axis=1)"
      ],
      "execution_count": 87,
      "outputs": [
        {
          "output_type": "execute_result",
          "data": {
            "text/html": [
              "<div>\n",
              "<style scoped>\n",
              "    .dataframe tbody tr th:only-of-type {\n",
              "        vertical-align: middle;\n",
              "    }\n",
              "\n",
              "    .dataframe tbody tr th {\n",
              "        vertical-align: top;\n",
              "    }\n",
              "\n",
              "    .dataframe thead th {\n",
              "        text-align: right;\n",
              "    }\n",
              "</style>\n",
              "<table border=\"1\" class=\"dataframe\">\n",
              "  <thead>\n",
              "    <tr style=\"text-align: right;\">\n",
              "      <th></th>\n",
              "      <th>F소프트</th>\n",
              "      <th>F소프트</th>\n",
              "      <th>F소프트</th>\n",
              "    </tr>\n",
              "  </thead>\n",
              "  <tbody>\n",
              "    <tr>\n",
              "      <th>2021-09-01</th>\n",
              "      <td>1000.0</td>\n",
              "      <td>1000.0</td>\n",
              "      <td>1000.0</td>\n",
              "    </tr>\n",
              "    <tr>\n",
              "      <th>2021-09-02</th>\n",
              "      <td>1010.0</td>\n",
              "      <td>1010.0</td>\n",
              "      <td>1010.0</td>\n",
              "    </tr>\n",
              "    <tr>\n",
              "      <th>2021-09-03</th>\n",
              "      <td>1020.0</td>\n",
              "      <td>1020.0</td>\n",
              "      <td>1020.0</td>\n",
              "    </tr>\n",
              "    <tr>\n",
              "      <th>2021-09-04</th>\n",
              "      <td>1030.0</td>\n",
              "      <td>1030.0</td>\n",
              "      <td>1030.0</td>\n",
              "    </tr>\n",
              "    <tr>\n",
              "      <th>2021-09-05</th>\n",
              "      <td>1050.0</td>\n",
              "      <td>1050.0</td>\n",
              "      <td>1050.0</td>\n",
              "    </tr>\n",
              "    <tr>\n",
              "      <th>2021-09-05</th>\n",
              "      <td>1050.0</td>\n",
              "      <td>1050.0</td>\n",
              "      <td>1050.0</td>\n",
              "    </tr>\n",
              "    <tr>\n",
              "      <th>2021-09-05</th>\n",
              "      <td>1050.0</td>\n",
              "      <td>1050.0</td>\n",
              "      <td>1050.0</td>\n",
              "    </tr>\n",
              "    <tr>\n",
              "      <th>2021-09-05</th>\n",
              "      <td>1050.0</td>\n",
              "      <td>1050.0</td>\n",
              "      <td>1050.0</td>\n",
              "    </tr>\n",
              "    <tr>\n",
              "      <th>2021-09-06</th>\n",
              "      <td>1060.0</td>\n",
              "      <td>1060.0</td>\n",
              "      <td>1060.0</td>\n",
              "    </tr>\n",
              "  </tbody>\n",
              "</table>\n",
              "</div>"
            ],
            "text/plain": [
              "              F소프트    F소프트    F소프트\n",
              "2021-09-01  1000.0  1000.0  1000.0\n",
              "2021-09-02  1010.0  1010.0  1010.0\n",
              "2021-09-03  1020.0  1020.0  1020.0\n",
              "2021-09-04  1030.0  1030.0  1030.0\n",
              "2021-09-05  1050.0  1050.0  1050.0\n",
              "2021-09-05  1050.0  1050.0  1050.0\n",
              "2021-09-05  1050.0  1050.0  1050.0\n",
              "2021-09-05  1050.0  1050.0  1050.0\n",
              "2021-09-06  1060.0  1060.0  1060.0"
            ]
          },
          "metadata": {},
          "execution_count": 87
        }
      ]
    },
    {
      "cell_type": "code",
      "metadata": {
        "id": "8-WdOUWodfWb",
        "outputId": "4afcf924-2e27-45ca-8749-bbb4e2b33e1a",
        "colab": {
          "base_uri": "https://localhost:8080/",
          "height": 300
        }
      },
      "source": [
        "df2.dropna(axis=0) #넘값 날리기"
      ],
      "execution_count": 89,
      "outputs": [
        {
          "output_type": "execute_result",
          "data": {
            "text/html": [
              "<div>\n",
              "<style scoped>\n",
              "    .dataframe tbody tr th:only-of-type {\n",
              "        vertical-align: middle;\n",
              "    }\n",
              "\n",
              "    .dataframe tbody tr th {\n",
              "        vertical-align: top;\n",
              "    }\n",
              "\n",
              "    .dataframe thead th {\n",
              "        text-align: right;\n",
              "    }\n",
              "</style>\n",
              "<table border=\"1\" class=\"dataframe\">\n",
              "  <thead>\n",
              "    <tr style=\"text-align: right;\">\n",
              "      <th></th>\n",
              "      <th>A전자</th>\n",
              "      <th>B화학</th>\n",
              "      <th>C금융</th>\n",
              "      <th>D엔터</th>\n",
              "      <th>E텔레콤</th>\n",
              "      <th>F소프트</th>\n",
              "      <th>F소프트</th>\n",
              "      <th>F소프트</th>\n",
              "    </tr>\n",
              "  </thead>\n",
              "  <tbody>\n",
              "    <tr>\n",
              "      <th>2021-09-01</th>\n",
              "      <td>1000.0</td>\n",
              "      <td>2000.0</td>\n",
              "      <td>3000.0</td>\n",
              "      <td>4000.0</td>\n",
              "      <td>1000.0</td>\n",
              "      <td>1000.0</td>\n",
              "      <td>1000.0</td>\n",
              "      <td>1000.0</td>\n",
              "    </tr>\n",
              "    <tr>\n",
              "      <th>2021-09-02</th>\n",
              "      <td>1010.0</td>\n",
              "      <td>2010.0</td>\n",
              "      <td>3010.0</td>\n",
              "      <td>4010.0</td>\n",
              "      <td>1010.0</td>\n",
              "      <td>1010.0</td>\n",
              "      <td>1010.0</td>\n",
              "      <td>1010.0</td>\n",
              "    </tr>\n",
              "    <tr>\n",
              "      <th>2021-09-03</th>\n",
              "      <td>1020.0</td>\n",
              "      <td>2020.0</td>\n",
              "      <td>3020.0</td>\n",
              "      <td>4020.0</td>\n",
              "      <td>1020.0</td>\n",
              "      <td>1020.0</td>\n",
              "      <td>1020.0</td>\n",
              "      <td>1020.0</td>\n",
              "    </tr>\n",
              "    <tr>\n",
              "      <th>2021-09-05</th>\n",
              "      <td>1050.0</td>\n",
              "      <td>2050.0</td>\n",
              "      <td>3050.0</td>\n",
              "      <td>4050.0</td>\n",
              "      <td>1050.0</td>\n",
              "      <td>1050.0</td>\n",
              "      <td>1050.0</td>\n",
              "      <td>1050.0</td>\n",
              "    </tr>\n",
              "    <tr>\n",
              "      <th>2021-09-05</th>\n",
              "      <td>1050.0</td>\n",
              "      <td>2050.0</td>\n",
              "      <td>3050.0</td>\n",
              "      <td>4050.0</td>\n",
              "      <td>1050.0</td>\n",
              "      <td>1050.0</td>\n",
              "      <td>1050.0</td>\n",
              "      <td>1050.0</td>\n",
              "    </tr>\n",
              "    <tr>\n",
              "      <th>2021-09-05</th>\n",
              "      <td>1050.0</td>\n",
              "      <td>2050.0</td>\n",
              "      <td>3050.0</td>\n",
              "      <td>4050.0</td>\n",
              "      <td>1050.0</td>\n",
              "      <td>1050.0</td>\n",
              "      <td>1050.0</td>\n",
              "      <td>1050.0</td>\n",
              "    </tr>\n",
              "    <tr>\n",
              "      <th>2021-09-05</th>\n",
              "      <td>1050.0</td>\n",
              "      <td>2050.0</td>\n",
              "      <td>3050.0</td>\n",
              "      <td>4050.0</td>\n",
              "      <td>1050.0</td>\n",
              "      <td>1050.0</td>\n",
              "      <td>1050.0</td>\n",
              "      <td>1050.0</td>\n",
              "    </tr>\n",
              "    <tr>\n",
              "      <th>2021-09-06</th>\n",
              "      <td>1060.0</td>\n",
              "      <td>2060.0</td>\n",
              "      <td>3060.0</td>\n",
              "      <td>4060.0</td>\n",
              "      <td>1060.0</td>\n",
              "      <td>1060.0</td>\n",
              "      <td>1060.0</td>\n",
              "      <td>1060.0</td>\n",
              "    </tr>\n",
              "  </tbody>\n",
              "</table>\n",
              "</div>"
            ],
            "text/plain": [
              "               A전자     B화학     C금융     D엔터    E텔레콤    F소프트    F소프트    F소프트\n",
              "2021-09-01  1000.0  2000.0  3000.0  4000.0  1000.0  1000.0  1000.0  1000.0\n",
              "2021-09-02  1010.0  2010.0  3010.0  4010.0  1010.0  1010.0  1010.0  1010.0\n",
              "2021-09-03  1020.0  2020.0  3020.0  4020.0  1020.0  1020.0  1020.0  1020.0\n",
              "2021-09-05  1050.0  2050.0  3050.0  4050.0  1050.0  1050.0  1050.0  1050.0\n",
              "2021-09-05  1050.0  2050.0  3050.0  4050.0  1050.0  1050.0  1050.0  1050.0\n",
              "2021-09-05  1050.0  2050.0  3050.0  4050.0  1050.0  1050.0  1050.0  1050.0\n",
              "2021-09-05  1050.0  2050.0  3050.0  4050.0  1050.0  1050.0  1050.0  1050.0\n",
              "2021-09-06  1060.0  2060.0  3060.0  4060.0  1060.0  1060.0  1060.0  1060.0"
            ]
          },
          "metadata": {},
          "execution_count": 89
        }
      ]
    },
    {
      "cell_type": "markdown",
      "metadata": {
        "id": "dUcnI5DbdfK-"
      },
      "source": [
        "시계열 데이터일때 어쩌징?"
      ]
    },
    {
      "cell_type": "markdown",
      "metadata": {
        "id": "nOV0ocJ7dfFn"
      },
      "source": [
        ""
      ]
    },
    {
      "cell_type": "code",
      "metadata": {
        "id": "a1-iZqTG6trm",
        "colab": {
          "base_uri": "https://localhost:8080/",
          "height": 332
        },
        "outputId": "52976f2a-50ef-464c-a91e-c7abe981cdbd"
      },
      "source": [
        "df2.fillna(0) #넘값을 0으로 채우겠다 왜냐면 nan있으면 데이터 처리 못함"
      ],
      "execution_count": 83,
      "outputs": [
        {
          "output_type": "execute_result",
          "data": {
            "text/html": [
              "<div>\n",
              "<style scoped>\n",
              "    .dataframe tbody tr th:only-of-type {\n",
              "        vertical-align: middle;\n",
              "    }\n",
              "\n",
              "    .dataframe tbody tr th {\n",
              "        vertical-align: top;\n",
              "    }\n",
              "\n",
              "    .dataframe thead th {\n",
              "        text-align: right;\n",
              "    }\n",
              "</style>\n",
              "<table border=\"1\" class=\"dataframe\">\n",
              "  <thead>\n",
              "    <tr style=\"text-align: right;\">\n",
              "      <th></th>\n",
              "      <th>A전자</th>\n",
              "      <th>B화학</th>\n",
              "      <th>C금융</th>\n",
              "      <th>D엔터</th>\n",
              "      <th>E텔레콤</th>\n",
              "      <th>F소프트</th>\n",
              "      <th>F소프트</th>\n",
              "      <th>F소프트</th>\n",
              "    </tr>\n",
              "  </thead>\n",
              "  <tbody>\n",
              "    <tr>\n",
              "      <th>2021-09-01</th>\n",
              "      <td>1000.0</td>\n",
              "      <td>2000.0</td>\n",
              "      <td>3000.0</td>\n",
              "      <td>4000.0</td>\n",
              "      <td>1000.0</td>\n",
              "      <td>1000.0</td>\n",
              "      <td>1000.0</td>\n",
              "      <td>1000.0</td>\n",
              "    </tr>\n",
              "    <tr>\n",
              "      <th>2021-09-02</th>\n",
              "      <td>1010.0</td>\n",
              "      <td>2010.0</td>\n",
              "      <td>3010.0</td>\n",
              "      <td>4010.0</td>\n",
              "      <td>1010.0</td>\n",
              "      <td>1010.0</td>\n",
              "      <td>1010.0</td>\n",
              "      <td>1010.0</td>\n",
              "    </tr>\n",
              "    <tr>\n",
              "      <th>2021-09-03</th>\n",
              "      <td>1020.0</td>\n",
              "      <td>2020.0</td>\n",
              "      <td>3020.0</td>\n",
              "      <td>4020.0</td>\n",
              "      <td>1020.0</td>\n",
              "      <td>1020.0</td>\n",
              "      <td>1020.0</td>\n",
              "      <td>1020.0</td>\n",
              "    </tr>\n",
              "    <tr>\n",
              "      <th>2021-09-04</th>\n",
              "      <td>0.0</td>\n",
              "      <td>0.0</td>\n",
              "      <td>0.0</td>\n",
              "      <td>0.0</td>\n",
              "      <td>0.0</td>\n",
              "      <td>1030.0</td>\n",
              "      <td>1030.0</td>\n",
              "      <td>1030.0</td>\n",
              "    </tr>\n",
              "    <tr>\n",
              "      <th>2021-09-05</th>\n",
              "      <td>1050.0</td>\n",
              "      <td>2050.0</td>\n",
              "      <td>3050.0</td>\n",
              "      <td>4050.0</td>\n",
              "      <td>1050.0</td>\n",
              "      <td>1050.0</td>\n",
              "      <td>1050.0</td>\n",
              "      <td>1050.0</td>\n",
              "    </tr>\n",
              "    <tr>\n",
              "      <th>2021-09-05</th>\n",
              "      <td>1050.0</td>\n",
              "      <td>2050.0</td>\n",
              "      <td>3050.0</td>\n",
              "      <td>4050.0</td>\n",
              "      <td>1050.0</td>\n",
              "      <td>1050.0</td>\n",
              "      <td>1050.0</td>\n",
              "      <td>1050.0</td>\n",
              "    </tr>\n",
              "    <tr>\n",
              "      <th>2021-09-05</th>\n",
              "      <td>1050.0</td>\n",
              "      <td>2050.0</td>\n",
              "      <td>3050.0</td>\n",
              "      <td>4050.0</td>\n",
              "      <td>1050.0</td>\n",
              "      <td>1050.0</td>\n",
              "      <td>1050.0</td>\n",
              "      <td>1050.0</td>\n",
              "    </tr>\n",
              "    <tr>\n",
              "      <th>2021-09-05</th>\n",
              "      <td>1050.0</td>\n",
              "      <td>2050.0</td>\n",
              "      <td>3050.0</td>\n",
              "      <td>4050.0</td>\n",
              "      <td>1050.0</td>\n",
              "      <td>1050.0</td>\n",
              "      <td>1050.0</td>\n",
              "      <td>1050.0</td>\n",
              "    </tr>\n",
              "    <tr>\n",
              "      <th>2021-09-06</th>\n",
              "      <td>1060.0</td>\n",
              "      <td>2060.0</td>\n",
              "      <td>3060.0</td>\n",
              "      <td>4060.0</td>\n",
              "      <td>1060.0</td>\n",
              "      <td>1060.0</td>\n",
              "      <td>1060.0</td>\n",
              "      <td>1060.0</td>\n",
              "    </tr>\n",
              "  </tbody>\n",
              "</table>\n",
              "</div>"
            ],
            "text/plain": [
              "               A전자     B화학     C금융     D엔터    E텔레콤    F소프트    F소프트    F소프트\n",
              "2021-09-01  1000.0  2000.0  3000.0  4000.0  1000.0  1000.0  1000.0  1000.0\n",
              "2021-09-02  1010.0  2010.0  3010.0  4010.0  1010.0  1010.0  1010.0  1010.0\n",
              "2021-09-03  1020.0  2020.0  3020.0  4020.0  1020.0  1020.0  1020.0  1020.0\n",
              "2021-09-04     0.0     0.0     0.0     0.0     0.0  1030.0  1030.0  1030.0\n",
              "2021-09-05  1050.0  2050.0  3050.0  4050.0  1050.0  1050.0  1050.0  1050.0\n",
              "2021-09-05  1050.0  2050.0  3050.0  4050.0  1050.0  1050.0  1050.0  1050.0\n",
              "2021-09-05  1050.0  2050.0  3050.0  4050.0  1050.0  1050.0  1050.0  1050.0\n",
              "2021-09-05  1050.0  2050.0  3050.0  4050.0  1050.0  1050.0  1050.0  1050.0\n",
              "2021-09-06  1060.0  2060.0  3060.0  4060.0  1060.0  1060.0  1060.0  1060.0"
            ]
          },
          "metadata": {},
          "execution_count": 83
        }
      ]
    },
    {
      "cell_type": "code",
      "metadata": {
        "id": "hWOukad16trn",
        "colab": {
          "base_uri": "https://localhost:8080/",
          "height": 332
        },
        "outputId": "49235536-3358-4403-ca3d-f505dd9ed482"
      },
      "source": [
        "df2.fillna(method='ffill') #NaN전의 값을 가져오는것"
      ],
      "execution_count": 84,
      "outputs": [
        {
          "output_type": "execute_result",
          "data": {
            "text/html": [
              "<div>\n",
              "<style scoped>\n",
              "    .dataframe tbody tr th:only-of-type {\n",
              "        vertical-align: middle;\n",
              "    }\n",
              "\n",
              "    .dataframe tbody tr th {\n",
              "        vertical-align: top;\n",
              "    }\n",
              "\n",
              "    .dataframe thead th {\n",
              "        text-align: right;\n",
              "    }\n",
              "</style>\n",
              "<table border=\"1\" class=\"dataframe\">\n",
              "  <thead>\n",
              "    <tr style=\"text-align: right;\">\n",
              "      <th></th>\n",
              "      <th>A전자</th>\n",
              "      <th>B화학</th>\n",
              "      <th>C금융</th>\n",
              "      <th>D엔터</th>\n",
              "      <th>E텔레콤</th>\n",
              "      <th>F소프트</th>\n",
              "      <th>F소프트</th>\n",
              "      <th>F소프트</th>\n",
              "    </tr>\n",
              "  </thead>\n",
              "  <tbody>\n",
              "    <tr>\n",
              "      <th>2021-09-01</th>\n",
              "      <td>1000.0</td>\n",
              "      <td>2000.0</td>\n",
              "      <td>3000.0</td>\n",
              "      <td>4000.0</td>\n",
              "      <td>1000.0</td>\n",
              "      <td>1000.0</td>\n",
              "      <td>1000.0</td>\n",
              "      <td>1000.0</td>\n",
              "    </tr>\n",
              "    <tr>\n",
              "      <th>2021-09-02</th>\n",
              "      <td>1010.0</td>\n",
              "      <td>2010.0</td>\n",
              "      <td>3010.0</td>\n",
              "      <td>4010.0</td>\n",
              "      <td>1010.0</td>\n",
              "      <td>1010.0</td>\n",
              "      <td>1010.0</td>\n",
              "      <td>1010.0</td>\n",
              "    </tr>\n",
              "    <tr>\n",
              "      <th>2021-09-03</th>\n",
              "      <td>1020.0</td>\n",
              "      <td>2020.0</td>\n",
              "      <td>3020.0</td>\n",
              "      <td>4020.0</td>\n",
              "      <td>1020.0</td>\n",
              "      <td>1020.0</td>\n",
              "      <td>1020.0</td>\n",
              "      <td>1020.0</td>\n",
              "    </tr>\n",
              "    <tr>\n",
              "      <th>2021-09-04</th>\n",
              "      <td>1020.0</td>\n",
              "      <td>2020.0</td>\n",
              "      <td>3020.0</td>\n",
              "      <td>4020.0</td>\n",
              "      <td>1020.0</td>\n",
              "      <td>1030.0</td>\n",
              "      <td>1030.0</td>\n",
              "      <td>1030.0</td>\n",
              "    </tr>\n",
              "    <tr>\n",
              "      <th>2021-09-05</th>\n",
              "      <td>1050.0</td>\n",
              "      <td>2050.0</td>\n",
              "      <td>3050.0</td>\n",
              "      <td>4050.0</td>\n",
              "      <td>1050.0</td>\n",
              "      <td>1050.0</td>\n",
              "      <td>1050.0</td>\n",
              "      <td>1050.0</td>\n",
              "    </tr>\n",
              "    <tr>\n",
              "      <th>2021-09-05</th>\n",
              "      <td>1050.0</td>\n",
              "      <td>2050.0</td>\n",
              "      <td>3050.0</td>\n",
              "      <td>4050.0</td>\n",
              "      <td>1050.0</td>\n",
              "      <td>1050.0</td>\n",
              "      <td>1050.0</td>\n",
              "      <td>1050.0</td>\n",
              "    </tr>\n",
              "    <tr>\n",
              "      <th>2021-09-05</th>\n",
              "      <td>1050.0</td>\n",
              "      <td>2050.0</td>\n",
              "      <td>3050.0</td>\n",
              "      <td>4050.0</td>\n",
              "      <td>1050.0</td>\n",
              "      <td>1050.0</td>\n",
              "      <td>1050.0</td>\n",
              "      <td>1050.0</td>\n",
              "    </tr>\n",
              "    <tr>\n",
              "      <th>2021-09-05</th>\n",
              "      <td>1050.0</td>\n",
              "      <td>2050.0</td>\n",
              "      <td>3050.0</td>\n",
              "      <td>4050.0</td>\n",
              "      <td>1050.0</td>\n",
              "      <td>1050.0</td>\n",
              "      <td>1050.0</td>\n",
              "      <td>1050.0</td>\n",
              "    </tr>\n",
              "    <tr>\n",
              "      <th>2021-09-06</th>\n",
              "      <td>1060.0</td>\n",
              "      <td>2060.0</td>\n",
              "      <td>3060.0</td>\n",
              "      <td>4060.0</td>\n",
              "      <td>1060.0</td>\n",
              "      <td>1060.0</td>\n",
              "      <td>1060.0</td>\n",
              "      <td>1060.0</td>\n",
              "    </tr>\n",
              "  </tbody>\n",
              "</table>\n",
              "</div>"
            ],
            "text/plain": [
              "               A전자     B화학     C금융     D엔터    E텔레콤    F소프트    F소프트    F소프트\n",
              "2021-09-01  1000.0  2000.0  3000.0  4000.0  1000.0  1000.0  1000.0  1000.0\n",
              "2021-09-02  1010.0  2010.0  3010.0  4010.0  1010.0  1010.0  1010.0  1010.0\n",
              "2021-09-03  1020.0  2020.0  3020.0  4020.0  1020.0  1020.0  1020.0  1020.0\n",
              "2021-09-04  1020.0  2020.0  3020.0  4020.0  1020.0  1030.0  1030.0  1030.0\n",
              "2021-09-05  1050.0  2050.0  3050.0  4050.0  1050.0  1050.0  1050.0  1050.0\n",
              "2021-09-05  1050.0  2050.0  3050.0  4050.0  1050.0  1050.0  1050.0  1050.0\n",
              "2021-09-05  1050.0  2050.0  3050.0  4050.0  1050.0  1050.0  1050.0  1050.0\n",
              "2021-09-05  1050.0  2050.0  3050.0  4050.0  1050.0  1050.0  1050.0  1050.0\n",
              "2021-09-06  1060.0  2060.0  3060.0  4060.0  1060.0  1060.0  1060.0  1060.0"
            ]
          },
          "metadata": {},
          "execution_count": 84
        }
      ]
    },
    {
      "cell_type": "code",
      "metadata": {
        "id": "zoXsYS3I6trn",
        "colab": {
          "base_uri": "https://localhost:8080/",
          "height": 332
        },
        "outputId": "5824ae4c-97d0-4628-e5e2-35ce1c163e98"
      },
      "source": [
        "df2.fillna(method='bfill') #NaN후의 값을 가져오는것"
      ],
      "execution_count": 85,
      "outputs": [
        {
          "output_type": "execute_result",
          "data": {
            "text/html": [
              "<div>\n",
              "<style scoped>\n",
              "    .dataframe tbody tr th:only-of-type {\n",
              "        vertical-align: middle;\n",
              "    }\n",
              "\n",
              "    .dataframe tbody tr th {\n",
              "        vertical-align: top;\n",
              "    }\n",
              "\n",
              "    .dataframe thead th {\n",
              "        text-align: right;\n",
              "    }\n",
              "</style>\n",
              "<table border=\"1\" class=\"dataframe\">\n",
              "  <thead>\n",
              "    <tr style=\"text-align: right;\">\n",
              "      <th></th>\n",
              "      <th>A전자</th>\n",
              "      <th>B화학</th>\n",
              "      <th>C금융</th>\n",
              "      <th>D엔터</th>\n",
              "      <th>E텔레콤</th>\n",
              "      <th>F소프트</th>\n",
              "      <th>F소프트</th>\n",
              "      <th>F소프트</th>\n",
              "    </tr>\n",
              "  </thead>\n",
              "  <tbody>\n",
              "    <tr>\n",
              "      <th>2021-09-01</th>\n",
              "      <td>1000.0</td>\n",
              "      <td>2000.0</td>\n",
              "      <td>3000.0</td>\n",
              "      <td>4000.0</td>\n",
              "      <td>1000.0</td>\n",
              "      <td>1000.0</td>\n",
              "      <td>1000.0</td>\n",
              "      <td>1000.0</td>\n",
              "    </tr>\n",
              "    <tr>\n",
              "      <th>2021-09-02</th>\n",
              "      <td>1010.0</td>\n",
              "      <td>2010.0</td>\n",
              "      <td>3010.0</td>\n",
              "      <td>4010.0</td>\n",
              "      <td>1010.0</td>\n",
              "      <td>1010.0</td>\n",
              "      <td>1010.0</td>\n",
              "      <td>1010.0</td>\n",
              "    </tr>\n",
              "    <tr>\n",
              "      <th>2021-09-03</th>\n",
              "      <td>1020.0</td>\n",
              "      <td>2020.0</td>\n",
              "      <td>3020.0</td>\n",
              "      <td>4020.0</td>\n",
              "      <td>1020.0</td>\n",
              "      <td>1020.0</td>\n",
              "      <td>1020.0</td>\n",
              "      <td>1020.0</td>\n",
              "    </tr>\n",
              "    <tr>\n",
              "      <th>2021-09-04</th>\n",
              "      <td>1050.0</td>\n",
              "      <td>2050.0</td>\n",
              "      <td>3050.0</td>\n",
              "      <td>4050.0</td>\n",
              "      <td>1050.0</td>\n",
              "      <td>1030.0</td>\n",
              "      <td>1030.0</td>\n",
              "      <td>1030.0</td>\n",
              "    </tr>\n",
              "    <tr>\n",
              "      <th>2021-09-05</th>\n",
              "      <td>1050.0</td>\n",
              "      <td>2050.0</td>\n",
              "      <td>3050.0</td>\n",
              "      <td>4050.0</td>\n",
              "      <td>1050.0</td>\n",
              "      <td>1050.0</td>\n",
              "      <td>1050.0</td>\n",
              "      <td>1050.0</td>\n",
              "    </tr>\n",
              "    <tr>\n",
              "      <th>2021-09-05</th>\n",
              "      <td>1050.0</td>\n",
              "      <td>2050.0</td>\n",
              "      <td>3050.0</td>\n",
              "      <td>4050.0</td>\n",
              "      <td>1050.0</td>\n",
              "      <td>1050.0</td>\n",
              "      <td>1050.0</td>\n",
              "      <td>1050.0</td>\n",
              "    </tr>\n",
              "    <tr>\n",
              "      <th>2021-09-05</th>\n",
              "      <td>1050.0</td>\n",
              "      <td>2050.0</td>\n",
              "      <td>3050.0</td>\n",
              "      <td>4050.0</td>\n",
              "      <td>1050.0</td>\n",
              "      <td>1050.0</td>\n",
              "      <td>1050.0</td>\n",
              "      <td>1050.0</td>\n",
              "    </tr>\n",
              "    <tr>\n",
              "      <th>2021-09-05</th>\n",
              "      <td>1050.0</td>\n",
              "      <td>2050.0</td>\n",
              "      <td>3050.0</td>\n",
              "      <td>4050.0</td>\n",
              "      <td>1050.0</td>\n",
              "      <td>1050.0</td>\n",
              "      <td>1050.0</td>\n",
              "      <td>1050.0</td>\n",
              "    </tr>\n",
              "    <tr>\n",
              "      <th>2021-09-06</th>\n",
              "      <td>1060.0</td>\n",
              "      <td>2060.0</td>\n",
              "      <td>3060.0</td>\n",
              "      <td>4060.0</td>\n",
              "      <td>1060.0</td>\n",
              "      <td>1060.0</td>\n",
              "      <td>1060.0</td>\n",
              "      <td>1060.0</td>\n",
              "    </tr>\n",
              "  </tbody>\n",
              "</table>\n",
              "</div>"
            ],
            "text/plain": [
              "               A전자     B화학     C금융     D엔터    E텔레콤    F소프트    F소프트    F소프트\n",
              "2021-09-01  1000.0  2000.0  3000.0  4000.0  1000.0  1000.0  1000.0  1000.0\n",
              "2021-09-02  1010.0  2010.0  3010.0  4010.0  1010.0  1010.0  1010.0  1010.0\n",
              "2021-09-03  1020.0  2020.0  3020.0  4020.0  1020.0  1020.0  1020.0  1020.0\n",
              "2021-09-04  1050.0  2050.0  3050.0  4050.0  1050.0  1030.0  1030.0  1030.0\n",
              "2021-09-05  1050.0  2050.0  3050.0  4050.0  1050.0  1050.0  1050.0  1050.0\n",
              "2021-09-05  1050.0  2050.0  3050.0  4050.0  1050.0  1050.0  1050.0  1050.0\n",
              "2021-09-05  1050.0  2050.0  3050.0  4050.0  1050.0  1050.0  1050.0  1050.0\n",
              "2021-09-05  1050.0  2050.0  3050.0  4050.0  1050.0  1050.0  1050.0  1050.0\n",
              "2021-09-06  1060.0  2060.0  3060.0  4060.0  1060.0  1060.0  1060.0  1060.0"
            ]
          },
          "metadata": {},
          "execution_count": 85
        }
      ]
    },
    {
      "cell_type": "markdown",
      "metadata": {
        "id": "-yXgVDorevBF"
      },
      "source": [
        "나의 가설은 앞뒤 값 평균이라고 생각하는데 이 코드는 나중에 찾아 써보는걸로/"
      ]
    },
    {
      "cell_type": "markdown",
      "metadata": {
        "id": "TG0qw8J1fjbr"
      },
      "source": [
        "### 중복제거"
      ]
    },
    {
      "cell_type": "code",
      "metadata": {
        "colab": {
          "base_uri": "https://localhost:8080/",
          "height": 238
        },
        "id": "LmT21LUafjJZ",
        "outputId": "0d63e5bc-f162-4cbb-8fa2-df4cb9af1d2f"
      },
      "source": [
        "df3 = df2.iloc[0]\n",
        "df3 = df3 \n",
        "df3.name = pd.to_datetime('20210906') # index\n",
        "df3\n",
        "\n",
        "df2 = df2.append(df3)\n",
        "df2.drop_duplicates()"
      ],
      "execution_count": 91,
      "outputs": [
        {
          "output_type": "execute_result",
          "data": {
            "text/html": [
              "<div>\n",
              "<style scoped>\n",
              "    .dataframe tbody tr th:only-of-type {\n",
              "        vertical-align: middle;\n",
              "    }\n",
              "\n",
              "    .dataframe tbody tr th {\n",
              "        vertical-align: top;\n",
              "    }\n",
              "\n",
              "    .dataframe thead th {\n",
              "        text-align: right;\n",
              "    }\n",
              "</style>\n",
              "<table border=\"1\" class=\"dataframe\">\n",
              "  <thead>\n",
              "    <tr style=\"text-align: right;\">\n",
              "      <th></th>\n",
              "      <th>A전자</th>\n",
              "      <th>B화학</th>\n",
              "      <th>C금융</th>\n",
              "      <th>D엔터</th>\n",
              "      <th>E텔레콤</th>\n",
              "      <th>F소프트</th>\n",
              "      <th>F소프트</th>\n",
              "      <th>F소프트</th>\n",
              "    </tr>\n",
              "  </thead>\n",
              "  <tbody>\n",
              "    <tr>\n",
              "      <th>2021-09-01</th>\n",
              "      <td>1000.0</td>\n",
              "      <td>2000.0</td>\n",
              "      <td>3000.0</td>\n",
              "      <td>4000.0</td>\n",
              "      <td>1000.0</td>\n",
              "      <td>1000.0</td>\n",
              "      <td>1000.0</td>\n",
              "      <td>1000.0</td>\n",
              "    </tr>\n",
              "    <tr>\n",
              "      <th>2021-09-02</th>\n",
              "      <td>1010.0</td>\n",
              "      <td>2010.0</td>\n",
              "      <td>3010.0</td>\n",
              "      <td>4010.0</td>\n",
              "      <td>1010.0</td>\n",
              "      <td>1010.0</td>\n",
              "      <td>1010.0</td>\n",
              "      <td>1010.0</td>\n",
              "    </tr>\n",
              "    <tr>\n",
              "      <th>2021-09-03</th>\n",
              "      <td>1020.0</td>\n",
              "      <td>2020.0</td>\n",
              "      <td>3020.0</td>\n",
              "      <td>4020.0</td>\n",
              "      <td>1020.0</td>\n",
              "      <td>1020.0</td>\n",
              "      <td>1020.0</td>\n",
              "      <td>1020.0</td>\n",
              "    </tr>\n",
              "    <tr>\n",
              "      <th>2021-09-04</th>\n",
              "      <td>NaN</td>\n",
              "      <td>NaN</td>\n",
              "      <td>NaN</td>\n",
              "      <td>NaN</td>\n",
              "      <td>NaN</td>\n",
              "      <td>1030.0</td>\n",
              "      <td>1030.0</td>\n",
              "      <td>1030.0</td>\n",
              "    </tr>\n",
              "    <tr>\n",
              "      <th>2021-09-05</th>\n",
              "      <td>1050.0</td>\n",
              "      <td>2050.0</td>\n",
              "      <td>3050.0</td>\n",
              "      <td>4050.0</td>\n",
              "      <td>1050.0</td>\n",
              "      <td>1050.0</td>\n",
              "      <td>1050.0</td>\n",
              "      <td>1050.0</td>\n",
              "    </tr>\n",
              "    <tr>\n",
              "      <th>2021-09-06</th>\n",
              "      <td>1060.0</td>\n",
              "      <td>2060.0</td>\n",
              "      <td>3060.0</td>\n",
              "      <td>4060.0</td>\n",
              "      <td>1060.0</td>\n",
              "      <td>1060.0</td>\n",
              "      <td>1060.0</td>\n",
              "      <td>1060.0</td>\n",
              "    </tr>\n",
              "  </tbody>\n",
              "</table>\n",
              "</div>"
            ],
            "text/plain": [
              "               A전자     B화학     C금융     D엔터    E텔레콤    F소프트    F소프트    F소프트\n",
              "2021-09-01  1000.0  2000.0  3000.0  4000.0  1000.0  1000.0  1000.0  1000.0\n",
              "2021-09-02  1010.0  2010.0  3010.0  4010.0  1010.0  1010.0  1010.0  1010.0\n",
              "2021-09-03  1020.0  2020.0  3020.0  4020.0  1020.0  1020.0  1020.0  1020.0\n",
              "2021-09-04     NaN     NaN     NaN     NaN     NaN  1030.0  1030.0  1030.0\n",
              "2021-09-05  1050.0  2050.0  3050.0  4050.0  1050.0  1050.0  1050.0  1050.0\n",
              "2021-09-06  1060.0  2060.0  3060.0  4060.0  1060.0  1060.0  1060.0  1060.0"
            ]
          },
          "metadata": {},
          "execution_count": 91
        }
      ]
    },
    {
      "cell_type": "code",
      "metadata": {
        "id": "giWDyf_HgEOe"
      },
      "source": [
        "df3.iloc[]"
      ],
      "execution_count": null,
      "outputs": []
    }
  ]
}