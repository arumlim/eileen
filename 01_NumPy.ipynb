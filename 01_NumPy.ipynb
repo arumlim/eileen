{
  "nbformat": 4,
  "nbformat_minor": 0,
  "metadata": {
    "kernelspec": {
      "display_name": "Python 3 (ipykernel)",
      "language": "python",
      "name": "python3"
    },
    "language_info": {
      "codemirror_mode": {
        "name": "ipython",
        "version": 3
      },
      "file_extension": ".py",
      "mimetype": "text/x-python",
      "name": "python",
      "nbconvert_exporter": "python",
      "pygments_lexer": "ipython3",
      "version": "3.9.6"
    },
    "colab": {
      "name": "01. NumPy.ipynb",
      "provenance": [],
      "collapsed_sections": [],
      "include_colab_link": true
    }
  },
  "cells": [
    {
      "cell_type": "markdown",
      "metadata": {
        "id": "view-in-github",
        "colab_type": "text"
      },
      "source": [
        "<a href=\"https://colab.research.google.com/github/arumlim/eileen/blob/master/01_NumPy.ipynb\" target=\"_parent\"><img src=\"https://colab.research.google.com/assets/colab-badge.svg\" alt=\"Open In Colab\"/></a>"
      ]
    },
    {
      "cell_type": "code",
      "metadata": {
        "id": "f-eTzBoO1PGM"
      },
      "source": [
        "import numpy as np"
      ],
      "execution_count": 6,
      "outputs": []
    },
    {
      "cell_type": "markdown",
      "metadata": {
        "id": "B4LAC_Y-6SaG"
      },
      "source": [
        "### array 생성하기"
      ]
    },
    {
      "cell_type": "code",
      "metadata": {
        "id": "kKOv-B-W1PGQ",
        "colab": {
          "base_uri": "https://localhost:8080/"
        },
        "outputId": "4d60d983-a169-4647-9d47-bc059729dbd1"
      },
      "source": [
        "# 1차원\n",
        "array_1D = np.array([1,2,3])\n",
        "print(array_1D)"
      ],
      "execution_count": 7,
      "outputs": [
        {
          "output_type": "stream",
          "name": "stdout",
          "text": [
            "[1 2 3]\n"
          ]
        }
      ]
    },
    {
      "cell_type": "code",
      "metadata": {
        "id": "XMmsR20p1PGS",
        "outputId": "12698c04-de62-4913-a831-f45b071b2771"
      },
      "source": [
        "# 2차원 array\n",
        "array_2D = np.array([[1,2,3],\n",
        "               [4,5,6]])\n",
        "print(array_2D)"
      ],
      "execution_count": null,
      "outputs": [
        {
          "name": "stdout",
          "output_type": "stream",
          "text": [
            "[[1 2 3]\n",
            " [4 5 6]]\n"
          ]
        }
      ]
    },
    {
      "cell_type": "code",
      "metadata": {
        "id": "cbt_dmPi1PGT",
        "outputId": "2994c063-fe18-4470-9ce2-7b390cec1c2d"
      },
      "source": [
        "# 3차원 array\n",
        "array_3D = np.array([[[1,2,3],\n",
        "                [4,5,6]],\n",
        "               [[1,2,3],\n",
        "                [4,5,6]]])\n",
        "print(array_3D)"
      ],
      "execution_count": null,
      "outputs": [
        {
          "name": "stdout",
          "output_type": "stream",
          "text": [
            "[[[1 2 3]\n",
            "  [4 5 6]]\n",
            "\n",
            " [[1 2 3]\n",
            "  [4 5 6]]]\n"
          ]
        }
      ]
    },
    {
      "cell_type": "markdown",
      "metadata": {
        "id": "Pgi-zuIY6VWz"
      },
      "source": [
        "### array 기초 통계량 활용하기"
      ]
    },
    {
      "cell_type": "code",
      "metadata": {
        "id": "6EUCZFPh1PGT",
        "outputId": "22df4fe6-a63c-40fc-ecb7-9c93013b94d8"
      },
      "source": [
        "array_2D"
      ],
      "execution_count": null,
      "outputs": [
        {
          "data": {
            "text/plain": [
              "array([[1, 2, 3],\n",
              "       [4, 5, 6]])"
            ]
          },
          "execution_count": 9,
          "metadata": {},
          "output_type": "execute_result"
        }
      ]
    },
    {
      "cell_type": "code",
      "metadata": {
        "id": "Wqd-evoq1PGU",
        "outputId": "0e074036-2ba8-4f47-d906-4a75bf70ee57"
      },
      "source": [
        "array_2D.max()"
      ],
      "execution_count": null,
      "outputs": [
        {
          "data": {
            "text/plain": [
              "6"
            ]
          },
          "execution_count": 5,
          "metadata": {},
          "output_type": "execute_result"
        }
      ]
    },
    {
      "cell_type": "code",
      "metadata": {
        "id": "t1jHrNg81PGU",
        "outputId": "6a0223fd-a08b-4091-ff99-534426366250"
      },
      "source": [
        "array_2D.mean()"
      ],
      "execution_count": null,
      "outputs": [
        {
          "data": {
            "text/plain": [
              "3.5"
            ]
          },
          "execution_count": 6,
          "metadata": {},
          "output_type": "execute_result"
        }
      ]
    },
    {
      "cell_type": "code",
      "metadata": {
        "id": "rPgWNEB-1PGV",
        "outputId": "772cbe4e-6682-4bc1-e6fb-386d54df9f1c"
      },
      "source": [
        "array_2D.min()"
      ],
      "execution_count": null,
      "outputs": [
        {
          "data": {
            "text/plain": [
              "1"
            ]
          },
          "execution_count": 7,
          "metadata": {},
          "output_type": "execute_result"
        }
      ]
    },
    {
      "cell_type": "code",
      "metadata": {
        "id": "iKisPb8o1PGW",
        "outputId": "eaf21a3f-616f-4d0c-b9b3-532b89954725"
      },
      "source": [
        "array_2D.sum()"
      ],
      "execution_count": null,
      "outputs": [
        {
          "data": {
            "text/plain": [
              "21"
            ]
          },
          "execution_count": 8,
          "metadata": {},
          "output_type": "execute_result"
        }
      ]
    },
    {
      "cell_type": "markdown",
      "metadata": {
        "id": "KS9NGV-q6YiM"
      },
      "source": [
        "### array 모양 변경하기 "
      ]
    },
    {
      "cell_type": "code",
      "metadata": {
        "id": "9JemlvDU1PGY",
        "outputId": "6374bd08-c97e-4f6d-c284-c295576b32ea"
      },
      "source": [
        "reshape_array = np.arange(15)\n",
        "print(reshape_array)"
      ],
      "execution_count": null,
      "outputs": [
        {
          "name": "stdout",
          "output_type": "stream",
          "text": [
            "[ 0  1  2  3  4  5  6  7  8  9 10 11 12 13 14]\n"
          ]
        }
      ]
    },
    {
      "cell_type": "code",
      "metadata": {
        "id": "2Mkaa8qU1PGY",
        "outputId": "cd4c0801-589d-4885-dbfb-1be2aa84d1e4"
      },
      "source": [
        "reshape_array = reshape_array.reshape(3, 5)\n",
        "print(reshape_array)"
      ],
      "execution_count": null,
      "outputs": [
        {
          "name": "stdout",
          "output_type": "stream",
          "text": [
            "[[ 0  1  2  3  4]\n",
            " [ 5  6  7  8  9]\n",
            " [10 11 12 13 14]]\n"
          ]
        }
      ]
    },
    {
      "cell_type": "code",
      "metadata": {
        "id": "sECjTDV21PGZ",
        "outputId": "dbcc1f52-84e1-4bde-a1b7-1d11e0c4f61e"
      },
      "source": [
        "reshape_array.shape"
      ],
      "execution_count": null,
      "outputs": [
        {
          "data": {
            "text/plain": [
              "(3, 5)"
            ]
          },
          "execution_count": 8,
          "metadata": {},
          "output_type": "execute_result"
        }
      ]
    },
    {
      "cell_type": "code",
      "metadata": {
        "id": "QP8kJa0G1PGZ",
        "outputId": "a0e722ab-25bf-44a0-fab4-4a51af1fc74b"
      },
      "source": [
        "reshape_array.ndim"
      ],
      "execution_count": null,
      "outputs": [
        {
          "data": {
            "text/plain": [
              "2"
            ]
          },
          "execution_count": 10,
          "metadata": {},
          "output_type": "execute_result"
        }
      ]
    },
    {
      "cell_type": "code",
      "metadata": {
        "id": "oisNLsUt1PGa",
        "outputId": "5797835c-8415-443d-f68b-30d83ecd9c95"
      },
      "source": [
        "reshape_array.size"
      ],
      "execution_count": null,
      "outputs": [
        {
          "data": {
            "text/plain": [
              "15"
            ]
          },
          "execution_count": 11,
          "metadata": {},
          "output_type": "execute_result"
        }
      ]
    },
    {
      "cell_type": "code",
      "metadata": {
        "id": "nDh6fS-S1PGa",
        "outputId": "7aab1038-dd98-4a6b-e09b-a99cfcf07df7"
      },
      "source": [
        "array_1D = np.arange(0, 100, 5)\n",
        "print(array_1D)"
      ],
      "execution_count": null,
      "outputs": [
        {
          "name": "stdout",
          "output_type": "stream",
          "text": [
            "[ 0  5 10 15 20 25 30 35 40 45 50 55 60 65 70 75 80 85 90 95]\n"
          ]
        }
      ]
    },
    {
      "cell_type": "code",
      "metadata": {
        "id": "LR76qLeO1PGa",
        "outputId": "cbbe29f9-8348-46de-f2ae-93ae79e396b5"
      },
      "source": [
        "reshape_array_3D = array_1D.reshape(2, 2, 5)\n",
        "reshape_array_3D"
      ],
      "execution_count": null,
      "outputs": [
        {
          "data": {
            "text/plain": [
              "array([[[ 0,  5, 10, 15, 20],\n",
              "        [25, 30, 35, 40, 45]],\n",
              "\n",
              "       [[50, 55, 60, 65, 70],\n",
              "        [75, 80, 85, 90, 95]]])"
            ]
          },
          "execution_count": 14,
          "metadata": {},
          "output_type": "execute_result"
        }
      ]
    },
    {
      "cell_type": "markdown",
      "metadata": {
        "id": "cadBdDun6hd3"
      },
      "source": [
        "### numpy array operation"
      ]
    },
    {
      "cell_type": "code",
      "metadata": {
        "id": "iwFz3_Wf1PGb"
      },
      "source": [
        "array1 = np.array([[1, 0],\n",
        "               [0, 1]])\n",
        "array2 = np.array([[1, 2],\n",
        "               [3, 4]])"
      ],
      "execution_count": null,
      "outputs": []
    },
    {
      "cell_type": "code",
      "metadata": {
        "id": "Uc8nW1Gw1PGb",
        "outputId": "7e66323d-e6e3-4cc3-a551-6ace7bda7b50"
      },
      "source": [
        "array1 + array2"
      ],
      "execution_count": null,
      "outputs": [
        {
          "data": {
            "text/plain": [
              "array([[2, 2],\n",
              "       [3, 5]])"
            ]
          },
          "execution_count": 28,
          "metadata": {},
          "output_type": "execute_result"
        }
      ]
    },
    {
      "cell_type": "code",
      "metadata": {
        "id": "HNkJFX8I1PGb",
        "outputId": "5aac10d1-928f-42b1-e7f4-9880605d9e14"
      },
      "source": [
        "array1 - array2"
      ],
      "execution_count": null,
      "outputs": [
        {
          "data": {
            "text/plain": [
              "array([[ 0, -2],\n",
              "       [-3, -3]])"
            ]
          },
          "execution_count": 29,
          "metadata": {},
          "output_type": "execute_result"
        }
      ]
    },
    {
      "cell_type": "code",
      "metadata": {
        "id": "LCdwJ-f01PGc",
        "outputId": "85ad3e5f-03aa-4b61-c114-d33fbf7c2045"
      },
      "source": [
        "array1 * array2"
      ],
      "execution_count": null,
      "outputs": [
        {
          "data": {
            "text/plain": [
              "array([[1, 0],\n",
              "       [0, 4]])"
            ]
          },
          "execution_count": 30,
          "metadata": {},
          "output_type": "execute_result"
        }
      ]
    },
    {
      "cell_type": "code",
      "metadata": {
        "id": "XUVEN_xA1PGc",
        "outputId": "ddfa28a8-27a1-4ecf-d73c-53d493d8cc29"
      },
      "source": [
        "array1 / array2"
      ],
      "execution_count": null,
      "outputs": [
        {
          "data": {
            "text/plain": [
              "array([[1.  , 0.  ],\n",
              "       [0.  , 0.25]])"
            ]
          },
          "execution_count": 31,
          "metadata": {},
          "output_type": "execute_result"
        }
      ]
    },
    {
      "cell_type": "code",
      "metadata": {
        "id": "a3t1IsvO1PGc",
        "outputId": "ca0280ee-302a-42ff-d51c-758b4a197120"
      },
      "source": [
        "array1 + 1"
      ],
      "execution_count": null,
      "outputs": [
        {
          "data": {
            "text/plain": [
              "array([[2, 1],\n",
              "       [1, 2]])"
            ]
          },
          "execution_count": 33,
          "metadata": {},
          "output_type": "execute_result"
        }
      ]
    },
    {
      "cell_type": "code",
      "metadata": {
        "id": "_saKCcI81PGc",
        "outputId": "49afdad4-cc95-4ac8-d7bf-247b9c5108a8"
      },
      "source": [
        "array1 - 1"
      ],
      "execution_count": null,
      "outputs": [
        {
          "data": {
            "text/plain": [
              "array([[ 0, -1],\n",
              "       [-1,  0]])"
            ]
          },
          "execution_count": 34,
          "metadata": {},
          "output_type": "execute_result"
        }
      ]
    },
    {
      "cell_type": "code",
      "metadata": {
        "id": "4_1_zWB61PGc",
        "outputId": "06fad9d1-c6e8-4d67-bcfb-7ad4f7ef2a93"
      },
      "source": [
        "array1 * 2"
      ],
      "execution_count": null,
      "outputs": [
        {
          "data": {
            "text/plain": [
              "array([[2, 0],\n",
              "       [0, 2]])"
            ]
          },
          "execution_count": 35,
          "metadata": {},
          "output_type": "execute_result"
        }
      ]
    },
    {
      "cell_type": "code",
      "metadata": {
        "id": "cBj9bfZ01PGd",
        "outputId": "20f059d4-6516-4256-8334-08582668ce88"
      },
      "source": [
        "array1 / 2"
      ],
      "execution_count": null,
      "outputs": [
        {
          "data": {
            "text/plain": [
              "array([[0.5, 0. ],\n",
              "       [0. , 0.5]])"
            ]
          },
          "execution_count": 36,
          "metadata": {},
          "output_type": "execute_result"
        }
      ]
    },
    {
      "cell_type": "code",
      "metadata": {
        "id": "DiNzRkFa1PGd",
        "outputId": "3ef6d81e-7d0f-43da-bd19-e1336e1a532e"
      },
      "source": [
        "np.dot(array1, array2)"
      ],
      "execution_count": null,
      "outputs": [
        {
          "data": {
            "text/plain": [
              "array([[1, 2],\n",
              "       [3, 4]])"
            ]
          },
          "execution_count": 37,
          "metadata": {},
          "output_type": "execute_result"
        }
      ]
    },
    {
      "cell_type": "code",
      "metadata": {
        "id": "-8ovCWga1PGd",
        "outputId": "efbb6378-ac92-4e38-f72a-c9668cc79d42"
      },
      "source": [
        "n3 = np.arange(12).reshape(3,4)\n",
        "print(n3)"
      ],
      "execution_count": null,
      "outputs": [
        {
          "name": "stdout",
          "output_type": "stream",
          "text": [
            "[[ 0  1  2  3]\n",
            " [ 4  5  6  7]\n",
            " [ 8  9 10 11]]\n"
          ]
        }
      ]
    },
    {
      "cell_type": "code",
      "metadata": {
        "id": "oxDr4iD01PGd",
        "outputId": "c70bf668-6524-49a9-e065-f970b21d568f"
      },
      "source": [
        "print(n3.max())     # 최대값\n",
        "print(n3.min())     # 최소값\n",
        "print(n3.sum())     # 전체 합\n",
        "print(n3.mean())     # 평균값\n",
        "print(n3.std())     # 표준편차\n",
        "print(n3.var())     # 분산\n",
        "print(n3.cumsum())     # 각 원소의 누적 합\n",
        "print(n3.cumprod())     # 각 원소의 누적 곱"
      ],
      "execution_count": null,
      "outputs": [
        {
          "name": "stdout",
          "output_type": "stream",
          "text": [
            "11\n",
            "0\n",
            "66\n",
            "5.5\n",
            "3.452052529534663\n",
            "11.916666666666666\n",
            "[ 0  1  3  6 10 15 21 28 36 45 55 66]\n",
            "[0 0 0 0 0 0 0 0 0 0 0 0]\n"
          ]
        }
      ]
    },
    {
      "cell_type": "code",
      "metadata": {
        "id": "7LZx836P1PGd",
        "outputId": "03901545-6a0c-4338-a0d2-64f169c80ed1"
      },
      "source": [
        "n3.sum(axis=0)     # 열 합계"
      ],
      "execution_count": null,
      "outputs": [
        {
          "data": {
            "text/plain": [
              "array([12, 15, 18, 21])"
            ]
          },
          "execution_count": 27,
          "metadata": {},
          "output_type": "execute_result"
        }
      ]
    },
    {
      "cell_type": "code",
      "metadata": {
        "id": "F35mUW711PGd",
        "outputId": "5e168d9b-5c93-4f9a-e4d9-35880d3e0c2a"
      },
      "source": [
        "n3.sum(axis=1)     # 행 합계"
      ],
      "execution_count": null,
      "outputs": [
        {
          "data": {
            "text/plain": [
              "array([ 6, 22, 38])"
            ]
          },
          "execution_count": 28,
          "metadata": {},
          "output_type": "execute_result"
        }
      ]
    },
    {
      "cell_type": "code",
      "metadata": {
        "id": "mskkt-2m1PGd",
        "outputId": "31c1ebf5-9d48-4cd7-d016-f281761ed715"
      },
      "source": [
        "n3.max(axis=1)     # 각 행에서 최대값"
      ],
      "execution_count": null,
      "outputs": [
        {
          "data": {
            "text/plain": [
              "array([ 3,  7, 11])"
            ]
          },
          "execution_count": 29,
          "metadata": {},
          "output_type": "execute_result"
        }
      ]
    },
    {
      "cell_type": "code",
      "metadata": {
        "id": "WlcQF6W11PGd",
        "outputId": "1ae23984-a71a-4da5-aee2-3503d07c2449"
      },
      "source": [
        "n3.mean(axis=0)     # 각 열의 평균값"
      ],
      "execution_count": null,
      "outputs": [
        {
          "data": {
            "text/plain": [
              "array([4., 5., 6., 7.])"
            ]
          },
          "execution_count": 30,
          "metadata": {},
          "output_type": "execute_result"
        }
      ]
    },
    {
      "cell_type": "markdown",
      "metadata": {
        "id": "GUtF0n426mlg"
      },
      "source": [
        "### array stack"
      ]
    },
    {
      "cell_type": "code",
      "metadata": {
        "id": "IzqYcH_c1PGe",
        "outputId": "a3040b91-ff99-4245-931e-4c90f1e0c281"
      },
      "source": [
        "v1 = np.arange(11, 16)\n",
        "print(v1)\n",
        "v2 = v1 + 10\n",
        "print(v2)\n",
        "v3 = v2 + 10\n",
        "print(v3)"
      ],
      "execution_count": null,
      "outputs": [
        {
          "name": "stdout",
          "output_type": "stream",
          "text": [
            "[11 12 13 14 15]\n",
            "[21 22 23 24 25]\n",
            "[31 32 33 34 35]\n"
          ]
        }
      ]
    },
    {
      "cell_type": "code",
      "metadata": {
        "id": "JVQe4cXP1PGe",
        "outputId": "dd7d3e1f-61e5-4b2f-905a-503b491d08bc"
      },
      "source": [
        "v = np.vstack((v1, v2))\n",
        "v = np.vstack((v, v3))\n",
        "print(v)"
      ],
      "execution_count": null,
      "outputs": [
        {
          "name": "stdout",
          "output_type": "stream",
          "text": [
            "[[11 12 13 14 15]\n",
            " [21 22 23 24 25]\n",
            " [31 32 33 34 35]]\n"
          ]
        }
      ]
    },
    {
      "cell_type": "code",
      "metadata": {
        "id": "uPjvdSGe1PGe"
      },
      "source": [
        "v = np.array([[11, 12, 13, 14, 15],\n",
        "              [21, 22, 23, 24, 25],\n",
        "              [31, 32, 33, 34, 35],\n",
        "              [41, 42, 43, 44, 45]])"
      ],
      "execution_count": null,
      "outputs": []
    },
    {
      "cell_type": "code",
      "metadata": {
        "id": "dF9Y4h471PGe",
        "outputId": "a911aae3-6db6-41d9-f5bd-a094186121ac"
      },
      "source": [
        "v[1, 2]"
      ],
      "execution_count": null,
      "outputs": [
        {
          "data": {
            "text/plain": [
              "23"
            ]
          },
          "execution_count": 35,
          "metadata": {},
          "output_type": "execute_result"
        }
      ]
    },
    {
      "cell_type": "code",
      "metadata": {
        "id": "Htj-umzO1PGe",
        "outputId": "9084a705-facf-4ac3-deb9-7a2824b2980b"
      },
      "source": [
        "v[1][2]"
      ],
      "execution_count": null,
      "outputs": [
        {
          "data": {
            "text/plain": [
              "23"
            ]
          },
          "execution_count": 36,
          "metadata": {},
          "output_type": "execute_result"
        }
      ]
    },
    {
      "cell_type": "code",
      "metadata": {
        "id": "dtsZMrLS1PGe",
        "outputId": "8b012bec-87f3-443f-bb47-fd864a99f9a8"
      },
      "source": [
        "v[:, 1]"
      ],
      "execution_count": null,
      "outputs": [
        {
          "data": {
            "text/plain": [
              "array([12, 22, 32, 42])"
            ]
          },
          "execution_count": 37,
          "metadata": {},
          "output_type": "execute_result"
        }
      ]
    },
    {
      "cell_type": "code",
      "metadata": {
        "id": "4qPrHXY51PGf",
        "outputId": "f8b645d8-36d5-40ee-9ca5-c073c5a32497"
      },
      "source": [
        "v[1:3, 1]"
      ],
      "execution_count": null,
      "outputs": [
        {
          "data": {
            "text/plain": [
              "array([22, 32])"
            ]
          },
          "execution_count": 38,
          "metadata": {},
          "output_type": "execute_result"
        }
      ]
    },
    {
      "cell_type": "code",
      "metadata": {
        "id": "0O0OwJUL1PGf",
        "outputId": "494cdaaa-f1e1-4f65-f966-577219225d5f"
      },
      "source": [
        "v[1, :]"
      ],
      "execution_count": null,
      "outputs": [
        {
          "data": {
            "text/plain": [
              "array([21, 22, 23, 24, 25])"
            ]
          },
          "execution_count": 39,
          "metadata": {},
          "output_type": "execute_result"
        }
      ]
    }
  ]
}